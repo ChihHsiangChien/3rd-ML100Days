{
 "cells": [
  {
   "cell_type": "markdown",
   "metadata": {
    "colab_type": "text",
    "id": "hDav-MESk3XP"
   },
   "source": [
    "## Work\n",
    "1. 請嘗試寫一個 callback 用來記錄各類別在訓練過程中，對驗證集的 True Positive 與 True Negative"
   ]
  },
  {
   "cell_type": "code",
   "execution_count": 1,
   "metadata": {
    "colab": {
     "base_uri": "https://localhost:8080/",
     "height": 80
    },
    "colab_type": "code",
    "id": "pHPcG2ZSk3XV",
    "outputId": "1f94d037-c271-4f43-82e3-4060d751b638"
   },
   "outputs": [
    {
     "name": "stderr",
     "output_type": "stream",
     "text": [
      "Using TensorFlow backend.\n"
     ]
    },
    {
     "data": {
      "text/html": [
       "<p style=\"color: red;\">\n",
       "The default version of TensorFlow in Colab will soon switch to TensorFlow 2.x.<br>\n",
       "We recommend you <a href=\"https://www.tensorflow.org/guide/migrate\" target=\"_blank\">upgrade</a> now \n",
       "or ensure your notebook will continue to use TensorFlow 1.x via the <code>%tensorflow_version 1.x</code> magic:\n",
       "<a href=\"https://colab.research.google.com/notebooks/tensorflow_version.ipynb\" target=\"_blank\">more info</a>.</p>\n"
      ],
      "text/plain": [
       "<IPython.core.display.HTML object>"
      ]
     },
     "metadata": {
      "tags": []
     },
     "output_type": "display_data"
    }
   ],
   "source": [
    "import os\n",
    "import keras\n",
    "\n",
    "# Disable GPU\n",
    "os.environ[\"CUDA_VISIBLE_DEVICES\"] = \"0\""
   ]
  },
  {
   "cell_type": "code",
   "execution_count": 2,
   "metadata": {
    "colab": {
     "base_uri": "https://localhost:8080/",
     "height": 51
    },
    "colab_type": "code",
    "id": "Ak22MhWWk3XZ",
    "outputId": "933791a1-134f-4a2e-981d-951237c589c5"
   },
   "outputs": [
    {
     "name": "stdout",
     "output_type": "stream",
     "text": [
      "Downloading data from https://www.cs.toronto.edu/~kriz/cifar-10-python.tar.gz\n",
      "170500096/170498071 [==============================] - 6s 0us/step\n"
     ]
    }
   ],
   "source": [
    "train, test = keras.datasets.cifar10.load_data()"
   ]
  },
  {
   "cell_type": "code",
   "execution_count": 0,
   "metadata": {
    "colab": {},
    "colab_type": "code",
    "id": "fwJ4sNwJk3Xc"
   },
   "outputs": [],
   "source": [
    "## 資料前處理\n",
    "def preproc_x(x, flatten=True):\n",
    "    x = x / 255.\n",
    "    if flatten:\n",
    "        x = x.reshape((len(x), -1))\n",
    "    return x\n",
    "\n",
    "def preproc_y(y, num_classes=10):\n",
    "    if y.shape[-1] == 1:\n",
    "        y = keras.utils.to_categorical(y, num_classes)\n",
    "    return y    "
   ]
  },
  {
   "cell_type": "code",
   "execution_count": 0,
   "metadata": {
    "colab": {},
    "colab_type": "code",
    "id": "OulsvYykk3Xf"
   },
   "outputs": [],
   "source": [
    "x_train, y_train = train\n",
    "x_test, y_test = test\n",
    "\n",
    "# Preproc the inputs\n",
    "x_train = preproc_x(x_train)\n",
    "x_test = preproc_x(x_test)\n",
    "\n",
    "# Preprc the outputs\n",
    "y_train = preproc_y(y_train)\n",
    "y_test = preproc_y(y_test)"
   ]
  },
  {
   "cell_type": "code",
   "execution_count": 0,
   "metadata": {
    "colab": {},
    "colab_type": "code",
    "id": "AoKBll48k3Xi"
   },
   "outputs": [],
   "source": [
    "from keras.layers import BatchNormalization\n",
    "\n",
    "\"\"\"\n",
    "建立神經網路，並加入 BN layer\n",
    "\"\"\"\n",
    "def build_mlp(input_shape, output_units=10, num_neurons=[512, 256, 128]):\n",
    "    input_layer = keras.layers.Input(input_shape)\n",
    "    \n",
    "    for i, n_units in enumerate(num_neurons):\n",
    "        if i == 0:\n",
    "            x = keras.layers.Dense(units=n_units, \n",
    "                                   activation=\"relu\", \n",
    "                                   name=\"hidden_layer\"+str(i+1))(input_layer)\n",
    "            x = BatchNormalization()(x)\n",
    "        else:\n",
    "            x = keras.layers.Dense(units=n_units, \n",
    "                                   activation=\"relu\", \n",
    "                                   name=\"hidden_layer\"+str(i+1))(x)\n",
    "            x = BatchNormalization()(x)\n",
    "    \n",
    "    out = keras.layers.Dense(units=output_units, activation=\"softmax\", name=\"output\")(x)\n",
    "    \n",
    "    model = keras.models.Model(inputs=[input_layer], outputs=[out])\n",
    "    return model"
   ]
  },
  {
   "cell_type": "code",
   "execution_count": 0,
   "metadata": {
    "colab": {},
    "colab_type": "code",
    "id": "1ZoFmrexk3Xp"
   },
   "outputs": [],
   "source": [
    "## 超參數設定\n",
    "LEARNING_RATE = 1e-3\n",
    "EPOCHS = 25\n",
    "BATCH_SIZE = 1024\n",
    "MOMENTUM = 0.95"
   ]
  },
  {
   "cell_type": "code",
   "execution_count": 0,
   "metadata": {
    "colab": {},
    "colab_type": "code",
    "id": "Mvj1EDg6FBKD"
   },
   "outputs": [],
   "source": []
  },
  {
   "cell_type": "code",
   "execution_count": 0,
   "metadata": {
    "colab": {},
    "colab_type": "code",
    "id": "Zrid9iAUk3Xs"
   },
   "outputs": [],
   "source": [
    "# 載入 Callbacks\n",
    "from keras.callbacks import Callback\n",
    "from sklearn.metrics import confusion_matrix\n",
    "\n",
    "import numpy as np\n",
    "# Record_fp_tp\n",
    "class Record_tp_tn(Callback):\n",
    "    \"\"\"Code Here\n",
    "    撰寫一個紀錄 ture positive 與 true negative 數量的 callbacks    \n",
    "    \"\"\"\n",
    "    def on_train_begin(self, epoch, logs = {}):\n",
    "        logs = logs or {}\n",
    "        record_items = [\"val_auc\", \"val_f1sc\", \"val_fp\", \"val_fn\", \"val_tp\", \"val_tn\"]\n",
    "        for i in record_items:\n",
    "            if i not in self.params['metrics']:\n",
    "                self.params['metrics'].append(i)\n",
    "    \n",
    "    def on_epoch_end(self, epoch, logs = {}, thres=0.5):\n",
    "        logs = logs or {}\n",
    "        y_true = self.validation_data[1].argmax(axis = 1)\n",
    "        y_pred = self.model.predict(self.validation_data[0])\n",
    "        y_pred = (y_pred[:, 1] >= thres) * 1\n",
    "        \n",
    "        #solution from here\n",
    "        #https://github.com/strive722/3rd-ML100Days/blob/master/Day088_HW.ipynb\n",
    "        # Calculate True Positive, True Negative\n",
    "        \n",
    "        #logs[\"val_tp\"] = np.sum(np.logical_and(y_pred == 1, y_true == 1))\n",
    "        #logs[\"val_tn\"] = np.sum(np.logical_and(y_pred == 0, y_true == 0))\n",
    "        \n",
    "        #after seeing the answer\n",
    "        val_tp = sum(y_true*y_pred)\n",
    "        val_tn = sum((y_true==0) & (y_pred==0))\n",
    "        logs[\"val_tp\"] = val_tp\n",
    "        logs[\"val_tn\"] = val_tn\n",
    "        print('',logs[\"val_tp\"])\n",
    "        print('',logs[\"val_tn\"])\n",
    "\n",
    "        \n",
    "rec_tptn = Record_tp_tn()"
   ]
  },
  {
   "cell_type": "code",
   "execution_count": 37,
   "metadata": {
    "colab": {
     "base_uri": "https://localhost:8080/",
     "height": 1000
    },
    "colab_type": "code",
    "id": "AATCLjk6k3Xu",
    "outputId": "cdc8c3b2-11b7-4828-92a1-0526d3d7a740",
    "scrolled": true
   },
   "outputs": [
    {
     "name": "stdout",
     "output_type": "stream",
     "text": [
      "Model: \"model_14\"\n",
      "_________________________________________________________________\n",
      "Layer (type)                 Output Shape              Param #   \n",
      "=================================================================\n",
      "input_14 (InputLayer)        (None, 3072)              0         \n",
      "_________________________________________________________________\n",
      "hidden_layer1 (Dense)        (None, 512)               1573376   \n",
      "_________________________________________________________________\n",
      "batch_normalization_40 (Batc (None, 512)               2048      \n",
      "_________________________________________________________________\n",
      "hidden_layer2 (Dense)        (None, 256)               131328    \n",
      "_________________________________________________________________\n",
      "batch_normalization_41 (Batc (None, 256)               1024      \n",
      "_________________________________________________________________\n",
      "hidden_layer3 (Dense)        (None, 128)               32896     \n",
      "_________________________________________________________________\n",
      "batch_normalization_42 (Batc (None, 128)               512       \n",
      "_________________________________________________________________\n",
      "output (Dense)               (None, 10)                1290      \n",
      "=================================================================\n",
      "Total params: 1,742,474\n",
      "Trainable params: 1,740,682\n",
      "Non-trainable params: 1,792\n",
      "_________________________________________________________________\n",
      "Train on 50000 samples, validate on 10000 samples\n",
      "Epoch 1/25\n",
      "50000/50000 [==============================] - 3s 70us/step - loss: 2.2681 - acc: 0.2669 - val_loss: 2.0852 - val_acc: 0.3155\n",
      " 68\n",
      " 998\n",
      "Epoch 2/25\n",
      "50000/50000 [==============================] - 1s 27us/step - loss: 1.7499 - acc: 0.3925 - val_loss: 1.8111 - val_acc: 0.3800\n",
      " 302\n",
      " 976\n",
      "Epoch 3/25\n",
      "50000/50000 [==============================] - 1s 25us/step - loss: 1.6228 - acc: 0.4306 - val_loss: 1.7014 - val_acc: 0.4072\n",
      " 267\n",
      " 993\n",
      "Epoch 4/25\n",
      "50000/50000 [==============================] - 1s 26us/step - loss: 1.5490 - acc: 0.4596 - val_loss: 1.6339 - val_acc: 0.4293\n",
      " 294\n",
      " 992\n",
      "Epoch 5/25\n",
      "50000/50000 [==============================] - 1s 24us/step - loss: 1.4950 - acc: 0.4795 - val_loss: 1.6114 - val_acc: 0.4312\n",
      " 240\n",
      " 994\n",
      "Epoch 6/25\n",
      "50000/50000 [==============================] - 1s 24us/step - loss: 1.4478 - acc: 0.4937 - val_loss: 1.5878 - val_acc: 0.4407\n",
      " 350\n",
      " 986\n",
      "Epoch 7/25\n",
      "50000/50000 [==============================] - 1s 25us/step - loss: 1.4092 - acc: 0.5084 - val_loss: 1.5408 - val_acc: 0.4527\n",
      " 363\n",
      " 983\n",
      "Epoch 8/25\n",
      "50000/50000 [==============================] - 1s 25us/step - loss: 1.3717 - acc: 0.5218 - val_loss: 1.5256 - val_acc: 0.4585\n",
      " 373\n",
      " 987\n",
      "Epoch 9/25\n",
      "50000/50000 [==============================] - 1s 25us/step - loss: 1.3382 - acc: 0.5341 - val_loss: 1.5289 - val_acc: 0.4607\n",
      " 366\n",
      " 981\n",
      "Epoch 10/25\n",
      "50000/50000 [==============================] - 1s 25us/step - loss: 1.3084 - acc: 0.5434 - val_loss: 1.5018 - val_acc: 0.4685\n",
      " 437\n",
      " 982\n",
      "Epoch 11/25\n",
      "50000/50000 [==============================] - 1s 25us/step - loss: 1.2792 - acc: 0.5546 - val_loss: 1.4912 - val_acc: 0.4733\n",
      " 454\n",
      " 981\n",
      "Epoch 12/25\n",
      "50000/50000 [==============================] - 1s 25us/step - loss: 1.2526 - acc: 0.5642 - val_loss: 1.4933 - val_acc: 0.4691\n",
      " 383\n",
      " 984\n",
      "Epoch 13/25\n",
      "50000/50000 [==============================] - 1s 26us/step - loss: 1.2278 - acc: 0.5734 - val_loss: 1.4780 - val_acc: 0.4769\n",
      " 419\n",
      " 986\n",
      "Epoch 14/25\n",
      "50000/50000 [==============================] - 1s 25us/step - loss: 1.2036 - acc: 0.5837 - val_loss: 1.4722 - val_acc: 0.4769\n",
      " 447\n",
      " 983\n",
      "Epoch 15/25\n",
      "50000/50000 [==============================] - 1s 25us/step - loss: 1.1770 - acc: 0.5936 - val_loss: 1.4752 - val_acc: 0.4813\n",
      " 473\n",
      " 980\n",
      "Epoch 16/25\n",
      "50000/50000 [==============================] - 1s 25us/step - loss: 1.1552 - acc: 0.6017 - val_loss: 1.4906 - val_acc: 0.4719\n",
      " 530\n",
      " 971\n",
      "Epoch 17/25\n",
      "50000/50000 [==============================] - 1s 26us/step - loss: 1.1323 - acc: 0.6089 - val_loss: 1.4636 - val_acc: 0.4843\n",
      " 419\n",
      " 985\n",
      "Epoch 18/25\n",
      "50000/50000 [==============================] - 1s 25us/step - loss: 1.1094 - acc: 0.6196 - val_loss: 1.4634 - val_acc: 0.4807\n",
      " 512\n",
      " 972\n",
      "Epoch 19/25\n",
      "50000/50000 [==============================] - 1s 26us/step - loss: 1.0878 - acc: 0.6266 - val_loss: 1.4503 - val_acc: 0.4874\n",
      " 485\n",
      " 977\n",
      "Epoch 20/25\n",
      "50000/50000 [==============================] - 1s 25us/step - loss: 1.0663 - acc: 0.6348 - val_loss: 1.4710 - val_acc: 0.4805\n",
      " 476\n",
      " 973\n",
      "Epoch 21/25\n",
      "50000/50000 [==============================] - 1s 24us/step - loss: 1.0448 - acc: 0.6421 - val_loss: 1.4576 - val_acc: 0.4880\n",
      " 445\n",
      " 976\n",
      "Epoch 22/25\n",
      "50000/50000 [==============================] - 1s 24us/step - loss: 1.0219 - acc: 0.6514 - val_loss: 1.4638 - val_acc: 0.4823\n",
      " 397\n",
      " 983\n",
      "Epoch 23/25\n",
      "50000/50000 [==============================] - 1s 26us/step - loss: 1.0014 - acc: 0.6600 - val_loss: 1.4637 - val_acc: 0.4894\n",
      " 493\n",
      " 974\n",
      "Epoch 24/25\n",
      "50000/50000 [==============================] - 1s 25us/step - loss: 0.9806 - acc: 0.6691 - val_loss: 1.4660 - val_acc: 0.4899\n",
      " 444\n",
      " 978\n",
      "Epoch 25/25\n",
      "50000/50000 [==============================] - 1s 26us/step - loss: 0.9599 - acc: 0.6751 - val_loss: 1.4709 - val_acc: 0.4877\n",
      " 444\n",
      " 978\n"
     ]
    }
   ],
   "source": [
    "model = build_mlp(input_shape=x_train.shape[1:])\n",
    "model.summary()\n",
    "optimizer = keras.optimizers.SGD(lr=LEARNING_RATE, nesterov=True, momentum=MOMENTUM)\n",
    "model.compile(loss=\"categorical_crossentropy\", metrics=[\"accuracy\"], optimizer=optimizer)\n",
    "\n",
    "\"\"\"Code Here\n",
    "將 callbacks 放入模型訓練流程中\n",
    "\"\"\"\n",
    "model.fit(x_train, y_train, \n",
    "          epochs=EPOCHS, \n",
    "          batch_size=BATCH_SIZE, \n",
    "          validation_data=(x_test, y_test), \n",
    "          shuffle=True,\n",
    "          callbacks=[rec_tptn]\n",
    "         )\n",
    "\n",
    "# Collect results\n",
    "train_loss = model.history.history[\"loss\"]\n",
    "valid_loss = model.history.history[\"val_loss\"]\n",
    "train_acc = model.history.history[\"acc\"]\n",
    "valid_acc = model.history.history[\"val_acc\"]\n",
    "\n",
    "\"\"\"Code Here\n",
    "將 tp/tn 從訓練完的模型中取出\n",
    "\"\"\"\n",
    "valid_tp = model.history.history['val_tp']\n",
    "valid_tn = model.history.history['val_tn']"
   ]
  },
  {
   "cell_type": "code",
   "execution_count": 38,
   "metadata": {
    "colab": {
     "base_uri": "https://localhost:8080/",
     "height": 809
    },
    "colab_type": "code",
    "id": "Srg7VUaDk3Xx",
    "outputId": "9c2d2603-9a5b-4246-8a45-4b433b5ab5d1"
   },
   "outputs": [
    {
     "data": {
      "image/png": "[encoded data removed]",
      "text/plain": [
       "<Figure size 432x288 with 1 Axes>"
      ]
     },
     "metadata": {
      "tags": []
     },
     "output_type": "display_data"
    },
    {
     "data": {
      "image/png": "[encoded data removed]",
      "text/plain": [
       "<Figure size 432x288 with 1 Axes>"
      ]
     },
     "metadata": {
      "tags": []
     },
     "output_type": "display_data"
    },
    {
     "data": {
      "image/png": "[encoded data removed]",
      "text/plain": [
       "<Figure size 432x288 with 1 Axes>"
      ]
     },
     "metadata": {
      "tags": []
     },
     "output_type": "display_data"
    }
   ],
   "source": [
    "import matplotlib.pyplot as plt\n",
    "%matplotlib inline\n",
    "\n",
    "plt.plot(range(len(train_loss)), train_loss, label=\"train loss\")\n",
    "plt.plot(range(len(valid_loss)), valid_loss, label=\"valid loss\")\n",
    "plt.legend()\n",
    "plt.title(\"Loss\")\n",
    "plt.show()\n",
    "\n",
    "plt.plot(range(len(train_acc)), train_acc, label=\"train accuracy\")\n",
    "plt.plot(range(len(valid_acc)), valid_acc, label=\"valid accuracy\")\n",
    "plt.legend()\n",
    "plt.title(\"Accuracy\")\n",
    "plt.show()\n",
    "\n",
    "plt.plot(range(len(valid_tp)), valid_tp, label=\"valid tp\", color=\"navy\")\n",
    "plt.plot(range(len(valid_tn)), valid_tn, label=\"valid tn\", color=\"red\")\n",
    "plt.legend()\n",
    "plt.title(\"True positives and True Negatives\")\n",
    "plt.show()\n"
   ]
  },
  {
   "cell_type": "code",
   "execution_count": 39,
   "metadata": {
    "colab": {
     "base_uri": "https://localhost:8080/",
     "height": 442
    },
    "colab_type": "code",
    "id": "uSrUaQhcIkfn",
    "outputId": "e27d03aa-465b-4dcd-a445-5ec2faf00b08"
   },
   "outputs": [
    {
     "data": {
      "text/plain": [
       "[2.2681281853866575,\n",
       " 1.7498973907470703,\n",
       " 1.6228343672561645,\n",
       " 1.5490050825500488,\n",
       " 1.4949973194885253,\n",
       " 1.4478307429885864,\n",
       " 1.409180483932495,\n",
       " 1.371676609840393,\n",
       " 1.3382092769241334,\n",
       " 1.3083618796157837,\n",
       " 1.2792294464492797,\n",
       " 1.252577439880371,\n",
       " 1.2277890724563598,\n",
       " 1.203584380455017,\n",
       " 1.1769881901550292,\n",
       " 1.1552151354598998,\n",
       " 1.1322769975662232,\n",
       " 1.109413179244995,\n",
       " 1.0878456099319458,\n",
       " 1.066349793395996,\n",
       " 1.044814864845276,\n",
       " 1.0218583462524413,\n",
       " 1.0013939907455445,\n",
       " 0.9806183866882324,\n",
       " 0.9598589657974244]"
      ]
     },
     "execution_count": 39,
     "metadata": {
      "tags": []
     },
     "output_type": "execute_result"
    }
   ],
   "source": [
    "train_loss"
   ]
  },
  {
   "cell_type": "code",
   "execution_count": 40,
   "metadata": {
    "colab": {
     "base_uri": "https://localhost:8080/",
     "height": 442
    },
    "colab_type": "code",
    "id": "O8n4LjpTJK7H",
    "outputId": "acae8b69-2a7c-4175-b6b4-b828346afd59"
   },
   "outputs": [
    {
     "data": {
      "text/plain": [
       "[998,\n",
       " 976,\n",
       " 993,\n",
       " 992,\n",
       " 994,\n",
       " 986,\n",
       " 983,\n",
       " 987,\n",
       " 981,\n",
       " 982,\n",
       " 981,\n",
       " 984,\n",
       " 986,\n",
       " 983,\n",
       " 980,\n",
       " 971,\n",
       " 985,\n",
       " 972,\n",
       " 977,\n",
       " 973,\n",
       " 976,\n",
       " 983,\n",
       " 974,\n",
       " 978,\n",
       " 978]"
      ]
     },
     "execution_count": 40,
     "metadata": {
      "tags": []
     },
     "output_type": "execute_result"
    }
   ],
   "source": [
    "valid_tn"
   ]
  },
  {
   "cell_type": "code",
   "execution_count": 0,
   "metadata": {
    "colab": {},
    "colab_type": "code",
    "id": "kBFsXDoRJYaV"
   },
   "outputs": [],
   "source": []
  }
 ],
 "metadata": {
  "accelerator": "GPU",
  "colab": {
   "collapsed_sections": [],
   "name": "Day_088_HW.ipynb",
   "provenance": []
  },
  "kernelspec": {
   "display_name": "Python 3",
   "language": "python",
   "name": "python3"
  },
  "language_info": {
   "codemirror_mode": {
    "name": "ipython",
    "version": 3
   },
   "file_extension": ".py",
   "mimetype": "text/x-python",
   "name": "python",
   "nbconvert_exporter": "python",
   "pygments_lexer": "ipython3",
   "version": "3.6.5"
  }
 },
 "nbformat": 4,
 "nbformat_minor": 1
}
