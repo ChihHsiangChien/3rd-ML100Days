{
 "cells": [
  {
   "cell_type": "markdown",
   "metadata": {},
   "source": [
    "# 作業目標:\n",
    "    寫出 ReLU & dReLU 一階導數\n",
    "    並列印\n"
   ]
  },
  {
   "cell_type": "markdown",
   "metadata": {},
   "source": [
    "# 作業重點\n",
    "\n",
    "# Rectified Linear Unit- Relu \n",
    "\n",
    "f(x)=max(0,x)\n"
   ]
  },
  {
   "cell_type": "code",
   "execution_count": 44,
   "metadata": {},
   "outputs": [
    {
     "data": {
      "image/png": "[encoded data removed]",
      "text/plain": [
       "<Figure size 432x288 with 1 Axes>"
      ]
     },
     "metadata": {},
     "output_type": "display_data"
    }
   ],
   "source": [
    "import numpy as np\n",
    "#from numpy import *\n",
    "import matplotlib.pylab as plt\n",
    "%matplotlib inline\n",
    "\n",
    "def ReLU(x):\n",
    "    outputlist = []\n",
    "    for i in x:\n",
    "        outputlist.append(max(0,i))\n",
    "    return outputlist\n",
    "\n",
    "def dReLU(x): #Relu的一階導數\n",
    "    x[x<=0] = 0\n",
    "    x[x>0] = 1\n",
    "    return x\n",
    "\n",
    "x = np.linspace(-10,10,100)\n",
    "#print(x)\n",
    "#print(ReLU(x))\n",
    "#print(dReLU(x))\n",
    "\n",
    "plt.plot(x, ReLU(x), 'b')\n",
    "plt.grid()\n",
    "plt.title('ReLU Function')\n",
    "plt.text(-5, 5, r'ReLU = max(0,x)', fontsize=15)\n",
    "plt.show()\n",
    "\n",
    "\n",
    "\n",
    "plt.plot(x,dReLU(x), 'g' )\n",
    "plt.grid()\n",
    "plt.title('dReLU Function')\n",
    "\n",
    "plt.show()\n"
   ]
  },
  {
   "cell_type": "code",
   "execution_count": null,
   "metadata": {},
   "outputs": [],
   "source": []
  },
  {
   "cell_type": "code",
   "execution_count": null,
   "metadata": {},
   "outputs": [],
   "source": []
  }
 ],
 "metadata": {
  "kernelspec": {
   "display_name": "Python 3",
   "language": "python",
   "name": "python3"
  },
  "language_info": {
   "codemirror_mode": {
    "name": "ipython",
    "version": 3
   },
   "file_extension": ".py",
   "mimetype": "text/x-python",
   "name": "python",
   "nbconvert_exporter": "python",
   "pygments_lexer": "ipython3",
   "version": "3.6.5"
  }
 },
 "nbformat": 4,
 "nbformat_minor": 2
}
