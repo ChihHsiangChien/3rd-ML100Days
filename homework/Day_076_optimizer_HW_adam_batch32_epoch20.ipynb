{
  "nbformat": 4,
  "nbformat_minor": 0,
  "metadata": {
    "kernelspec": {
      "name": "python3",
      "display_name": "Python 3"
    },
    "language_info": {
      "codemirror_mode": {
        "name": "ipython",
        "version": 3
      },
      "file_extension": ".py",
      "mimetype": "text/x-python",
      "name": "python",
      "nbconvert_exporter": "python",
      "pygments_lexer": "ipython3",
      "version": "3.7.3"
    },
    "colab": {
      "name": "Day_076_optimizer_HW_adam_batch32_epoch20.ipynb",
      "provenance": [],
      "collapsed_sections": []
    },
    "accelerator": "GPU"
  },
  "cells": [
    {
      "cell_type": "markdown",
      "metadata": {
        "id": "pbKq3EL_9MrO",
        "colab_type": "text"
      },
      "source": [
        "# 作業重點:\n",
        "\n",
        "(1)以, Adam, 為例, 調整 batch_size, epoch , 觀察accurancy, loss 的變化\n",
        "\n",
        "(2)以同一模型, 分別驗證 SGD, Adam, Rmsprop 的 accurancy"
      ]
    },
    {
      "cell_type": "markdown",
      "metadata": {
        "id": "M1Uqgwd89MrQ",
        "colab_type": "text"
      },
      "source": [
        "# 作業目標:\n",
        "    \n",
        "    取得各種優化器的運算結果"
      ]
    },
    {
      "cell_type": "code",
      "metadata": {
        "id": "1khqq8uX9MrS",
        "colab_type": "code",
        "outputId": "04ccdb63-7f70-4c9a-89a0-ac2afcbbcdc8",
        "colab": {
          "base_uri": "https://localhost:8080/",
          "height": 80
        }
      },
      "source": [
        "from __future__ import print_function\n",
        "import keras\n",
        "from keras.datasets import cifar10\n",
        "from keras.preprocessing.image import ImageDataGenerator\n",
        "from keras.models import Sequential\n",
        "from keras.layers import Dense, Dropout, Activation, Flatten\n",
        "from keras.layers import Conv2D, MaxPooling2D\n",
        "import os\n",
        "from keras import optimizers\n"
      ],
      "execution_count": 1,
      "outputs": [
        {
          "output_type": "stream",
          "text": [
            "Using TensorFlow backend.\n"
          ],
          "name": "stderr"
        },
        {
          "output_type": "display_data",
          "data": {
            "text/html": [
              "<p style=\"color: red;\">\n",
              "The default version of TensorFlow in Colab will soon switch to TensorFlow 2.x.<br>\n",
              "We recommend you <a href=\"https://www.tensorflow.org/guide/migrate\" target=\"_blank\">upgrade</a> now \n",
              "or ensure your notebook will continue to use TensorFlow 1.x via the <code>%tensorflow_version 1.x</code> magic:\n",
              "<a href=\"https://colab.research.google.com/notebooks/tensorflow_version.ipynb\" target=\"_blank\">more info</a>.</p>\n"
            ],
            "text/plain": [
              "<IPython.core.display.HTML object>"
            ]
          },
          "metadata": {
            "tags": []
          }
        }
      ]
    },
    {
      "cell_type": "code",
      "metadata": {
        "id": "s1KHQ13x9MrW",
        "colab_type": "code",
        "colab": {}
      },
      "source": [
        "#Blas GEMM launch failed , 避免動態分配GPU / CPU, 出現問題\n",
        "import tensorflow as tf\n",
        "gpu_options = tf.GPUOptions(per_process_gpu_memory_fraction=0.333)\n",
        "sess = tf.Session(config=tf.ConfigProto(gpu_options=gpu_options))\n"
      ],
      "execution_count": 0,
      "outputs": []
    },
    {
      "cell_type": "code",
      "metadata": {
        "id": "jlXxZHZL9Mrb",
        "colab_type": "code",
        "colab": {}
      },
      "source": [
        "\n",
        "'''\n",
        "   宣告並設定\n",
        "   batch_size：對總的樣本數進行分組，每組包含的樣本數量\n",
        "   epochs ：訓練次數\n",
        "   \n",
        "''' \n",
        "\n",
        "batch_size = 32\n",
        "num_classes = 10\n",
        "epochs = 20\n",
        "data_augmentation = True\n",
        "num_predictions = 20\n",
        "save_dir = os.path.join(os.getcwd(), 'saved_models')\n",
        "model_name = 'keras_cifar10_trained_model.h5'\n"
      ],
      "execution_count": 0,
      "outputs": []
    },
    {
      "cell_type": "code",
      "metadata": {
        "id": "emuSy0Te9Mrf",
        "colab_type": "code",
        "outputId": "30eac038-9908-46df-8287-ba4e2688d19b",
        "colab": {
          "base_uri": "https://localhost:8080/",
          "height": 102
        }
      },
      "source": [
        "\n",
        "# The data, split between train and test sets:\n",
        "(x_train, y_train), (x_test, y_test) = cifar10.load_data()\n",
        "print('x_train shape:', x_train.shape)\n",
        "print(x_train.shape[0], 'train samples')\n",
        "print(x_test.shape[0], 'test samples')\n",
        "\n",
        "# Convert class vectors to binary class matrices.\n",
        "y_train = keras.utils.to_categorical(y_train, num_classes)\n",
        "y_test = keras.utils.to_categorical(y_test, num_classes)"
      ],
      "execution_count": 4,
      "outputs": [
        {
          "output_type": "stream",
          "text": [
            "Downloading data from https://www.cs.toronto.edu/~kriz/cifar-10-python.tar.gz\n",
            "170500096/170498071 [==============================] - 12s 0us/step\n",
            "x_train shape: (50000, 32, 32, 3)\n",
            "50000 train samples\n",
            "10000 test samples\n"
          ],
          "name": "stdout"
        }
      ]
    },
    {
      "cell_type": "code",
      "metadata": {
        "id": "ugYbM_dw9Mrk",
        "colab_type": "code",
        "outputId": "eed59c8e-7129-49ec-e0c1-4845459d44f4",
        "colab": {
          "base_uri": "https://localhost:8080/",
          "height": 258
        }
      },
      "source": [
        "#    第一步：選擇模型, 順序模型是多個網絡層的線性堆疊\n",
        " \n",
        "model = Sequential()\n",
        "\n",
        "#   第二步：構建網絡層\n",
        "model.add(Conv2D(32, (3, 3), padding='same',\n",
        "                 input_shape=x_train.shape[1:]))\n",
        "model.add(Activation('relu'))\n",
        "model.add(Conv2D(32, (3, 3)))\n",
        "model.add(Activation('relu'))\n",
        "model.add(MaxPooling2D(pool_size=(2, 2)))\n",
        "model.add(Dropout(0.25))\n",
        "\n",
        "model.add(Conv2D(64, (3, 3), padding='same'))\n",
        "model.add(Activation('relu'))\n",
        "model.add(Conv2D(64, (3, 3)))\n",
        "model.add(Activation('relu'))\n",
        "model.add(MaxPooling2D(pool_size=(2, 2)))\n",
        "model.add(Dropout(0.25))\n",
        "\n",
        "model.add(Flatten())\n",
        "model.add(Dense(512))\n",
        "model.add(Activation('relu'))\n",
        "model.add(Dropout(0.5))\n",
        "\n",
        "model.add(Dense( 10)) # 輸出結果是10個類別，所以維度是10   \n",
        "model.add(Activation('softmax')) # 最後一層用softmax作為激活函數"
      ],
      "execution_count": 5,
      "outputs": [
        {
          "output_type": "stream",
          "text": [
            "WARNING:tensorflow:From /usr/local/lib/python3.6/dist-packages/keras/backend/tensorflow_backend.py:66: The name tf.get_default_graph is deprecated. Please use tf.compat.v1.get_default_graph instead.\n",
            "\n",
            "WARNING:tensorflow:From /usr/local/lib/python3.6/dist-packages/keras/backend/tensorflow_backend.py:541: The name tf.placeholder is deprecated. Please use tf.compat.v1.placeholder instead.\n",
            "\n",
            "WARNING:tensorflow:From /usr/local/lib/python3.6/dist-packages/keras/backend/tensorflow_backend.py:4432: The name tf.random_uniform is deprecated. Please use tf.random.uniform instead.\n",
            "\n",
            "WARNING:tensorflow:From /usr/local/lib/python3.6/dist-packages/keras/backend/tensorflow_backend.py:4267: The name tf.nn.max_pool is deprecated. Please use tf.nn.max_pool2d instead.\n",
            "\n",
            "WARNING:tensorflow:From /usr/local/lib/python3.6/dist-packages/keras/backend/tensorflow_backend.py:148: The name tf.placeholder_with_default is deprecated. Please use tf.compat.v1.placeholder_with_default instead.\n",
            "\n",
            "WARNING:tensorflow:From /usr/local/lib/python3.6/dist-packages/keras/backend/tensorflow_backend.py:3733: calling dropout (from tensorflow.python.ops.nn_ops) with keep_prob is deprecated and will be removed in a future version.\n",
            "Instructions for updating:\n",
            "Please use `rate` instead of `keep_prob`. Rate should be set to `rate = 1 - keep_prob`.\n"
          ],
          "name": "stdout"
        }
      ]
    },
    {
      "cell_type": "code",
      "metadata": {
        "id": "HtLWYhgC9Mro",
        "colab_type": "code",
        "outputId": "b250583e-71fa-4516-94ac-4f07276ee058",
        "colab": {
          "base_uri": "https://localhost:8080/",
          "height": 34
        }
      },
      "source": [
        "# 模型建立完成後，統計參數總量\n",
        "print(\"Total Parameters：%d\" % model.count_params())"
      ],
      "execution_count": 6,
      "outputs": [
        {
          "output_type": "stream",
          "text": [
            "Total Parameters：1250858\n"
          ],
          "name": "stdout"
        }
      ]
    },
    {
      "cell_type": "code",
      "metadata": {
        "id": "8eSYIgZs9Mrt",
        "colab_type": "code",
        "outputId": "305d8ced-6715-46f9-9b58-758116e79bff",
        "colab": {
          "base_uri": "https://localhost:8080/",
          "height": 765
        }
      },
      "source": [
        "# 輸出模型摘要資訊\n",
        "model.summary()"
      ],
      "execution_count": 7,
      "outputs": [
        {
          "output_type": "stream",
          "text": [
            "Model: \"sequential_1\"\n",
            "_________________________________________________________________\n",
            "Layer (type)                 Output Shape              Param #   \n",
            "=================================================================\n",
            "conv2d_1 (Conv2D)            (None, 32, 32, 32)        896       \n",
            "_________________________________________________________________\n",
            "activation_1 (Activation)    (None, 32, 32, 32)        0         \n",
            "_________________________________________________________________\n",
            "conv2d_2 (Conv2D)            (None, 30, 30, 32)        9248      \n",
            "_________________________________________________________________\n",
            "activation_2 (Activation)    (None, 30, 30, 32)        0         \n",
            "_________________________________________________________________\n",
            "max_pooling2d_1 (MaxPooling2 (None, 15, 15, 32)        0         \n",
            "_________________________________________________________________\n",
            "dropout_1 (Dropout)          (None, 15, 15, 32)        0         \n",
            "_________________________________________________________________\n",
            "conv2d_3 (Conv2D)            (None, 15, 15, 64)        18496     \n",
            "_________________________________________________________________\n",
            "activation_3 (Activation)    (None, 15, 15, 64)        0         \n",
            "_________________________________________________________________\n",
            "conv2d_4 (Conv2D)            (None, 13, 13, 64)        36928     \n",
            "_________________________________________________________________\n",
            "activation_4 (Activation)    (None, 13, 13, 64)        0         \n",
            "_________________________________________________________________\n",
            "max_pooling2d_2 (MaxPooling2 (None, 6, 6, 64)          0         \n",
            "_________________________________________________________________\n",
            "dropout_2 (Dropout)          (None, 6, 6, 64)          0         \n",
            "_________________________________________________________________\n",
            "flatten_1 (Flatten)          (None, 2304)              0         \n",
            "_________________________________________________________________\n",
            "dense_1 (Dense)              (None, 512)               1180160   \n",
            "_________________________________________________________________\n",
            "activation_5 (Activation)    (None, 512)               0         \n",
            "_________________________________________________________________\n",
            "dropout_3 (Dropout)          (None, 512)               0         \n",
            "_________________________________________________________________\n",
            "dense_2 (Dense)              (None, 10)                5130      \n",
            "_________________________________________________________________\n",
            "activation_6 (Activation)    (None, 10)                0         \n",
            "=================================================================\n",
            "Total params: 1,250,858\n",
            "Trainable params: 1,250,858\n",
            "Non-trainable params: 0\n",
            "_________________________________________________________________\n"
          ],
          "name": "stdout"
        }
      ]
    },
    {
      "cell_type": "code",
      "metadata": {
        "id": "Y-7qqxyH9Mry",
        "colab_type": "code",
        "colab": {
          "base_uri": "https://localhost:8080/",
          "height": 85
        },
        "outputId": "f4cba7c7-ab60-4101-9113-885f20d7ed3d"
      },
      "source": [
        "#第三步編譯\n",
        " '''\n",
        " SGD(隨機梯度下降) - Arguments\n",
        "lr: float >= 0. Learning rate.\n",
        "momentum: float >= 0. Parameter that accelerates SGD in the relevant direction and dampens oscillations.\n",
        "decay: float >= 0. Learning rate decay over each update.\n",
        "nesterov: boolean. Whether to apply Nesterov momentum.\n",
        "'''\n",
        "\n",
        "'''\n",
        "RMSprop- Arguments\n",
        "lr: float >= 0. Learning rate.\n",
        "rho: float >= 0.\n",
        "epsilon: float >= 0. Fuzz factor. If None, defaults to K.epsilon().\n",
        "decay: float >= 0. Learning rate decay over each update.\n",
        "'''\n",
        "\n",
        "'''\n",
        "Example:\n",
        "\n",
        "#SGD\n",
        "opt = optimizers.SGD(lr=0.01, decay=1e-6, momentum=0.9, nesterov=True)\n",
        "\n",
        "#RMSprop\n",
        "opt = optimizers.RMSprop(lr=0.001, epsilon=None, decay=0.0)\n",
        "\n",
        "#Adagrad\n",
        "opt = optimizers.Adagrad(lr=0.01, epsilon=None, decay=0.0)\n",
        "\n",
        "'''\n",
        "opt = 'adam'\n",
        "\n",
        "\n",
        "model.compile(optimizer = opt, loss = 'categorical_crossentropy', metrics = ['accuracy'])\n"
      ],
      "execution_count": 8,
      "outputs": [
        {
          "output_type": "stream",
          "text": [
            "WARNING:tensorflow:From /usr/local/lib/python3.6/dist-packages/keras/optimizers.py:793: The name tf.train.Optimizer is deprecated. Please use tf.compat.v1.train.Optimizer instead.\n",
            "\n",
            "WARNING:tensorflow:From /usr/local/lib/python3.6/dist-packages/keras/backend/tensorflow_backend.py:3576: The name tf.log is deprecated. Please use tf.math.log instead.\n",
            "\n"
          ],
          "name": "stdout"
        }
      ]
    },
    {
      "cell_type": "code",
      "metadata": {
        "id": "TNyyWiOU9Mr2",
        "colab_type": "code",
        "colab": {}
      },
      "source": [
        "# 資料正規化\n",
        "x_train = x_train.astype('float32')\n",
        "x_test = x_test.astype('float32')\n",
        "x_train /= 255\n",
        "x_test /= 255\n"
      ],
      "execution_count": 0,
      "outputs": []
    },
    {
      "cell_type": "code",
      "metadata": {
        "id": "ZnQFxvDo9Mr5",
        "colab_type": "code",
        "outputId": "e1db3343-9543-4240-ea93-bf0c1c23875b",
        "colab": {
          "base_uri": "https://localhost:8080/",
          "height": 1000
        }
      },
      "source": [
        "# 是否要做資料處理\n",
        "if not data_augmentation:\n",
        "    print('Not using data augmentation.')\n",
        "    history=model.fit(x_train, y_train,\n",
        "              batch_size=batch_size,\n",
        "              epochs=epochs,\n",
        "              validation_data=(x_test, y_test),\n",
        "              shuffle=True)\n",
        "else:\n",
        "    print('Using real-time data augmentation.')\n",
        "    print('')\n",
        "        \n",
        "    # This will do preprocessing and realtime data augmentation:\n",
        "    datagen = ImageDataGenerator(\n",
        "        featurewise_center=False,  # set input mean to 0 over the dataset\n",
        "        samplewise_center=False,  # set each sample mean to 0\n",
        "        featurewise_std_normalization=False,  # divide inputs by std of the dataset\n",
        "        samplewise_std_normalization=False,  # divide each input by its std\n",
        "        zca_whitening=False,  # apply ZCA whitening\n",
        "        zca_epsilon=1e-06,  # epsilon for ZCA whitening\n",
        "        rotation_range=0,  # randomly rotate images in the range (degrees, 0 to 180)\n",
        "        # randomly shift images horizontally (fraction of total width)\n",
        "        width_shift_range=0.1,\n",
        "        # randomly shift images vertically (fraction of total height)\n",
        "        height_shift_range=0.1,\n",
        "        shear_range=0.,  # set range for random shear\n",
        "        zoom_range=0.,  # set range for random zoom\n",
        "        channel_shift_range=0.,  # set range for random channel shifts\n",
        "        # set mode for filling points outside the input boundaries\n",
        "        fill_mode='nearest',\n",
        "        cval=0.,  # value used for fill_mode = \"constant\"\n",
        "        horizontal_flip=True,  # randomly flip images\n",
        "        vertical_flip=False,  # randomly flip images\n",
        "        # set rescaling factor (applied before any other transformation)\n",
        "        rescale=None,\n",
        "        # set function that will be applied on each input\n",
        "        preprocessing_function=None,\n",
        "        # image data format, either \"channels_first\" or \"channels_last\"\n",
        "        data_format=None,\n",
        "        # fraction of images reserved for validation (strictly between 0 and 1)\n",
        "        validation_split=0.0)\n",
        "\n",
        "    # Compute quantities required for feature-wise normalization\n",
        "    # (std, mean, and principal components if ZCA whitening is applied).\n",
        "    datagen.fit(x_train)\n",
        "    history=model.fit(x_train, y_train,\n",
        "              batch_size=batch_size,\n",
        "              epochs=epochs,\n",
        "              validation_data=(x_test, y_test),\n",
        "              shuffle=True)   \n",
        "\n",
        "'''\n",
        "   第四步：訓練\n",
        "   .fit的一些參數\n",
        "   batch_size：對總的樣本數進行分組，每組包含的樣本數量\n",
        "   epochs ：訓練次數\n",
        "   shuffle：是否把數據隨機打亂之後再進行訓練\n",
        "   validation_split：拿出百分之多少用來做交叉驗證\n",
        "   verbose：屏顯模式 - 0：不輸出, 1：輸出進度, 2：輸出每次的訓練結果\n",
        "''' \n",
        "    "
      ],
      "execution_count": 10,
      "outputs": [
        {
          "output_type": "stream",
          "text": [
            "Using real-time data augmentation.\n",
            "\n",
            "WARNING:tensorflow:From /usr/local/lib/python3.6/dist-packages/tensorflow_core/python/ops/math_grad.py:1424: where (from tensorflow.python.ops.array_ops) is deprecated and will be removed in a future version.\n",
            "Instructions for updating:\n",
            "Use tf.where in 2.0, which has the same broadcast rule as np.where\n",
            "WARNING:tensorflow:From /usr/local/lib/python3.6/dist-packages/keras/backend/tensorflow_backend.py:1033: The name tf.assign_add is deprecated. Please use tf.compat.v1.assign_add instead.\n",
            "\n",
            "WARNING:tensorflow:From /usr/local/lib/python3.6/dist-packages/keras/backend/tensorflow_backend.py:1020: The name tf.assign is deprecated. Please use tf.compat.v1.assign instead.\n",
            "\n",
            "Train on 50000 samples, validate on 10000 samples\n",
            "Epoch 1/20\n",
            "WARNING:tensorflow:From /usr/local/lib/python3.6/dist-packages/keras/backend/tensorflow_backend.py:190: The name tf.get_default_session is deprecated. Please use tf.compat.v1.get_default_session instead.\n",
            "\n",
            "WARNING:tensorflow:From /usr/local/lib/python3.6/dist-packages/keras/backend/tensorflow_backend.py:207: The name tf.global_variables is deprecated. Please use tf.compat.v1.global_variables instead.\n",
            "\n",
            "WARNING:tensorflow:From /usr/local/lib/python3.6/dist-packages/keras/backend/tensorflow_backend.py:216: The name tf.is_variable_initialized is deprecated. Please use tf.compat.v1.is_variable_initialized instead.\n",
            "\n",
            "WARNING:tensorflow:From /usr/local/lib/python3.6/dist-packages/keras/backend/tensorflow_backend.py:223: The name tf.variables_initializer is deprecated. Please use tf.compat.v1.variables_initializer instead.\n",
            "\n",
            "50000/50000 [==============================] - 28s 559us/step - loss: 1.5484 - acc: 0.4295 - val_loss: 1.2163 - val_acc: 0.5617\n",
            "Epoch 2/20\n",
            "50000/50000 [==============================] - 21s 418us/step - loss: 1.1596 - acc: 0.5862 - val_loss: 0.9870 - val_acc: 0.6509\n",
            "Epoch 3/20\n",
            "50000/50000 [==============================] - 21s 421us/step - loss: 1.0076 - acc: 0.6430 - val_loss: 0.8546 - val_acc: 0.6976\n",
            "Epoch 4/20\n",
            "50000/50000 [==============================] - 21s 425us/step - loss: 0.9038 - acc: 0.6814 - val_loss: 0.8295 - val_acc: 0.7063\n",
            "Epoch 5/20\n",
            "50000/50000 [==============================] - 21s 424us/step - loss: 0.8383 - acc: 0.7033 - val_loss: 0.7728 - val_acc: 0.7294\n",
            "Epoch 6/20\n",
            "50000/50000 [==============================] - 21s 421us/step - loss: 0.7958 - acc: 0.7201 - val_loss: 0.7320 - val_acc: 0.7463\n",
            "Epoch 7/20\n",
            "50000/50000 [==============================] - 21s 419us/step - loss: 0.7568 - acc: 0.7338 - val_loss: 0.7276 - val_acc: 0.7449\n",
            "Epoch 8/20\n",
            "50000/50000 [==============================] - 21s 418us/step - loss: 0.7279 - acc: 0.7431 - val_loss: 0.7129 - val_acc: 0.7561\n",
            "Epoch 9/20\n",
            "50000/50000 [==============================] - 21s 422us/step - loss: 0.6971 - acc: 0.7567 - val_loss: 0.7338 - val_acc: 0.7463\n",
            "Epoch 10/20\n",
            "50000/50000 [==============================] - 21s 420us/step - loss: 0.6774 - acc: 0.7590 - val_loss: 0.7080 - val_acc: 0.7527\n",
            "Epoch 11/20\n",
            "50000/50000 [==============================] - 21s 419us/step - loss: 0.6585 - acc: 0.7693 - val_loss: 0.7103 - val_acc: 0.7565\n",
            "Epoch 12/20\n",
            "50000/50000 [==============================] - 21s 421us/step - loss: 0.6401 - acc: 0.7750 - val_loss: 0.6973 - val_acc: 0.7623\n",
            "Epoch 13/20\n",
            "50000/50000 [==============================] - 21s 426us/step - loss: 0.6243 - acc: 0.7805 - val_loss: 0.6547 - val_acc: 0.7806\n",
            "Epoch 14/20\n",
            "50000/50000 [==============================] - 21s 421us/step - loss: 0.6116 - acc: 0.7850 - val_loss: 0.6646 - val_acc: 0.7755\n",
            "Epoch 15/20\n",
            "50000/50000 [==============================] - 21s 422us/step - loss: 0.5974 - acc: 0.7908 - val_loss: 0.6631 - val_acc: 0.7750\n",
            "Epoch 16/20\n",
            "50000/50000 [==============================] - 21s 419us/step - loss: 0.5919 - acc: 0.7931 - val_loss: 0.6517 - val_acc: 0.7803\n",
            "Epoch 17/20\n",
            "50000/50000 [==============================] - 21s 419us/step - loss: 0.5739 - acc: 0.7983 - val_loss: 0.6486 - val_acc: 0.7762\n",
            "Epoch 18/20\n",
            "50000/50000 [==============================] - 21s 418us/step - loss: 0.5640 - acc: 0.7997 - val_loss: 0.6488 - val_acc: 0.7827\n",
            "Epoch 19/20\n",
            "50000/50000 [==============================] - 21s 422us/step - loss: 0.5580 - acc: 0.8047 - val_loss: 0.6646 - val_acc: 0.7775\n",
            "Epoch 20/20\n",
            "50000/50000 [==============================] - 21s 419us/step - loss: 0.5443 - acc: 0.8082 - val_loss: 0.6466 - val_acc: 0.7871\n"
          ],
          "name": "stdout"
        },
        {
          "output_type": "execute_result",
          "data": {
            "text/plain": [
              "'\\n   第四步：訓練\\n   .fit的一些參數\\n   batch_size：對總的樣本數進行分組，每組包含的樣本數量\\n   epochs ：訓練次數\\n   shuffle：是否把數據隨機打亂之後再進行訓練\\n   validation_split：拿出百分之多少用來做交叉驗證\\n   verbose：屏顯模式 - 0：不輸出, 1：輸出進度, 2：輸出每次的訓練結果\\n'"
            ]
          },
          "metadata": {
            "tags": []
          },
          "execution_count": 10
        }
      ]
    },
    {
      "cell_type": "code",
      "metadata": {
        "id": "_7aB0n0N9Mr9",
        "colab_type": "code",
        "outputId": "0e1e533a-6dab-41af-e865-50981e9dc26a",
        "colab": {
          "base_uri": "https://localhost:8080/",
          "height": 85
        }
      },
      "source": [
        "# Save model and weights\n",
        "if not os.path.isdir(save_dir):\n",
        "    os.makedirs(save_dir)\n",
        "model_path = os.path.join(save_dir, model_name)\n",
        "model.save(model_path)\n",
        "print('Saved trained model at %s ' % model_path)\n",
        "\n",
        "# Score trained model.\n",
        "scores = model.evaluate(x_test, y_test, verbose=1)\n",
        "print('Test loss:', scores[0])\n",
        "print('Test accuracy:', scores[1])"
      ],
      "execution_count": 11,
      "outputs": [
        {
          "output_type": "stream",
          "text": [
            "Saved trained model at /content/saved_models/keras_cifar10_trained_model.h5 \n",
            "10000/10000 [==============================] - 1s 122us/step\n",
            "Test loss: 0.6465539040565491\n",
            "Test accuracy: 0.7871\n"
          ],
          "name": "stdout"
        }
      ]
    },
    {
      "cell_type": "code",
      "metadata": {
        "id": "z3g1fj7d9MsC",
        "colab_type": "code",
        "outputId": "1b43ea42-9ee2-460c-ea8a-70d72b7545b4",
        "colab": {
          "base_uri": "https://localhost:8080/",
          "height": 68
        }
      },
      "source": [
        "#    第六步：輸出\n",
        "import numpy \n",
        "\n",
        "print ( \" test set \" )\n",
        "scores = model.evaluate(x_test,y_test,batch_size=200,verbose= 0)\n",
        "print ( \"\" )\n",
        "#print ( \" The test loss is %f \" % scores)\n",
        "print ( \" The test loss is %f \", scores)\n",
        "\n",
        "\n",
        "result = model.predict(x_test,batch_size=200,verbose= 0)\n",
        "\n",
        "result_max = numpy.argmax(result, axis = 1 )\n",
        "test_max = numpy.argmax(y_test, axis = 1 )\n",
        "\n",
        "result_bool = numpy.equal(result_max, test_max)\n",
        "true_num = numpy.sum(result_bool)\n"
      ],
      "execution_count": 12,
      "outputs": [
        {
          "output_type": "stream",
          "text": [
            " test set \n",
            "\n",
            " The test loss is %f  [0.6465539103746414, 0.7871000039577484]\n"
          ],
          "name": "stdout"
        }
      ]
    },
    {
      "cell_type": "code",
      "metadata": {
        "id": "7AGK0VQS9MsG",
        "colab_type": "code",
        "outputId": "7856ca22-d868-4361-9c47-cda8c1dd445d",
        "colab": {
          "base_uri": "https://localhost:8080/",
          "height": 573
        }
      },
      "source": [
        "import matplotlib.pyplot as plt\n",
        "%matplotlib inline\n",
        "\n",
        "# Plot training & validation accuracy values\n",
        "plt.plot(history.history['acc'])\n",
        "plt.plot(history.history['val_acc'])\n",
        "plt.title('Model accuracy')\n",
        "plt.ylabel('Accuracy')\n",
        "plt.xlabel('Epoch')\n",
        "plt.legend(['Train', 'Valiidation'], loc='upper left')\n",
        "plt.show()\n",
        "\n",
        "# Plot training & validation loss values\n",
        "plt.plot(history.history['loss'])\n",
        "plt.plot(history.history['val_loss'])\n",
        "plt.title('Model loss')\n",
        "plt.ylabel('Loss')\n",
        "plt.xlabel('Epoch')\n",
        "plt.legend(['Train', 'Valiidation'], loc='upper left')\n",
        "plt.show()"
      ],
      "execution_count": 13,
      "outputs": [
        {
          "output_type": "display_data",
          "data": {
            "image/png": "[encoded data removed]",
            "text/plain": [
              "<Figure size 432x288 with 1 Axes>"
            ]
          },
          "metadata": {
            "tags": []
          }
        },
        {
          "output_type": "display_data",
          "data": {
            "image/png": "[encoded data removed]",
            "text/plain": [
              "<Figure size 432x288 with 1 Axes>"
            ]
          },
          "metadata": {
            "tags": []
          }
        }
      ]
    },
    {
      "cell_type": "code",
      "metadata": {
        "id": "e3JkvAs39MsJ",
        "colab_type": "code",
        "colab": {}
      },
      "source": [
        ""
      ],
      "execution_count": 0,
      "outputs": []
    },
    {
      "cell_type": "markdown",
      "metadata": {
        "id": "qEbKqmc9FahL",
        "colab_type": "text"
      },
      "source": [
        "adam的batch size增加到32\n",
        "accuracy增加到.7871"
      ]
    },
    {
      "cell_type": "code",
      "metadata": {
        "id": "Al65RRJ69MsM",
        "colab_type": "code",
        "colab": {}
      },
      "source": [
        ""
      ],
      "execution_count": 0,
      "outputs": []
    },
    {
      "cell_type": "code",
      "metadata": {
        "id": "GF269ZPf9MsT",
        "colab_type": "code",
        "colab": {}
      },
      "source": [
        ""
      ],
      "execution_count": 0,
      "outputs": []
    }
  ]
}