{
  "nbformat": 4,
  "nbformat_minor": 0,
  "metadata": {
    "kernelspec": {
      "name": "python3",
      "display_name": "Python 3"
    },
    "language_info": {
      "codemirror_mode": {
        "name": "ipython",
        "version": 3
      },
      "file_extension": ".py",
      "mimetype": "text/x-python",
      "name": "python",
      "nbconvert_exporter": "python",
      "pygments_lexer": "ipython3",
      "version": "3.6.5"
    },
    "colab": {
      "name": "Day_077_HW_SGD.ipynb",
      "provenance": [],
      "collapsed_sections": []
    },
    "accelerator": "GPU"
  },
  "cells": [
    {
      "cell_type": "markdown",
      "metadata": {
        "id": "0s9x-ugMPZiB",
        "colab_type": "text"
      },
      "source": [
        "## Work\n",
        "1. 請將 Epoch 加到 500 個，並觀察 learning curve 的走勢\n",
        "2. 請將 Optimizer 換成 SGD，並觀察 learning curve 的走勢"
      ]
    },
    {
      "cell_type": "code",
      "metadata": {
        "id": "je9WmCcgPZiG",
        "colab_type": "code",
        "colab": {}
      },
      "source": [
        "import os\n",
        "import keras\n",
        "\n",
        "# 本作業可以不需使用 GPU, 將 GPU 設定為 \"無\" (若有 GPU 且想開啟，可設為 \"0\")\n",
        "os.environ[\"CUDA_VISIBLE_DEVICES\"] = \"0\""
      ],
      "execution_count": 0,
      "outputs": []
    },
    {
      "cell_type": "code",
      "metadata": {
        "id": "fh2BBD3KPZiw",
        "colab_type": "code",
        "colab": {}
      },
      "source": [
        "# 從 Keras 的內建功能中，取得 train 與 test 資料集\n",
        "train, test = keras.datasets.cifar10.load_data()"
      ],
      "execution_count": 0,
      "outputs": []
    },
    {
      "cell_type": "code",
      "metadata": {
        "id": "qIqiEJUNPZjB",
        "colab_type": "code",
        "colab": {}
      },
      "source": [
        "# 將 X 與 Y 獨立放進變數\n",
        "x_train, y_train = train\n",
        "x_test, y_test = test\n",
        "# 資料前處理 - 標準化\n",
        "x_train = x_train / 255.\n",
        "x_test = x_test / 255.\n",
        "\n",
        "# 將資料從圖形 (RGB) 轉為向量 (Single Vector)\n",
        "x_train = x_train.reshape((len(x_train), -1))\n",
        "x_test = x_test.reshape((len(x_test), -1))\n",
        "\n",
        "# 將目標轉為 one-hot encoding\n",
        "y_train = keras.utils.to_categorical(y_train, num_classes=10)\n",
        "y_test = keras.utils.to_categorical(y_test, num_classes=10)"
      ],
      "execution_count": 0,
      "outputs": []
    },
    {
      "cell_type": "code",
      "metadata": {
        "id": "_9MFgGyuPZkw",
        "colab_type": "code",
        "colab": {}
      },
      "source": [
        "def build_mlp():\n",
        "    input_layer = keras.layers.Input([x_train.shape[-1]])\n",
        "    x = keras.layers.Dense(units=512, activation=\"relu\")(input_layer)\n",
        "    x = keras.layers.Dense(units=256, activation=\"relu\")(x)\n",
        "    x = keras.layers.Dense(units=128, activation=\"relu\")(x)\n",
        "    out = keras.layers.Dense(units=10, activation=\"softmax\")(x)\n",
        "    \n",
        "    model = keras.models.Model(inputs=[input_layer], outputs=[out])\n",
        "    return model\n",
        "    \n",
        "model = build_mlp()"
      ],
      "execution_count": 0,
      "outputs": []
    },
    {
      "cell_type": "code",
      "metadata": {
        "id": "u5p1gXhTPZlC",
        "colab_type": "code",
        "colab": {
          "base_uri": "https://localhost:8080/",
          "height": 391
        },
        "outputId": "9e9e7c58-cc69-4cdd-a1ba-8c06ae74f9b0"
      },
      "source": [
        "\"\"\"\n",
        "Compile 模型\n",
        "\"\"\"\n",
        "model = build_mlp()\n",
        "# 用 Keras 內建方法檢視模型各層參數量\n",
        "model.summary()\n",
        "\n",
        "#optimizer = keras.optimizers.Adam(lr=0.001)\n",
        "optimizer = keras.optimizers.SGD(lr=0.01, decay=1e-6, momentum=0.9, nesterov=True)\n",
        "\n",
        "model.compile(loss=\"categorical_crossentropy\", metrics=[\"accuracy\"], optimizer=optimizer)\n"
      ],
      "execution_count": 15,
      "outputs": [
        {
          "output_type": "stream",
          "text": [
            "Model: \"model_6\"\n",
            "_________________________________________________________________\n",
            "Layer (type)                 Output Shape              Param #   \n",
            "=================================================================\n",
            "input_6 (InputLayer)         (None, 3072)              0         \n",
            "_________________________________________________________________\n",
            "dense_21 (Dense)             (None, 512)               1573376   \n",
            "_________________________________________________________________\n",
            "dense_22 (Dense)             (None, 256)               131328    \n",
            "_________________________________________________________________\n",
            "dense_23 (Dense)             (None, 128)               32896     \n",
            "_________________________________________________________________\n",
            "dense_24 (Dense)             (None, 10)                1290      \n",
            "=================================================================\n",
            "Total params: 1,738,890\n",
            "Trainable params: 1,738,890\n",
            "Non-trainable params: 0\n",
            "_________________________________________________________________\n",
            "WARNING:tensorflow:From /usr/local/lib/python3.6/dist-packages/keras/optimizers.py:793: The name tf.train.Optimizer is deprecated. Please use tf.compat.v1.train.Optimizer instead.\n",
            "\n",
            "WARNING:tensorflow:From /usr/local/lib/python3.6/dist-packages/keras/backend/tensorflow_backend.py:3576: The name tf.log is deprecated. Please use tf.math.log instead.\n",
            "\n"
          ],
          "name": "stdout"
        }
      ]
    },
    {
      "cell_type": "code",
      "metadata": {
        "scrolled": true,
        "id": "qyWFWM7rPZlF",
        "colab_type": "code",
        "colab": {
          "base_uri": "https://localhost:8080/",
          "height": 1000
        },
        "outputId": "89a9e0bc-cbdb-42d6-f01b-8435bce5ba6e"
      },
      "source": [
        "\"\"\"\n",
        "設定要訓練的 Epoch 數\n",
        "\"\"\"\n",
        "model.fit(x_train, y_train, \n",
        "          epochs=100, \n",
        "          batch_size=256, \n",
        "          validation_data=(x_test, y_test), \n",
        "          shuffle=True)"
      ],
      "execution_count": 16,
      "outputs": [
        {
          "output_type": "stream",
          "text": [
            "WARNING:tensorflow:From /usr/local/lib/python3.6/dist-packages/tensorflow_core/python/ops/math_grad.py:1424: where (from tensorflow.python.ops.array_ops) is deprecated and will be removed in a future version.\n",
            "Instructions for updating:\n",
            "Use tf.where in 2.0, which has the same broadcast rule as np.where\n",
            "WARNING:tensorflow:From /usr/local/lib/python3.6/dist-packages/keras/backend/tensorflow_backend.py:1033: The name tf.assign_add is deprecated. Please use tf.compat.v1.assign_add instead.\n",
            "\n",
            "WARNING:tensorflow:From /usr/local/lib/python3.6/dist-packages/keras/backend/tensorflow_backend.py:1020: The name tf.assign is deprecated. Please use tf.compat.v1.assign instead.\n",
            "\n",
            "WARNING:tensorflow:From /usr/local/lib/python3.6/dist-packages/keras/backend/tensorflow_backend.py:3005: The name tf.Session is deprecated. Please use tf.compat.v1.Session instead.\n",
            "\n",
            "Train on 50000 samples, validate on 10000 samples\n",
            "Epoch 1/100\n",
            "WARNING:tensorflow:From /usr/local/lib/python3.6/dist-packages/keras/backend/tensorflow_backend.py:190: The name tf.get_default_session is deprecated. Please use tf.compat.v1.get_default_session instead.\n",
            "\n",
            "WARNING:tensorflow:From /usr/local/lib/python3.6/dist-packages/keras/backend/tensorflow_backend.py:197: The name tf.ConfigProto is deprecated. Please use tf.compat.v1.ConfigProto instead.\n",
            "\n",
            "WARNING:tensorflow:From /usr/local/lib/python3.6/dist-packages/keras/backend/tensorflow_backend.py:207: The name tf.global_variables is deprecated. Please use tf.compat.v1.global_variables instead.\n",
            "\n",
            "WARNING:tensorflow:From /usr/local/lib/python3.6/dist-packages/keras/backend/tensorflow_backend.py:216: The name tf.is_variable_initialized is deprecated. Please use tf.compat.v1.is_variable_initialized instead.\n",
            "\n",
            "WARNING:tensorflow:From /usr/local/lib/python3.6/dist-packages/keras/backend/tensorflow_backend.py:223: The name tf.variables_initializer is deprecated. Please use tf.compat.v1.variables_initializer instead.\n",
            "\n",
            "50000/50000 [==============================] - 7s 134us/step - loss: 1.8637 - acc: 0.3343 - val_loss: 1.7173 - val_acc: 0.3846\n",
            "Epoch 2/100\n",
            "50000/50000 [==============================] - 2s 42us/step - loss: 1.6411 - acc: 0.4172 - val_loss: 1.6435 - val_acc: 0.4149\n",
            "Epoch 3/100\n",
            "50000/50000 [==============================] - 2s 42us/step - loss: 1.5604 - acc: 0.4456 - val_loss: 1.6159 - val_acc: 0.4260\n",
            "Epoch 4/100\n",
            "50000/50000 [==============================] - 2s 42us/step - loss: 1.4911 - acc: 0.4714 - val_loss: 1.5445 - val_acc: 0.4550\n",
            "Epoch 5/100\n",
            "50000/50000 [==============================] - 2s 43us/step - loss: 1.4463 - acc: 0.4883 - val_loss: 1.5569 - val_acc: 0.4392\n",
            "Epoch 6/100\n",
            "50000/50000 [==============================] - 2s 42us/step - loss: 1.4003 - acc: 0.5042 - val_loss: 1.4689 - val_acc: 0.4721\n",
            "Epoch 7/100\n",
            "50000/50000 [==============================] - 2s 42us/step - loss: 1.3622 - acc: 0.5178 - val_loss: 1.4779 - val_acc: 0.4652\n",
            "Epoch 8/100\n",
            "50000/50000 [==============================] - 2s 43us/step - loss: 1.3300 - acc: 0.5306 - val_loss: 1.4648 - val_acc: 0.4716\n",
            "Epoch 9/100\n",
            "50000/50000 [==============================] - 2s 42us/step - loss: 1.2996 - acc: 0.5402 - val_loss: 1.4434 - val_acc: 0.4802\n",
            "Epoch 10/100\n",
            "50000/50000 [==============================] - 2s 43us/step - loss: 1.2748 - acc: 0.5505 - val_loss: 1.4167 - val_acc: 0.4964\n",
            "Epoch 11/100\n",
            "50000/50000 [==============================] - 2s 42us/step - loss: 1.2497 - acc: 0.5587 - val_loss: 1.4131 - val_acc: 0.5005\n",
            "Epoch 12/100\n",
            "50000/50000 [==============================] - 2s 43us/step - loss: 1.2154 - acc: 0.5702 - val_loss: 1.4449 - val_acc: 0.4916\n",
            "Epoch 13/100\n",
            "50000/50000 [==============================] - 2s 43us/step - loss: 1.1956 - acc: 0.5768 - val_loss: 1.3691 - val_acc: 0.5169\n",
            "Epoch 14/100\n",
            "50000/50000 [==============================] - 2s 42us/step - loss: 1.1682 - acc: 0.5901 - val_loss: 1.3412 - val_acc: 0.5202\n",
            "Epoch 15/100\n",
            "50000/50000 [==============================] - 2s 43us/step - loss: 1.1434 - acc: 0.5982 - val_loss: 1.3629 - val_acc: 0.5162\n",
            "Epoch 16/100\n",
            "50000/50000 [==============================] - 2s 42us/step - loss: 1.1174 - acc: 0.6063 - val_loss: 1.3397 - val_acc: 0.5280\n",
            "Epoch 17/100\n",
            "50000/50000 [==============================] - 2s 42us/step - loss: 1.0947 - acc: 0.6132 - val_loss: 1.4248 - val_acc: 0.5145\n",
            "Epoch 18/100\n",
            "50000/50000 [==============================] - 2s 41us/step - loss: 1.0720 - acc: 0.6216 - val_loss: 1.4386 - val_acc: 0.4976\n",
            "Epoch 19/100\n",
            "50000/50000 [==============================] - 2s 42us/step - loss: 1.0467 - acc: 0.6314 - val_loss: 1.4011 - val_acc: 0.5141\n",
            "Epoch 20/100\n",
            "50000/50000 [==============================] - 2s 42us/step - loss: 1.0270 - acc: 0.6379 - val_loss: 1.3370 - val_acc: 0.5314\n",
            "Epoch 21/100\n",
            "50000/50000 [==============================] - 2s 43us/step - loss: 1.0006 - acc: 0.6468 - val_loss: 1.4015 - val_acc: 0.5230\n",
            "Epoch 22/100\n",
            "50000/50000 [==============================] - 2s 44us/step - loss: 0.9759 - acc: 0.6552 - val_loss: 1.4605 - val_acc: 0.5039\n",
            "Epoch 23/100\n",
            "50000/50000 [==============================] - 2s 43us/step - loss: 0.9575 - acc: 0.6620 - val_loss: 1.5094 - val_acc: 0.4962\n",
            "Epoch 24/100\n",
            "50000/50000 [==============================] - 2s 43us/step - loss: 0.9367 - acc: 0.6714 - val_loss: 1.5290 - val_acc: 0.5079\n",
            "Epoch 25/100\n",
            "50000/50000 [==============================] - 2s 43us/step - loss: 0.9138 - acc: 0.6744 - val_loss: 1.4135 - val_acc: 0.5246\n",
            "Epoch 26/100\n",
            "50000/50000 [==============================] - 2s 43us/step - loss: 0.8947 - acc: 0.6844 - val_loss: 1.3781 - val_acc: 0.5427\n",
            "Epoch 27/100\n",
            "50000/50000 [==============================] - 2s 44us/step - loss: 0.8660 - acc: 0.6943 - val_loss: 1.4437 - val_acc: 0.5269\n",
            "Epoch 28/100\n",
            "50000/50000 [==============================] - 2s 43us/step - loss: 0.8440 - acc: 0.7034 - val_loss: 1.4704 - val_acc: 0.5241\n",
            "Epoch 29/100\n",
            "50000/50000 [==============================] - 2s 43us/step - loss: 0.8220 - acc: 0.7097 - val_loss: 1.4125 - val_acc: 0.5408\n",
            "Epoch 30/100\n",
            "50000/50000 [==============================] - 2s 43us/step - loss: 0.8044 - acc: 0.7171 - val_loss: 1.5099 - val_acc: 0.5173\n",
            "Epoch 31/100\n",
            "50000/50000 [==============================] - 2s 45us/step - loss: 0.7890 - acc: 0.7225 - val_loss: 1.5224 - val_acc: 0.5194\n",
            "Epoch 32/100\n",
            "50000/50000 [==============================] - 2s 44us/step - loss: 0.7602 - acc: 0.7322 - val_loss: 1.5620 - val_acc: 0.5146\n",
            "Epoch 33/100\n",
            "50000/50000 [==============================] - 2s 44us/step - loss: 0.7377 - acc: 0.7387 - val_loss: 1.6576 - val_acc: 0.5025\n",
            "Epoch 34/100\n",
            "50000/50000 [==============================] - 2s 44us/step - loss: 0.7185 - acc: 0.7433 - val_loss: 1.4978 - val_acc: 0.5329\n",
            "Epoch 35/100\n",
            "50000/50000 [==============================] - 2s 44us/step - loss: 0.6990 - acc: 0.7526 - val_loss: 1.6221 - val_acc: 0.5228\n",
            "Epoch 36/100\n",
            "50000/50000 [==============================] - 2s 45us/step - loss: 0.6760 - acc: 0.7591 - val_loss: 1.6028 - val_acc: 0.5161\n",
            "Epoch 37/100\n",
            "50000/50000 [==============================] - 2s 46us/step - loss: 0.6563 - acc: 0.7682 - val_loss: 1.8099 - val_acc: 0.4970\n",
            "Epoch 38/100\n",
            "50000/50000 [==============================] - 2s 44us/step - loss: 0.6427 - acc: 0.7735 - val_loss: 1.7028 - val_acc: 0.5099\n",
            "Epoch 39/100\n",
            "50000/50000 [==============================] - 2s 43us/step - loss: 0.6178 - acc: 0.7823 - val_loss: 1.6056 - val_acc: 0.5317\n",
            "Epoch 40/100\n",
            "50000/50000 [==============================] - 2s 43us/step - loss: 0.5972 - acc: 0.7906 - val_loss: 1.6872 - val_acc: 0.5260\n",
            "Epoch 41/100\n",
            "50000/50000 [==============================] - 2s 44us/step - loss: 0.5784 - acc: 0.7949 - val_loss: 1.6686 - val_acc: 0.5232\n",
            "Epoch 42/100\n",
            "50000/50000 [==============================] - 2s 43us/step - loss: 0.5514 - acc: 0.8073 - val_loss: 1.7583 - val_acc: 0.5228\n",
            "Epoch 43/100\n",
            "50000/50000 [==============================] - 2s 44us/step - loss: 0.5461 - acc: 0.8062 - val_loss: 1.7661 - val_acc: 0.5211\n",
            "Epoch 44/100\n",
            "50000/50000 [==============================] - 2s 44us/step - loss: 0.5203 - acc: 0.8169 - val_loss: 1.8496 - val_acc: 0.5202\n",
            "Epoch 45/100\n",
            "50000/50000 [==============================] - 2s 43us/step - loss: 0.4991 - acc: 0.8246 - val_loss: 1.7849 - val_acc: 0.5293\n",
            "Epoch 46/100\n",
            "50000/50000 [==============================] - 2s 43us/step - loss: 0.4820 - acc: 0.8305 - val_loss: 1.7845 - val_acc: 0.5258\n",
            "Epoch 47/100\n",
            "50000/50000 [==============================] - 2s 43us/step - loss: 0.4687 - acc: 0.8336 - val_loss: 1.9763 - val_acc: 0.4985\n",
            "Epoch 48/100\n",
            "50000/50000 [==============================] - 2s 44us/step - loss: 0.4608 - acc: 0.8363 - val_loss: 1.8624 - val_acc: 0.5329\n",
            "Epoch 49/100\n",
            "50000/50000 [==============================] - 2s 44us/step - loss: 0.4260 - acc: 0.8505 - val_loss: 1.9841 - val_acc: 0.5275\n",
            "Epoch 50/100\n",
            "50000/50000 [==============================] - 2s 45us/step - loss: 0.4180 - acc: 0.8529 - val_loss: 2.0871 - val_acc: 0.4956\n",
            "Epoch 51/100\n",
            "50000/50000 [==============================] - 2s 43us/step - loss: 0.4090 - acc: 0.8567 - val_loss: 2.0001 - val_acc: 0.5320\n",
            "Epoch 52/100\n",
            "50000/50000 [==============================] - 2s 44us/step - loss: 0.3843 - acc: 0.8651 - val_loss: 2.2741 - val_acc: 0.5051\n",
            "Epoch 53/100\n",
            "50000/50000 [==============================] - 2s 44us/step - loss: 0.3677 - acc: 0.8718 - val_loss: 2.0610 - val_acc: 0.5312\n",
            "Epoch 54/100\n",
            "50000/50000 [==============================] - 2s 44us/step - loss: 0.3648 - acc: 0.8719 - val_loss: 2.0423 - val_acc: 0.5295\n",
            "Epoch 55/100\n",
            "50000/50000 [==============================] - 2s 44us/step - loss: 0.3530 - acc: 0.8757 - val_loss: 2.0218 - val_acc: 0.5395\n",
            "Epoch 56/100\n",
            "50000/50000 [==============================] - 2s 45us/step - loss: 0.3388 - acc: 0.8796 - val_loss: 2.2138 - val_acc: 0.5099\n",
            "Epoch 57/100\n",
            "50000/50000 [==============================] - 2s 44us/step - loss: 0.3181 - acc: 0.8889 - val_loss: 2.4483 - val_acc: 0.5099\n",
            "Epoch 58/100\n",
            "50000/50000 [==============================] - 2s 44us/step - loss: 0.3260 - acc: 0.8854 - val_loss: 2.3391 - val_acc: 0.5253\n",
            "Epoch 59/100\n",
            "50000/50000 [==============================] - 2s 44us/step - loss: 0.3001 - acc: 0.8934 - val_loss: 2.5105 - val_acc: 0.5126\n",
            "Epoch 60/100\n",
            "50000/50000 [==============================] - 2s 44us/step - loss: 0.2859 - acc: 0.8998 - val_loss: 2.3072 - val_acc: 0.5172\n",
            "Epoch 61/100\n",
            "50000/50000 [==============================] - 2s 43us/step - loss: 0.2791 - acc: 0.9020 - val_loss: 2.3915 - val_acc: 0.5231\n",
            "Epoch 62/100\n",
            "50000/50000 [==============================] - 2s 43us/step - loss: 0.2636 - acc: 0.9083 - val_loss: 2.2619 - val_acc: 0.5335\n",
            "Epoch 63/100\n",
            "50000/50000 [==============================] - 2s 44us/step - loss: 0.2629 - acc: 0.9069 - val_loss: 2.3464 - val_acc: 0.5268\n",
            "Epoch 64/100\n",
            "50000/50000 [==============================] - 2s 44us/step - loss: 0.2569 - acc: 0.9096 - val_loss: 2.6124 - val_acc: 0.5031\n",
            "Epoch 65/100\n",
            "50000/50000 [==============================] - 2s 44us/step - loss: 0.2461 - acc: 0.9141 - val_loss: 2.4312 - val_acc: 0.5295\n",
            "Epoch 66/100\n",
            "50000/50000 [==============================] - 2s 44us/step - loss: 0.2372 - acc: 0.9153 - val_loss: 2.5759 - val_acc: 0.5197\n",
            "Epoch 67/100\n",
            "50000/50000 [==============================] - 2s 44us/step - loss: 0.2201 - acc: 0.9229 - val_loss: 2.7102 - val_acc: 0.5094\n",
            "Epoch 68/100\n",
            "50000/50000 [==============================] - 2s 44us/step - loss: 0.2307 - acc: 0.9186 - val_loss: 2.5369 - val_acc: 0.5340\n",
            "Epoch 69/100\n",
            "50000/50000 [==============================] - 2s 44us/step - loss: 0.2202 - acc: 0.9228 - val_loss: 2.6398 - val_acc: 0.5314\n",
            "Epoch 70/100\n",
            "50000/50000 [==============================] - 2s 44us/step - loss: 0.2047 - acc: 0.9278 - val_loss: 2.5628 - val_acc: 0.5244\n",
            "Epoch 71/100\n",
            "50000/50000 [==============================] - 2s 44us/step - loss: 0.1879 - acc: 0.9350 - val_loss: 2.9808 - val_acc: 0.4967\n",
            "Epoch 72/100\n",
            "50000/50000 [==============================] - 2s 43us/step - loss: 0.2089 - acc: 0.9256 - val_loss: 2.7810 - val_acc: 0.5170\n",
            "Epoch 73/100\n",
            "50000/50000 [==============================] - 2s 44us/step - loss: 0.1995 - acc: 0.9295 - val_loss: 2.6474 - val_acc: 0.5289\n",
            "Epoch 74/100\n",
            "50000/50000 [==============================] - 2s 43us/step - loss: 0.1905 - acc: 0.9331 - val_loss: 2.7238 - val_acc: 0.5275\n",
            "Epoch 75/100\n",
            "50000/50000 [==============================] - 2s 44us/step - loss: 0.1805 - acc: 0.9364 - val_loss: 2.8452 - val_acc: 0.5267\n",
            "Epoch 76/100\n",
            "50000/50000 [==============================] - 2s 44us/step - loss: 0.1654 - acc: 0.9422 - val_loss: 2.7869 - val_acc: 0.5272\n",
            "Epoch 77/100\n",
            "50000/50000 [==============================] - 2s 44us/step - loss: 0.1650 - acc: 0.9424 - val_loss: 3.0096 - val_acc: 0.5149\n",
            "Epoch 78/100\n",
            "50000/50000 [==============================] - 2s 44us/step - loss: 0.1511 - acc: 0.9477 - val_loss: 2.8319 - val_acc: 0.5339\n",
            "Epoch 79/100\n",
            "50000/50000 [==============================] - 2s 43us/step - loss: 0.1283 - acc: 0.9572 - val_loss: 2.9226 - val_acc: 0.5194\n",
            "Epoch 80/100\n",
            "50000/50000 [==============================] - 2s 43us/step - loss: 0.1581 - acc: 0.9435 - val_loss: 2.9876 - val_acc: 0.5241\n",
            "Epoch 81/100\n",
            "50000/50000 [==============================] - 2s 44us/step - loss: 0.1625 - acc: 0.9416 - val_loss: 2.9935 - val_acc: 0.5270\n",
            "Epoch 82/100\n",
            "50000/50000 [==============================] - 2s 43us/step - loss: 0.1647 - acc: 0.9406 - val_loss: 2.9273 - val_acc: 0.5243\n",
            "Epoch 83/100\n",
            "50000/50000 [==============================] - 2s 44us/step - loss: 0.1443 - acc: 0.9487 - val_loss: 3.0277 - val_acc: 0.5314\n",
            "Epoch 84/100\n",
            "50000/50000 [==============================] - 2s 44us/step - loss: 0.1522 - acc: 0.9458 - val_loss: 3.1542 - val_acc: 0.5227\n",
            "Epoch 85/100\n",
            "50000/50000 [==============================] - 2s 43us/step - loss: 0.1425 - acc: 0.9503 - val_loss: 3.0965 - val_acc: 0.5201\n",
            "Epoch 86/100\n",
            "50000/50000 [==============================] - 2s 45us/step - loss: 0.1457 - acc: 0.9483 - val_loss: 3.0427 - val_acc: 0.5294\n",
            "Epoch 87/100\n",
            "50000/50000 [==============================] - 2s 43us/step - loss: 0.1447 - acc: 0.9489 - val_loss: 3.1832 - val_acc: 0.5214\n",
            "Epoch 88/100\n",
            "50000/50000 [==============================] - 2s 45us/step - loss: 0.1647 - acc: 0.9409 - val_loss: 3.1926 - val_acc: 0.5202\n",
            "Epoch 89/100\n",
            "50000/50000 [==============================] - 2s 44us/step - loss: 0.1462 - acc: 0.9482 - val_loss: 3.1195 - val_acc: 0.5219\n",
            "Epoch 90/100\n",
            "50000/50000 [==============================] - 2s 43us/step - loss: 0.1213 - acc: 0.9580 - val_loss: 3.0401 - val_acc: 0.5358\n",
            "Epoch 91/100\n",
            "50000/50000 [==============================] - 2s 43us/step - loss: 0.1106 - acc: 0.9610 - val_loss: 3.1984 - val_acc: 0.5304\n",
            "Epoch 92/100\n",
            "50000/50000 [==============================] - 2s 44us/step - loss: 0.1279 - acc: 0.9561 - val_loss: 3.2243 - val_acc: 0.5341\n",
            "Epoch 93/100\n",
            "50000/50000 [==============================] - 2s 44us/step - loss: 0.1229 - acc: 0.9569 - val_loss: 3.2317 - val_acc: 0.5293\n",
            "Epoch 94/100\n",
            "50000/50000 [==============================] - 2s 44us/step - loss: 0.1315 - acc: 0.9534 - val_loss: 3.2682 - val_acc: 0.5114\n",
            "Epoch 95/100\n",
            "50000/50000 [==============================] - 2s 45us/step - loss: 0.1268 - acc: 0.9544 - val_loss: 3.1979 - val_acc: 0.5324\n",
            "Epoch 96/100\n",
            "50000/50000 [==============================] - 2s 43us/step - loss: 0.0973 - acc: 0.9673 - val_loss: 3.2287 - val_acc: 0.5369\n",
            "Epoch 97/100\n",
            "50000/50000 [==============================] - 2s 43us/step - loss: 0.0977 - acc: 0.9655 - val_loss: 3.4377 - val_acc: 0.5234\n",
            "Epoch 98/100\n",
            "50000/50000 [==============================] - 2s 43us/step - loss: 0.1294 - acc: 0.9535 - val_loss: 3.3195 - val_acc: 0.5284\n",
            "Epoch 99/100\n",
            "50000/50000 [==============================] - 2s 44us/step - loss: 0.1164 - acc: 0.9583 - val_loss: 3.3121 - val_acc: 0.5304\n",
            "Epoch 100/100\n",
            "50000/50000 [==============================] - 2s 44us/step - loss: 0.1118 - acc: 0.9598 - val_loss: 3.3351 - val_acc: 0.5328\n"
          ],
          "name": "stdout"
        },
        {
          "output_type": "execute_result",
          "data": {
            "text/plain": [
              "<keras.callbacks.History at 0x7ff62ffaac88>"
            ]
          },
          "metadata": {
            "tags": []
          },
          "execution_count": 16
        }
      ]
    },
    {
      "cell_type": "code",
      "metadata": {
        "id": "GSgHeFwxPZlJ",
        "colab_type": "code",
        "colab": {
          "base_uri": "https://localhost:8080/",
          "height": 545
        },
        "outputId": "26c8232f-5a79-4e2a-fa75-3b934f1db111"
      },
      "source": [
        "import matplotlib.pyplot as plt\n",
        "# 以視覺畫方式檢視訓練過程\n",
        "\n",
        "train_loss = model.history.history[\"loss\"]\n",
        "valid_loss = model.history.history[\"val_loss\"]\n",
        "\n",
        "train_acc = model.history.history[\"acc\"]\n",
        "valid_acc = model.history.history[\"val_acc\"]\n",
        "\n",
        "plt.plot(range(len(train_loss)), train_loss, label=\"train loss\")\n",
        "plt.plot(range(len(valid_loss)), valid_loss, label=\"valid loss\")\n",
        "plt.legend()\n",
        "plt.title(\"Loss\")\n",
        "plt.show()\n",
        "\n",
        "plt.plot(range(len(train_acc)), train_acc, label=\"train accuracy\")\n",
        "plt.plot(range(len(valid_acc)), valid_acc, label=\"valid accuracy\")\n",
        "plt.legend()\n",
        "plt.title(\"Accuracy\")\n",
        "plt.show()"
      ],
      "execution_count": 17,
      "outputs": [
        {
          "output_type": "display_data",
          "data": {
            "image/png": "[encoded data removed]",
            "text/plain": [
              "<Figure size 432x288 with 1 Axes>"
            ]
          },
          "metadata": {
            "tags": []
          }
        },
        {
          "output_type": "display_data",
          "data": {
            "image/png": "[encoded data removed]",
            "text/plain": [
              "<Figure size 432x288 with 1 Axes>"
            ]
          },
          "metadata": {
            "tags": []
          }
        }
      ]
    }
  ]
}