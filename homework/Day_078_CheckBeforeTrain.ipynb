{
  "nbformat": 4,
  "nbformat_minor": 0,
  "metadata": {
    "kernelspec": {
      "display_name": "Python 3",
      "language": "python",
      "name": "python3"
    },
    "language_info": {
      "codemirror_mode": {
        "name": "ipython",
        "version": 3
      },
      "file_extension": ".py",
      "mimetype": "text/x-python",
      "name": "python",
      "nbconvert_exporter": "python",
      "pygments_lexer": "ipython3",
      "version": "3.6.5"
    },
    "colab": {
      "name": "Day_078_CheckBeforeTrain.ipynb",
      "provenance": []
    }
  },
  "cells": [
    {
      "cell_type": "markdown",
      "metadata": {
        "id": "LWq2NzzWXVJc",
        "colab_type": "text"
      },
      "source": [
        "## 範例重點\n",
        "### 學習在模型開始前檢查各個環節\n",
        "1. 是否有 GPU 資源\n",
        "2. 將前處理轉為函式，統一處理訓練、驗證與測試集\n",
        "3. 將超參數變數化，易於重複使用函式、模型等"
      ]
    },
    {
      "cell_type": "code",
      "metadata": {
        "id": "_2bfo9AsXVJf",
        "colab_type": "code",
        "outputId": "99431bec-76f7-41fe-be3d-99a0a3d7e81a",
        "colab": {
          "base_uri": "https://localhost:8080/",
          "height": 51
        }
      },
      "source": [
        "## 確認硬體資源 (如果你是在 Linux, 若是在 Windows, 請參考 https://blog.csdn.net/idwtwt/article/details/78017565)\n",
        "!nvidia-smi"
      ],
      "execution_count": 0,
      "outputs": [
        {
          "output_type": "stream",
          "text": [
            "NVIDIA-SMI has failed because it couldn't communicate with the NVIDIA driver. Make sure that the latest NVIDIA driver is installed and running.\n",
            "\n"
          ],
          "name": "stdout"
        }
      ]
    },
    {
      "cell_type": "code",
      "metadata": {
        "id": "Y7pjE813XVJi",
        "colab_type": "code",
        "outputId": "62739275-a699-47a7-d264-e8b41765e637",
        "colab": {
          "base_uri": "https://localhost:8080/",
          "height": 80
        }
      },
      "source": [
        "import os\n",
        "import keras\n",
        "\n",
        "# 本範例不需使用 GPU, 將 GPU 設定為 \"無\"\n",
        "os.environ[\"CUDA_VISIBLE_DEVICES\"] = \"\""
      ],
      "execution_count": 0,
      "outputs": [
        {
          "output_type": "stream",
          "text": [
            "Using TensorFlow backend.\n"
          ],
          "name": "stderr"
        },
        {
          "output_type": "display_data",
          "data": {
            "text/html": [
              "<p style=\"color: red;\">\n",
              "The default version of TensorFlow in Colab will soon switch to TensorFlow 2.x.<br>\n",
              "We recommend you <a href=\"https://www.tensorflow.org/guide/migrate\" target=\"_blank\">upgrade</a> now \n",
              "or ensure your notebook will continue to use TensorFlow 1.x via the <code>%tensorflow_version 1.x</code> magic:\n",
              "<a href=\"https://colab.research.google.com/notebooks/tensorflow_version.ipynb\" target=\"_blank\">more info</a>.</p>\n"
            ],
            "text/plain": [
              "<IPython.core.display.HTML object>"
            ]
          },
          "metadata": {
            "tags": []
          }
        }
      ]
    },
    {
      "cell_type": "code",
      "metadata": {
        "id": "sU4ETwWFXVJm",
        "colab_type": "code",
        "outputId": "d278f88b-647b-4caf-d804-8bb2cb45cb43",
        "colab": {
          "base_uri": "https://localhost:8080/",
          "height": 51
        }
      },
      "source": [
        "# 從 Keras 的內建功能中，取得 train 與 test 資料集\n",
        "train, test = keras.datasets.cifar10.load_data()"
      ],
      "execution_count": 0,
      "outputs": [
        {
          "output_type": "stream",
          "text": [
            "Downloading data from https://www.cs.toronto.edu/~kriz/cifar-10-python.tar.gz\n",
            "170500096/170498071 [==============================] - 6s 0us/step\n"
          ],
          "name": "stdout"
        }
      ]
    },
    {
      "cell_type": "code",
      "metadata": {
        "id": "k6V6cE31XVJo",
        "colab_type": "code",
        "colab": {}
      },
      "source": [
        "## 資料前處理\n",
        "def preproc_x(x, flatten=True):\n",
        "    x = x / 255.\n",
        "    if flatten:\n",
        "        x = x.reshape((len(x), -1))\n",
        "    return x\n",
        "\n",
        "def preproc_y(y, num_classes=10):\n",
        "    if y.shape[-1] == 1:\n",
        "        y = keras.utils.to_categorical(y, num_classes)\n",
        "    return y    "
      ],
      "execution_count": 0,
      "outputs": []
    },
    {
      "cell_type": "code",
      "metadata": {
        "id": "GxIoTVYYXVJr",
        "colab_type": "code",
        "colab": {}
      },
      "source": [
        "x_train, y_train = train\n",
        "x_test, y_test = test\n",
        "\n",
        "# 資料前處理 - X 標準化\n",
        "x_train = preproc_x(x_train)\n",
        "x_test = preproc_x(x_test)\n",
        "\n",
        "# 資料前處理 -Y 轉成 onehot\n",
        "y_train = preproc_y(y_train)\n",
        "y_test = preproc_y(y_test)"
      ],
      "execution_count": 0,
      "outputs": []
    },
    {
      "cell_type": "code",
      "metadata": {
        "id": "akkkh2hGXVJu",
        "colab_type": "code",
        "colab": {}
      },
      "source": [
        "def build_mlp(input_shape, output_units=10, num_neurons=[512, 256, 128]):\n",
        "    input_layer = keras.layers.Input(input_shape)\n",
        "    \n",
        "    for i, n_units in enumerate(num_neurons):\n",
        "        if i == 0:\n",
        "            x = keras.layers.Dense(units=n_units, activation=\"relu\", name=\"hidden_layer\"+str(i+1))(input_layer)\n",
        "        else:\n",
        "            x = keras.layers.Dense(units=n_units, activation=\"relu\", name=\"hidden_layer\"+str(i+1))(x)\n",
        "    \n",
        "    out = keras.layers.Dense(units=output_units, activation=\"softmax\", name=\"output\")(x)\n",
        "    \n",
        "    model = keras.models.Model(inputs=[input_layer], outputs=[out])\n",
        "    return model"
      ],
      "execution_count": 0,
      "outputs": []
    },
    {
      "cell_type": "code",
      "metadata": {
        "id": "JthX5qZoXVJx",
        "colab_type": "code",
        "outputId": "231ac674-085d-40da-8ac0-bb94013faeda",
        "colab": {
          "base_uri": "https://localhost:8080/",
          "height": 425
        }
      },
      "source": [
        "model = build_mlp(input_shape=x_train.shape[1:])\n",
        "model.summary()"
      ],
      "execution_count": 0,
      "outputs": [
        {
          "output_type": "stream",
          "text": [
            "WARNING:tensorflow:From /usr/local/lib/python3.6/dist-packages/keras/backend/tensorflow_backend.py:66: The name tf.get_default_graph is deprecated. Please use tf.compat.v1.get_default_graph instead.\n",
            "\n",
            "WARNING:tensorflow:From /usr/local/lib/python3.6/dist-packages/keras/backend/tensorflow_backend.py:541: The name tf.placeholder is deprecated. Please use tf.compat.v1.placeholder instead.\n",
            "\n",
            "WARNING:tensorflow:From /usr/local/lib/python3.6/dist-packages/keras/backend/tensorflow_backend.py:4432: The name tf.random_uniform is deprecated. Please use tf.random.uniform instead.\n",
            "\n",
            "Model: \"model_1\"\n",
            "_________________________________________________________________\n",
            "Layer (type)                 Output Shape              Param #   \n",
            "=================================================================\n",
            "input_1 (InputLayer)         (None, 3072)              0         \n",
            "_________________________________________________________________\n",
            "hidden_layer1 (Dense)        (None, 512)               1573376   \n",
            "_________________________________________________________________\n",
            "hidden_layer2 (Dense)        (None, 256)               131328    \n",
            "_________________________________________________________________\n",
            "hidden_layer3 (Dense)        (None, 128)               32896     \n",
            "_________________________________________________________________\n",
            "output (Dense)               (None, 10)                1290      \n",
            "=================================================================\n",
            "Total params: 1,738,890\n",
            "Trainable params: 1,738,890\n",
            "Non-trainable params: 0\n",
            "_________________________________________________________________\n"
          ],
          "name": "stdout"
        }
      ]
    },
    {
      "cell_type": "code",
      "metadata": {
        "id": "Q36GgeZrXVJ2",
        "colab_type": "code",
        "colab": {}
      },
      "source": [
        "## 超參數設定\n",
        "LEARNING_RATE = 0.001\n",
        "EPOCHS = 100\n",
        "BATCH_SIZE = 256"
      ],
      "execution_count": 0,
      "outputs": []
    },
    {
      "cell_type": "code",
      "metadata": {
        "id": "hf9ihTfdXVJ5",
        "colab_type": "code",
        "outputId": "70e0a231-0ae7-4779-df92-3b5d3eb3625e",
        "colab": {
          "base_uri": "https://localhost:8080/",
          "height": 85
        }
      },
      "source": [
        "optimizer = keras.optimizers.Adam(lr=LEARNING_RATE)\n",
        "model.compile(loss=\"categorical_crossentropy\", metrics=[\"accuracy\"], optimizer=optimizer)"
      ],
      "execution_count": 0,
      "outputs": [
        {
          "output_type": "stream",
          "text": [
            "WARNING:tensorflow:From /usr/local/lib/python3.6/dist-packages/keras/optimizers.py:793: The name tf.train.Optimizer is deprecated. Please use tf.compat.v1.train.Optimizer instead.\n",
            "\n",
            "WARNING:tensorflow:From /usr/local/lib/python3.6/dist-packages/keras/backend/tensorflow_backend.py:3576: The name tf.log is deprecated. Please use tf.math.log instead.\n",
            "\n"
          ],
          "name": "stdout"
        }
      ]
    },
    {
      "cell_type": "code",
      "metadata": {
        "id": "RoLSsnGHXVJ7",
        "colab_type": "code",
        "outputId": "f734a0dd-ebc5-4cd3-c6f1-07c9ccf84960",
        "colab": {
          "base_uri": "https://localhost:8080/",
          "height": 1000
        }
      },
      "source": [
        "model.fit(x_train, y_train, \n",
        "          epochs=EPOCHS, \n",
        "          batch_size=BATCH_SIZE, \n",
        "          validation_data=(x_test, y_test), \n",
        "          shuffle=True)"
      ],
      "execution_count": 0,
      "outputs": [
        {
          "output_type": "stream",
          "text": [
            "WARNING:tensorflow:From /usr/local/lib/python3.6/dist-packages/tensorflow_core/python/ops/math_grad.py:1424: where (from tensorflow.python.ops.array_ops) is deprecated and will be removed in a future version.\n",
            "Instructions for updating:\n",
            "Use tf.where in 2.0, which has the same broadcast rule as np.where\n",
            "WARNING:tensorflow:From /usr/local/lib/python3.6/dist-packages/keras/backend/tensorflow_backend.py:1033: The name tf.assign_add is deprecated. Please use tf.compat.v1.assign_add instead.\n",
            "\n",
            "WARNING:tensorflow:From /usr/local/lib/python3.6/dist-packages/keras/backend/tensorflow_backend.py:1020: The name tf.assign is deprecated. Please use tf.compat.v1.assign instead.\n",
            "\n",
            "WARNING:tensorflow:From /usr/local/lib/python3.6/dist-packages/keras/backend/tensorflow_backend.py:3005: The name tf.Session is deprecated. Please use tf.compat.v1.Session instead.\n",
            "\n",
            "Train on 50000 samples, validate on 10000 samples\n",
            "Epoch 1/100\n",
            "WARNING:tensorflow:From /usr/local/lib/python3.6/dist-packages/keras/backend/tensorflow_backend.py:190: The name tf.get_default_session is deprecated. Please use tf.compat.v1.get_default_session instead.\n",
            "\n",
            "WARNING:tensorflow:From /usr/local/lib/python3.6/dist-packages/keras/backend/tensorflow_backend.py:197: The name tf.ConfigProto is deprecated. Please use tf.compat.v1.ConfigProto instead.\n",
            "\n",
            "WARNING:tensorflow:From /usr/local/lib/python3.6/dist-packages/keras/backend/tensorflow_backend.py:207: The name tf.global_variables is deprecated. Please use tf.compat.v1.global_variables instead.\n",
            "\n",
            "WARNING:tensorflow:From /usr/local/lib/python3.6/dist-packages/keras/backend/tensorflow_backend.py:216: The name tf.is_variable_initialized is deprecated. Please use tf.compat.v1.is_variable_initialized instead.\n",
            "\n",
            "WARNING:tensorflow:From /usr/local/lib/python3.6/dist-packages/keras/backend/tensorflow_backend.py:223: The name tf.variables_initializer is deprecated. Please use tf.compat.v1.variables_initializer instead.\n",
            "\n",
            "50000/50000 [==============================] - 11s 215us/step - loss: 1.9128 - acc: 0.3085 - val_loss: 1.7678 - val_acc: 0.3637\n",
            "Epoch 2/100\n",
            "50000/50000 [==============================] - 10s 199us/step - loss: 1.7071 - acc: 0.3882 - val_loss: 1.6575 - val_acc: 0.4064\n",
            "Epoch 3/100\n",
            "50000/50000 [==============================] - 10s 198us/step - loss: 1.6144 - acc: 0.4230 - val_loss: 1.5861 - val_acc: 0.4362\n",
            "Epoch 4/100\n",
            "50000/50000 [==============================] - 10s 207us/step - loss: 1.5526 - acc: 0.4477 - val_loss: 1.5572 - val_acc: 0.4496\n",
            "Epoch 5/100\n",
            "50000/50000 [==============================] - 10s 201us/step - loss: 1.5040 - acc: 0.4647 - val_loss: 1.6336 - val_acc: 0.4235\n",
            "Epoch 6/100\n",
            "50000/50000 [==============================] - 10s 202us/step - loss: 1.4774 - acc: 0.4741 - val_loss: 1.5611 - val_acc: 0.4465\n",
            "Epoch 7/100\n",
            "50000/50000 [==============================] - 10s 205us/step - loss: 1.4331 - acc: 0.4919 - val_loss: 1.4665 - val_acc: 0.4834\n",
            "Epoch 8/100\n",
            "50000/50000 [==============================] - 10s 199us/step - loss: 1.4066 - acc: 0.4984 - val_loss: 1.4522 - val_acc: 0.4813\n",
            "Epoch 9/100\n",
            "50000/50000 [==============================] - 10s 199us/step - loss: 1.3821 - acc: 0.5068 - val_loss: 1.4686 - val_acc: 0.4790\n",
            "Epoch 10/100\n",
            "50000/50000 [==============================] - 10s 203us/step - loss: 1.3514 - acc: 0.5179 - val_loss: 1.4511 - val_acc: 0.4865\n",
            "Epoch 11/100\n",
            "50000/50000 [==============================] - 10s 205us/step - loss: 1.3328 - acc: 0.5264 - val_loss: 1.4430 - val_acc: 0.4918\n",
            "Epoch 12/100\n",
            "50000/50000 [==============================] - 10s 201us/step - loss: 1.3027 - acc: 0.5359 - val_loss: 1.4089 - val_acc: 0.5041\n",
            "Epoch 13/100\n",
            "50000/50000 [==============================] - 10s 201us/step - loss: 1.2807 - acc: 0.5432 - val_loss: 1.3912 - val_acc: 0.5137\n",
            "Epoch 14/100\n",
            "50000/50000 [==============================] - 10s 203us/step - loss: 1.2589 - acc: 0.5519 - val_loss: 1.4406 - val_acc: 0.4939\n",
            "Epoch 15/100\n",
            "50000/50000 [==============================] - 10s 204us/step - loss: 1.2442 - acc: 0.5577 - val_loss: 1.4429 - val_acc: 0.4970\n",
            "Epoch 16/100\n",
            "50000/50000 [==============================] - 10s 207us/step - loss: 1.2184 - acc: 0.5662 - val_loss: 1.4038 - val_acc: 0.5080\n",
            "Epoch 17/100\n",
            "50000/50000 [==============================] - 10s 208us/step - loss: 1.1901 - acc: 0.5754 - val_loss: 1.3537 - val_acc: 0.5170\n",
            "Epoch 18/100\n",
            "50000/50000 [==============================] - 10s 209us/step - loss: 1.1741 - acc: 0.5783 - val_loss: 1.4095 - val_acc: 0.5074\n",
            "Epoch 19/100\n",
            "50000/50000 [==============================] - 11s 212us/step - loss: 1.1500 - acc: 0.5923 - val_loss: 1.3974 - val_acc: 0.5133\n",
            "Epoch 20/100\n",
            "50000/50000 [==============================] - 11s 213us/step - loss: 1.1383 - acc: 0.5935 - val_loss: 1.3838 - val_acc: 0.5134\n",
            "Epoch 21/100\n",
            "50000/50000 [==============================] - 11s 212us/step - loss: 1.1061 - acc: 0.6028 - val_loss: 1.3710 - val_acc: 0.5210\n",
            "Epoch 22/100\n",
            "50000/50000 [==============================] - 10s 209us/step - loss: 1.0909 - acc: 0.6110 - val_loss: 1.3807 - val_acc: 0.5248\n",
            "Epoch 23/100\n",
            "50000/50000 [==============================] - 10s 208us/step - loss: 1.0762 - acc: 0.6155 - val_loss: 1.3818 - val_acc: 0.5269\n",
            "Epoch 24/100\n",
            "50000/50000 [==============================] - 10s 209us/step - loss: 1.0480 - acc: 0.6260 - val_loss: 1.3722 - val_acc: 0.5264\n",
            "Epoch 25/100\n",
            "50000/50000 [==============================] - 10s 208us/step - loss: 1.0379 - acc: 0.6296 - val_loss: 1.4283 - val_acc: 0.5217\n",
            "Epoch 26/100\n",
            "50000/50000 [==============================] - 10s 209us/step - loss: 1.0163 - acc: 0.6364 - val_loss: 1.3980 - val_acc: 0.5240\n",
            "Epoch 27/100\n",
            "50000/50000 [==============================] - 10s 208us/step - loss: 0.9929 - acc: 0.6447 - val_loss: 1.3896 - val_acc: 0.5295\n",
            "Epoch 28/100\n",
            "50000/50000 [==============================] - 11s 210us/step - loss: 0.9732 - acc: 0.6518 - val_loss: 1.4296 - val_acc: 0.5302\n",
            "Epoch 29/100\n",
            "50000/50000 [==============================] - 10s 206us/step - loss: 0.9629 - acc: 0.6557 - val_loss: 1.4152 - val_acc: 0.5296\n",
            "Epoch 30/100\n",
            "50000/50000 [==============================] - 10s 205us/step - loss: 0.9379 - acc: 0.6651 - val_loss: 1.4543 - val_acc: 0.5283\n",
            "Epoch 31/100\n",
            "50000/50000 [==============================] - 10s 210us/step - loss: 0.9268 - acc: 0.6696 - val_loss: 1.4476 - val_acc: 0.5315\n",
            "Epoch 32/100\n",
            "50000/50000 [==============================] - 10s 209us/step - loss: 0.9019 - acc: 0.6771 - val_loss: 1.4736 - val_acc: 0.5162\n",
            "Epoch 33/100\n",
            "50000/50000 [==============================] - 10s 209us/step - loss: 0.8808 - acc: 0.6851 - val_loss: 1.4472 - val_acc: 0.5298\n",
            "Epoch 34/100\n",
            "50000/50000 [==============================] - 11s 211us/step - loss: 0.8834 - acc: 0.6835 - val_loss: 1.4662 - val_acc: 0.5288\n",
            "Epoch 35/100\n",
            "50000/50000 [==============================] - 11s 211us/step - loss: 0.8472 - acc: 0.6961 - val_loss: 1.5136 - val_acc: 0.5223\n",
            "Epoch 36/100\n",
            "50000/50000 [==============================] - 11s 212us/step - loss: 0.8292 - acc: 0.7034 - val_loss: 1.4909 - val_acc: 0.5245\n",
            "Epoch 37/100\n",
            "50000/50000 [==============================] - 11s 212us/step - loss: 0.8107 - acc: 0.7104 - val_loss: 1.5261 - val_acc: 0.5274\n",
            "Epoch 38/100\n",
            "50000/50000 [==============================] - 11s 212us/step - loss: 0.8050 - acc: 0.7119 - val_loss: 1.6066 - val_acc: 0.5120\n",
            "Epoch 39/100\n",
            "50000/50000 [==============================] - 11s 212us/step - loss: 0.7928 - acc: 0.7149 - val_loss: 1.5694 - val_acc: 0.5273\n",
            "Epoch 40/100\n",
            "50000/50000 [==============================] - 10s 210us/step - loss: 0.7751 - acc: 0.7236 - val_loss: 1.5742 - val_acc: 0.5290\n",
            "Epoch 41/100\n",
            "50000/50000 [==============================] - 10s 209us/step - loss: 0.7471 - acc: 0.7346 - val_loss: 1.5991 - val_acc: 0.5314\n",
            "Epoch 42/100\n",
            "50000/50000 [==============================] - 11s 213us/step - loss: 0.7366 - acc: 0.7355 - val_loss: 1.6595 - val_acc: 0.5197\n",
            "Epoch 43/100\n",
            "50000/50000 [==============================] - 11s 211us/step - loss: 0.7204 - acc: 0.7427 - val_loss: 1.6931 - val_acc: 0.5150\n",
            "Epoch 44/100\n",
            "50000/50000 [==============================] - 10s 209us/step - loss: 0.7210 - acc: 0.7400 - val_loss: 1.6544 - val_acc: 0.5203\n",
            "Epoch 45/100\n",
            "50000/50000 [==============================] - 10s 208us/step - loss: 0.6937 - acc: 0.7518 - val_loss: 1.7173 - val_acc: 0.5167\n",
            "Epoch 46/100\n",
            "50000/50000 [==============================] - 10s 209us/step - loss: 0.6790 - acc: 0.7567 - val_loss: 1.7165 - val_acc: 0.5227\n",
            "Epoch 47/100\n",
            "50000/50000 [==============================] - 11s 211us/step - loss: 0.6741 - acc: 0.7581 - val_loss: 1.7602 - val_acc: 0.5183\n",
            "Epoch 48/100\n",
            "50000/50000 [==============================] - 11s 211us/step - loss: 0.6402 - acc: 0.7722 - val_loss: 1.7398 - val_acc: 0.5212\n",
            "Epoch 49/100\n",
            "50000/50000 [==============================] - 10s 209us/step - loss: 0.6339 - acc: 0.7724 - val_loss: 1.7983 - val_acc: 0.5214\n",
            "Epoch 50/100\n",
            "50000/50000 [==============================] - 10s 207us/step - loss: 0.6101 - acc: 0.7814 - val_loss: 1.7987 - val_acc: 0.5219\n",
            "Epoch 51/100\n",
            "50000/50000 [==============================] - 10s 207us/step - loss: 0.6159 - acc: 0.7808 - val_loss: 1.8065 - val_acc: 0.5198\n",
            "Epoch 52/100\n",
            "50000/50000 [==============================] - 10s 209us/step - loss: 0.6001 - acc: 0.7863 - val_loss: 1.8887 - val_acc: 0.5116\n",
            "Epoch 53/100\n",
            "50000/50000 [==============================] - 10s 209us/step - loss: 0.5914 - acc: 0.7893 - val_loss: 1.9038 - val_acc: 0.5090\n",
            "Epoch 54/100\n",
            "50000/50000 [==============================] - 11s 210us/step - loss: 0.5926 - acc: 0.7883 - val_loss: 1.9333 - val_acc: 0.5130\n",
            "Epoch 55/100\n",
            "50000/50000 [==============================] - 11s 211us/step - loss: 0.5711 - acc: 0.7952 - val_loss: 1.9106 - val_acc: 0.5202\n",
            "Epoch 56/100\n",
            "50000/50000 [==============================] - 10s 210us/step - loss: 0.5572 - acc: 0.8018 - val_loss: 1.9459 - val_acc: 0.5211\n",
            "Epoch 57/100\n",
            "50000/50000 [==============================] - 10s 210us/step - loss: 0.5290 - acc: 0.8116 - val_loss: 2.0529 - val_acc: 0.5060\n",
            "Epoch 58/100\n",
            "50000/50000 [==============================] - 10s 207us/step - loss: 0.5180 - acc: 0.8150 - val_loss: 2.0135 - val_acc: 0.5155\n",
            "Epoch 59/100\n",
            "50000/50000 [==============================] - 10s 209us/step - loss: 0.5113 - acc: 0.8173 - val_loss: 2.0729 - val_acc: 0.5099\n",
            "Epoch 60/100\n",
            "50000/50000 [==============================] - 11s 211us/step - loss: 0.5028 - acc: 0.8214 - val_loss: 2.1102 - val_acc: 0.5065\n",
            "Epoch 61/100\n",
            "50000/50000 [==============================] - 10s 209us/step - loss: 0.5017 - acc: 0.8190 - val_loss: 2.1060 - val_acc: 0.5175\n",
            "Epoch 62/100\n",
            "50000/50000 [==============================] - 10s 209us/step - loss: 0.5121 - acc: 0.8151 - val_loss: 2.2232 - val_acc: 0.5034\n",
            "Epoch 63/100\n",
            "50000/50000 [==============================] - 10s 209us/step - loss: 0.4923 - acc: 0.8227 - val_loss: 2.1439 - val_acc: 0.5142\n",
            "Epoch 64/100\n",
            "50000/50000 [==============================] - 11s 211us/step - loss: 0.4690 - acc: 0.8333 - val_loss: 2.2553 - val_acc: 0.5004\n",
            "Epoch 65/100\n",
            "50000/50000 [==============================] - 11s 213us/step - loss: 0.4667 - acc: 0.8321 - val_loss: 2.2413 - val_acc: 0.5085\n",
            "Epoch 66/100\n",
            "50000/50000 [==============================] - 11s 216us/step - loss: 0.4459 - acc: 0.8385 - val_loss: 2.2493 - val_acc: 0.5130\n",
            "Epoch 67/100\n",
            "50000/50000 [==============================] - 10s 210us/step - loss: 0.4265 - acc: 0.8482 - val_loss: 2.2787 - val_acc: 0.5112\n",
            "Epoch 68/100\n",
            "50000/50000 [==============================] - 10s 209us/step - loss: 0.4522 - acc: 0.8363 - val_loss: 2.3124 - val_acc: 0.5024\n",
            "Epoch 69/100\n",
            "50000/50000 [==============================] - 11s 211us/step - loss: 0.4330 - acc: 0.8448 - val_loss: 2.3542 - val_acc: 0.5067\n",
            "Epoch 70/100\n",
            "50000/50000 [==============================] - 10s 209us/step - loss: 0.4427 - acc: 0.8406 - val_loss: 2.4220 - val_acc: 0.5050\n",
            "Epoch 71/100\n",
            "50000/50000 [==============================] - 10s 206us/step - loss: 0.4079 - acc: 0.8536 - val_loss: 2.4061 - val_acc: 0.5079\n",
            "Epoch 72/100\n",
            "50000/50000 [==============================] - 10s 206us/step - loss: 0.4118 - acc: 0.8526 - val_loss: 2.4485 - val_acc: 0.5015\n",
            "Epoch 73/100\n",
            "50000/50000 [==============================] - 10s 205us/step - loss: 0.4094 - acc: 0.8515 - val_loss: 2.4307 - val_acc: 0.5089\n",
            "Epoch 74/100\n",
            "50000/50000 [==============================] - 10s 205us/step - loss: 0.3854 - acc: 0.8621 - val_loss: 2.5158 - val_acc: 0.5013\n",
            "Epoch 75/100\n",
            "50000/50000 [==============================] - 10s 204us/step - loss: 0.3702 - acc: 0.8691 - val_loss: 2.5158 - val_acc: 0.5101\n",
            "Epoch 76/100\n",
            "50000/50000 [==============================] - 10s 206us/step - loss: 0.3791 - acc: 0.8627 - val_loss: 2.6218 - val_acc: 0.5057\n",
            "Epoch 77/100\n",
            "50000/50000 [==============================] - 10s 209us/step - loss: 0.3679 - acc: 0.8672 - val_loss: 2.5018 - val_acc: 0.5106\n",
            "Epoch 78/100\n",
            "50000/50000 [==============================] - 11s 212us/step - loss: 0.3754 - acc: 0.8652 - val_loss: 2.5629 - val_acc: 0.5070\n",
            "Epoch 79/100\n",
            "50000/50000 [==============================] - 11s 214us/step - loss: 0.3864 - acc: 0.8626 - val_loss: 2.5694 - val_acc: 0.5025\n",
            "Epoch 80/100\n",
            "50000/50000 [==============================] - 11s 212us/step - loss: 0.3618 - acc: 0.8691 - val_loss: 2.6454 - val_acc: 0.5063\n",
            "Epoch 81/100\n",
            "50000/50000 [==============================] - 11s 211us/step - loss: 0.3709 - acc: 0.8672 - val_loss: 2.6497 - val_acc: 0.5046\n",
            "Epoch 82/100\n",
            "50000/50000 [==============================] - 10s 210us/step - loss: 0.3542 - acc: 0.8708 - val_loss: 2.7045 - val_acc: 0.5071\n",
            "Epoch 83/100\n",
            "50000/50000 [==============================] - 11s 212us/step - loss: 0.3273 - acc: 0.8829 - val_loss: 2.6958 - val_acc: 0.5047\n",
            "Epoch 84/100\n",
            "50000/50000 [==============================] - 11s 213us/step - loss: 0.3279 - acc: 0.8822 - val_loss: 2.7857 - val_acc: 0.5089\n",
            "Epoch 85/100\n",
            "50000/50000 [==============================] - 11s 211us/step - loss: 0.3332 - acc: 0.8816 - val_loss: 2.7905 - val_acc: 0.5023\n",
            "Epoch 86/100\n",
            "50000/50000 [==============================] - 11s 211us/step - loss: 0.3174 - acc: 0.8864 - val_loss: 2.8758 - val_acc: 0.5029\n",
            "Epoch 87/100\n",
            "50000/50000 [==============================] - 11s 213us/step - loss: 0.3070 - acc: 0.8903 - val_loss: 2.8716 - val_acc: 0.5006\n",
            "Epoch 88/100\n",
            "50000/50000 [==============================] - 11s 214us/step - loss: 0.3271 - acc: 0.8832 - val_loss: 2.8877 - val_acc: 0.4994\n",
            "Epoch 89/100\n",
            "50000/50000 [==============================] - 11s 213us/step - loss: 0.3299 - acc: 0.8806 - val_loss: 2.9615 - val_acc: 0.4951\n",
            "Epoch 90/100\n",
            "50000/50000 [==============================] - 11s 211us/step - loss: 0.3197 - acc: 0.8835 - val_loss: 2.9274 - val_acc: 0.5027\n",
            "Epoch 91/100\n",
            "50000/50000 [==============================] - 11s 210us/step - loss: 0.2906 - acc: 0.8948 - val_loss: 2.9868 - val_acc: 0.4984\n",
            "Epoch 92/100\n",
            "50000/50000 [==============================] - 10s 207us/step - loss: 0.2719 - acc: 0.9044 - val_loss: 2.9960 - val_acc: 0.4991\n",
            "Epoch 93/100\n",
            "50000/50000 [==============================] - 10s 204us/step - loss: 0.2814 - acc: 0.8997 - val_loss: 2.9965 - val_acc: 0.5009\n",
            "Epoch 94/100\n",
            "50000/50000 [==============================] - 10s 205us/step - loss: 0.2872 - acc: 0.8967 - val_loss: 3.0714 - val_acc: 0.4927\n",
            "Epoch 95/100\n",
            "50000/50000 [==============================] - 10s 204us/step - loss: 0.2931 - acc: 0.8951 - val_loss: 3.0609 - val_acc: 0.4991\n",
            "Epoch 96/100\n",
            "50000/50000 [==============================] - 10s 209us/step - loss: 0.3062 - acc: 0.8887 - val_loss: 3.0758 - val_acc: 0.4960\n",
            "Epoch 97/100\n",
            "50000/50000 [==============================] - 10s 210us/step - loss: 0.3081 - acc: 0.8886 - val_loss: 3.1266 - val_acc: 0.4880\n",
            "Epoch 98/100\n",
            "50000/50000 [==============================] - 10s 206us/step - loss: 0.2912 - acc: 0.8946 - val_loss: 3.1521 - val_acc: 0.4995\n",
            "Epoch 99/100\n",
            "50000/50000 [==============================] - 10s 206us/step - loss: 0.2571 - acc: 0.9074 - val_loss: 3.1887 - val_acc: 0.4966\n",
            "Epoch 100/100\n",
            "50000/50000 [==============================] - 10s 207us/step - loss: 0.2869 - acc: 0.8966 - val_loss: 3.2029 - val_acc: 0.4917\n"
          ],
          "name": "stdout"
        },
        {
          "output_type": "execute_result",
          "data": {
            "text/plain": [
              "<keras.callbacks.History at 0x7f28b582af60>"
            ]
          },
          "metadata": {
            "tags": []
          },
          "execution_count": 10
        }
      ]
    },
    {
      "cell_type": "code",
      "metadata": {
        "id": "y3YR62r5XVJ-",
        "colab_type": "code",
        "outputId": "d8943394-60e4-4c60-b982-e782a98f9648",
        "colab": {
          "base_uri": "https://localhost:8080/",
          "height": 545
        }
      },
      "source": [
        "# 訓練模型並檢視驗證集的結果\n",
        "import matplotlib.pyplot as plt\n",
        "\n",
        "train_loss = model.history.history[\"loss\"]\n",
        "valid_loss = model.history.history[\"val_loss\"]\n",
        "\n",
        "train_acc = model.history.history[\"acc\"]\n",
        "valid_acc = model.history.history[\"val_acc\"]\n",
        "\n",
        "plt.plot(range(len(train_loss)), train_loss, label=\"train loss\")\n",
        "plt.plot(range(len(valid_loss)), valid_loss, label=\"valid loss\")\n",
        "plt.legend()\n",
        "plt.title(\"Loss\")\n",
        "plt.show()\n",
        "\n",
        "plt.plot(range(len(train_acc)), train_acc, label=\"train accuracy\")\n",
        "plt.plot(range(len(valid_acc)), valid_acc, label=\"valid accuracy\")\n",
        "plt.legend()\n",
        "plt.title(\"Accuracy\")\n",
        "plt.show()"
      ],
      "execution_count": 0,
      "outputs": [
        {
          "output_type": "display_data",
          "data": {
            "image/png": "[encoded data removed]",
            "text/plain": [
              "<Figure size 432x288 with 1 Axes>"
            ]
          },
          "metadata": {
            "tags": []
          }
        },
        {
          "output_type": "display_data",
          "data": {
            "image/png": "[encoded data removed]",
            "text/plain": [
              "<Figure size 432x288 with 1 Axes>"
            ]
          },
          "metadata": {
            "tags": []
          }
        }
      ]
    },
    {
      "cell_type": "markdown",
      "metadata": {
        "id": "rSg1id12XVKA",
        "colab_type": "text"
      },
      "source": [
        "## Work\n",
        "1. 請嘗試將 preproc_x 替換成以每筆資料的 min/max 進行標準化至 -1 ~ 1 間，再進行訓練\n",
        "2. 請嘗試將 mlp 疊更深 (e.g 5~10 層)，進行訓練後觀察 learning curve 的走勢\n",
        "3. (optional) 請改用 GPU 進行訓練 (如果你有 GPU 的話)，比較使用 CPU 與 GPU 的訓練速度"
      ]
    }
  ]
}