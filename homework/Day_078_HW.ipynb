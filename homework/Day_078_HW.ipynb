{
  "nbformat": 4,
  "nbformat_minor": 0,
  "metadata": {
    "kernelspec": {
      "name": "python3",
      "display_name": "Python 3"
    },
    "language_info": {
      "codemirror_mode": {
        "name": "ipython",
        "version": 3
      },
      "file_extension": ".py",
      "mimetype": "text/x-python",
      "name": "python",
      "nbconvert_exporter": "python",
      "pygments_lexer": "ipython3",
      "version": "3.6.5"
    },
    "colab": {
      "name": "Day_078_HW.ipynb",
      "provenance": [],
      "collapsed_sections": []
    },
    "accelerator": "GPU"
  },
  "cells": [
    {
      "cell_type": "markdown",
      "metadata": {
        "id": "Jo733gmVys9_",
        "colab_type": "text"
      },
      "source": [
        "## Work\n",
        "1. 請嘗試將 preproc_x 替換成以每筆資料的 min/max 進行標準化至 -1 ~ 1 間，再進行訓練\n",
        "2. 請嘗試將 mlp 疊更深 (e.g 5~10 層)，進行訓練後觀察 learning curve 的走勢\n",
        "3. (optional) 請改用 GPU 進行訓練 (如果你有 GPU 的話)，比較使用 CPU 與 GPU 的訓練速度"
      ]
    },
    {
      "cell_type": "code",
      "metadata": {
        "id": "FHhsYDB2ys-A",
        "colab_type": "code",
        "colab": {}
      },
      "source": [
        ""
      ],
      "execution_count": 0,
      "outputs": []
    },
    {
      "cell_type": "code",
      "metadata": {
        "id": "cFb_Ihhlys-F",
        "colab_type": "code",
        "colab": {
          "base_uri": "https://localhost:8080/",
          "height": 80
        },
        "outputId": "8e29b5eb-eeb6-4550-a55e-6ea18f2c5c02"
      },
      "source": [
        "import os\n",
        "import keras\n",
        "import numpy as np\n",
        "\n",
        "os.environ[\"CUDA_VISIBLE_DEVICES\"] = \"0\"\n"
      ],
      "execution_count": 5,
      "outputs": [
        {
          "output_type": "stream",
          "text": [
            "Using TensorFlow backend.\n"
          ],
          "name": "stderr"
        },
        {
          "output_type": "display_data",
          "data": {
            "text/html": [
              "<p style=\"color: red;\">\n",
              "The default version of TensorFlow in Colab will soon switch to TensorFlow 2.x.<br>\n",
              "We recommend you <a href=\"https://www.tensorflow.org/guide/migrate\" target=\"_blank\">upgrade</a> now \n",
              "or ensure your notebook will continue to use TensorFlow 1.x via the <code>%tensorflow_version 1.x</code> magic:\n",
              "<a href=\"https://colab.research.google.com/notebooks/tensorflow_version.ipynb\" target=\"_blank\">more info</a>.</p>\n"
            ],
            "text/plain": [
              "<IPython.core.display.HTML object>"
            ]
          },
          "metadata": {
            "tags": []
          }
        }
      ]
    },
    {
      "cell_type": "code",
      "metadata": {
        "id": "FjL5-j1Pys-K",
        "colab_type": "code",
        "colab": {
          "base_uri": "https://localhost:8080/",
          "height": 51
        },
        "outputId": "eebe31a9-20b0-4fb7-bb80-49c463881f2a"
      },
      "source": [
        "train, test = keras.datasets.cifar10.load_data()"
      ],
      "execution_count": 6,
      "outputs": [
        {
          "output_type": "stream",
          "text": [
            "Downloading data from https://www.cs.toronto.edu/~kriz/cifar-10-python.tar.gz\n",
            "170500096/170498071 [==============================] - 6s 0us/step\n"
          ],
          "name": "stdout"
        }
      ]
    },
    {
      "cell_type": "code",
      "metadata": {
        "id": "D5W3HNsiys-N",
        "colab_type": "code",
        "colab": {}
      },
      "source": [
        "## 資料前處理\n",
        "\n",
        "def preproc_x(x, flatten=True):\n",
        "    minx = np.min(x)\n",
        "    maxx = np.max(x)\n",
        "    x = (x - (minx))/(maxx-minx) *2    \n",
        "    if flatten:\n",
        "        x = x.reshape((len(x), -1))\n",
        "    return x\n",
        "\n",
        "def preproc_y(y, num_classes=10):\n",
        "    if y.shape[-1] == 1:\n",
        "        y = keras.utils.to_categorical(y, num_classes)\n",
        "    return y  \n"
      ],
      "execution_count": 0,
      "outputs": []
    },
    {
      "cell_type": "code",
      "metadata": {
        "id": "Q06jv1sFys-Q",
        "colab_type": "code",
        "colab": {}
      },
      "source": [
        "x_train, y_train = train\n",
        "x_test, y_test = test\n",
        "\n",
        "# Preproc the inputs\n",
        "x_train = preproc_x(x_train)\n",
        "x_test = preproc_x(x_test)\n",
        "\n",
        "# Preprc the outputs\n",
        "y_train = preproc_y(y_train)\n",
        "y_test = preproc_y(y_test)"
      ],
      "execution_count": 0,
      "outputs": []
    },
    {
      "cell_type": "code",
      "metadata": {
        "id": "_J6w4EY8ys-T",
        "colab_type": "code",
        "colab": {
          "base_uri": "https://localhost:8080/",
          "height": 425
        },
        "outputId": "b896e1bd-b708-45e7-c8de-bf73d2f7f29b"
      },
      "source": [
        "#建立神經網路\n",
        "\n",
        "def build_mlp(input_shape, output_units=10, num_neurons=[512, 256, 128]):\n",
        "    input_layer = keras.layers.Input(input_shape)\n",
        "    \n",
        "    for i, n_units in enumerate(num_neurons):\n",
        "        if i == 0:\n",
        "            x = keras.layers.Dense(units=n_units, activation=\"relu\", name=\"hidden_layer\"+str(i+1))(input_layer)\n",
        "        else:\n",
        "            x = keras.layers.Dense(units=n_units, activation=\"relu\", name=\"hidden_layer\"+str(i+1))(x)\n",
        "    \n",
        "    out = keras.layers.Dense(units=output_units, activation=\"softmax\", name=\"output\")(x)\n",
        "    \n",
        "    model = keras.models.Model(inputs=[input_layer], outputs=[out])\n",
        "    return model\n",
        "\n",
        "model = build_mlp(input_shape=x_train.shape[1:])\n",
        "model.summary()"
      ],
      "execution_count": 9,
      "outputs": [
        {
          "output_type": "stream",
          "text": [
            "WARNING:tensorflow:From /usr/local/lib/python3.6/dist-packages/keras/backend/tensorflow_backend.py:66: The name tf.get_default_graph is deprecated. Please use tf.compat.v1.get_default_graph instead.\n",
            "\n",
            "WARNING:tensorflow:From /usr/local/lib/python3.6/dist-packages/keras/backend/tensorflow_backend.py:541: The name tf.placeholder is deprecated. Please use tf.compat.v1.placeholder instead.\n",
            "\n",
            "WARNING:tensorflow:From /usr/local/lib/python3.6/dist-packages/keras/backend/tensorflow_backend.py:4432: The name tf.random_uniform is deprecated. Please use tf.random.uniform instead.\n",
            "\n",
            "Model: \"model_1\"\n",
            "_________________________________________________________________\n",
            "Layer (type)                 Output Shape              Param #   \n",
            "=================================================================\n",
            "input_1 (InputLayer)         (None, 3072)              0         \n",
            "_________________________________________________________________\n",
            "hidden_layer1 (Dense)        (None, 512)               1573376   \n",
            "_________________________________________________________________\n",
            "hidden_layer2 (Dense)        (None, 256)               131328    \n",
            "_________________________________________________________________\n",
            "hidden_layer3 (Dense)        (None, 128)               32896     \n",
            "_________________________________________________________________\n",
            "output (Dense)               (None, 10)                1290      \n",
            "=================================================================\n",
            "Total params: 1,738,890\n",
            "Trainable params: 1,738,890\n",
            "Non-trainable params: 0\n",
            "_________________________________________________________________\n"
          ],
          "name": "stdout"
        }
      ]
    },
    {
      "cell_type": "code",
      "metadata": {
        "id": "J4Mivur-ys-X",
        "colab_type": "code",
        "colab": {}
      },
      "source": [
        "## 超參數設定\n",
        "LEARNING_RATE = 0.001\n",
        "EPOCHS = 100\n",
        "BATCH_SIZE = 256"
      ],
      "execution_count": 0,
      "outputs": []
    },
    {
      "cell_type": "code",
      "metadata": {
        "id": "R3fCjoDxys-a",
        "colab_type": "code",
        "colab": {
          "base_uri": "https://localhost:8080/",
          "height": 85
        },
        "outputId": "bc1fd817-4d14-4050-d403-ba2df2a09ee1"
      },
      "source": [
        "optimizer = keras.optimizers.Adam(lr=LEARNING_RATE)\n",
        "model.compile(loss=\"categorical_crossentropy\", metrics=[\"accuracy\"], optimizer=optimizer)"
      ],
      "execution_count": 11,
      "outputs": [
        {
          "output_type": "stream",
          "text": [
            "WARNING:tensorflow:From /usr/local/lib/python3.6/dist-packages/keras/optimizers.py:793: The name tf.train.Optimizer is deprecated. Please use tf.compat.v1.train.Optimizer instead.\n",
            "\n",
            "WARNING:tensorflow:From /usr/local/lib/python3.6/dist-packages/keras/backend/tensorflow_backend.py:3576: The name tf.log is deprecated. Please use tf.math.log instead.\n",
            "\n"
          ],
          "name": "stdout"
        }
      ]
    },
    {
      "cell_type": "code",
      "metadata": {
        "id": "8uITxlFcys-d",
        "colab_type": "code",
        "colab": {
          "base_uri": "https://localhost:8080/",
          "height": 1000
        },
        "outputId": "7642891b-0211-438c-efcf-b7d6d271f7e2"
      },
      "source": [
        "model.fit(x_train, y_train, \n",
        "          epochs=EPOCHS, \n",
        "          batch_size=BATCH_SIZE, \n",
        "          validation_data=(x_test, y_test), \n",
        "          shuffle=True)"
      ],
      "execution_count": 12,
      "outputs": [
        {
          "output_type": "stream",
          "text": [
            "WARNING:tensorflow:From /usr/local/lib/python3.6/dist-packages/tensorflow_core/python/ops/math_grad.py:1424: where (from tensorflow.python.ops.array_ops) is deprecated and will be removed in a future version.\n",
            "Instructions for updating:\n",
            "Use tf.where in 2.0, which has the same broadcast rule as np.where\n",
            "WARNING:tensorflow:From /usr/local/lib/python3.6/dist-packages/keras/backend/tensorflow_backend.py:1033: The name tf.assign_add is deprecated. Please use tf.compat.v1.assign_add instead.\n",
            "\n",
            "WARNING:tensorflow:From /usr/local/lib/python3.6/dist-packages/keras/backend/tensorflow_backend.py:1020: The name tf.assign is deprecated. Please use tf.compat.v1.assign instead.\n",
            "\n",
            "WARNING:tensorflow:From /usr/local/lib/python3.6/dist-packages/keras/backend/tensorflow_backend.py:3005: The name tf.Session is deprecated. Please use tf.compat.v1.Session instead.\n",
            "\n",
            "Train on 50000 samples, validate on 10000 samples\n",
            "Epoch 1/100\n",
            "WARNING:tensorflow:From /usr/local/lib/python3.6/dist-packages/keras/backend/tensorflow_backend.py:190: The name tf.get_default_session is deprecated. Please use tf.compat.v1.get_default_session instead.\n",
            "\n",
            "WARNING:tensorflow:From /usr/local/lib/python3.6/dist-packages/keras/backend/tensorflow_backend.py:197: The name tf.ConfigProto is deprecated. Please use tf.compat.v1.ConfigProto instead.\n",
            "\n",
            "WARNING:tensorflow:From /usr/local/lib/python3.6/dist-packages/keras/backend/tensorflow_backend.py:207: The name tf.global_variables is deprecated. Please use tf.compat.v1.global_variables instead.\n",
            "\n",
            "WARNING:tensorflow:From /usr/local/lib/python3.6/dist-packages/keras/backend/tensorflow_backend.py:216: The name tf.is_variable_initialized is deprecated. Please use tf.compat.v1.is_variable_initialized instead.\n",
            "\n",
            "WARNING:tensorflow:From /usr/local/lib/python3.6/dist-packages/keras/backend/tensorflow_backend.py:223: The name tf.variables_initializer is deprecated. Please use tf.compat.v1.variables_initializer instead.\n",
            "\n",
            "50000/50000 [==============================] - 6s 125us/step - loss: 2.0091 - acc: 0.2856 - val_loss: 1.7983 - val_acc: 0.3506\n",
            "Epoch 2/100\n",
            "50000/50000 [==============================] - 2s 34us/step - loss: 1.7225 - acc: 0.3843 - val_loss: 1.7029 - val_acc: 0.3937\n",
            "Epoch 3/100\n",
            "50000/50000 [==============================] - 2s 34us/step - loss: 1.6268 - acc: 0.4205 - val_loss: 1.5609 - val_acc: 0.4508\n",
            "Epoch 4/100\n",
            "50000/50000 [==============================] - 2s 34us/step - loss: 1.5693 - acc: 0.4411 - val_loss: 1.6104 - val_acc: 0.4172\n",
            "Epoch 5/100\n",
            "50000/50000 [==============================] - 2s 33us/step - loss: 1.5280 - acc: 0.4536 - val_loss: 1.5238 - val_acc: 0.4532\n",
            "Epoch 6/100\n",
            "50000/50000 [==============================] - 2s 33us/step - loss: 1.4834 - acc: 0.4720 - val_loss: 1.5215 - val_acc: 0.4566\n",
            "Epoch 7/100\n",
            "50000/50000 [==============================] - 2s 33us/step - loss: 1.4531 - acc: 0.4826 - val_loss: 1.5036 - val_acc: 0.4701\n",
            "Epoch 8/100\n",
            "50000/50000 [==============================] - 2s 33us/step - loss: 1.4271 - acc: 0.4919 - val_loss: 1.4664 - val_acc: 0.4793\n",
            "Epoch 9/100\n",
            "50000/50000 [==============================] - 2s 34us/step - loss: 1.3952 - acc: 0.5030 - val_loss: 1.4618 - val_acc: 0.4791\n",
            "Epoch 10/100\n",
            "50000/50000 [==============================] - 2s 33us/step - loss: 1.3756 - acc: 0.5098 - val_loss: 1.4650 - val_acc: 0.4801\n",
            "Epoch 11/100\n",
            "50000/50000 [==============================] - 2s 32us/step - loss: 1.3553 - acc: 0.5159 - val_loss: 1.4742 - val_acc: 0.4822\n",
            "Epoch 12/100\n",
            "50000/50000 [==============================] - 2s 32us/step - loss: 1.3320 - acc: 0.5281 - val_loss: 1.4505 - val_acc: 0.4812\n",
            "Epoch 13/100\n",
            "50000/50000 [==============================] - 2s 32us/step - loss: 1.3032 - acc: 0.5356 - val_loss: 1.4133 - val_acc: 0.5022\n",
            "Epoch 14/100\n",
            "50000/50000 [==============================] - 2s 32us/step - loss: 1.2803 - acc: 0.5459 - val_loss: 1.4100 - val_acc: 0.5011\n",
            "Epoch 15/100\n",
            "50000/50000 [==============================] - 2s 31us/step - loss: 1.2611 - acc: 0.5507 - val_loss: 1.4272 - val_acc: 0.4965\n",
            "Epoch 16/100\n",
            "50000/50000 [==============================] - 2s 32us/step - loss: 1.2541 - acc: 0.5520 - val_loss: 1.3748 - val_acc: 0.5143\n",
            "Epoch 17/100\n",
            "50000/50000 [==============================] - 2s 31us/step - loss: 1.2325 - acc: 0.5606 - val_loss: 1.4347 - val_acc: 0.4975\n",
            "Epoch 18/100\n",
            "50000/50000 [==============================] - 2s 32us/step - loss: 1.2140 - acc: 0.5678 - val_loss: 1.4214 - val_acc: 0.5016\n",
            "Epoch 19/100\n",
            "50000/50000 [==============================] - 2s 32us/step - loss: 1.1843 - acc: 0.5762 - val_loss: 1.4485 - val_acc: 0.4937\n",
            "Epoch 20/100\n",
            "50000/50000 [==============================] - 2s 31us/step - loss: 1.1714 - acc: 0.5796 - val_loss: 1.3773 - val_acc: 0.5195\n",
            "Epoch 21/100\n",
            "50000/50000 [==============================] - 2s 32us/step - loss: 1.1359 - acc: 0.5926 - val_loss: 1.3886 - val_acc: 0.5163\n",
            "Epoch 22/100\n",
            "50000/50000 [==============================] - 2s 32us/step - loss: 1.1358 - acc: 0.5944 - val_loss: 1.4054 - val_acc: 0.5160\n",
            "Epoch 23/100\n",
            "50000/50000 [==============================] - 2s 32us/step - loss: 1.1072 - acc: 0.6036 - val_loss: 1.4052 - val_acc: 0.5199\n",
            "Epoch 24/100\n",
            "50000/50000 [==============================] - 2s 33us/step - loss: 1.0956 - acc: 0.6072 - val_loss: 1.4038 - val_acc: 0.5165\n",
            "Epoch 25/100\n",
            "50000/50000 [==============================] - 2s 32us/step - loss: 1.0692 - acc: 0.6197 - val_loss: 1.4276 - val_acc: 0.5158\n",
            "Epoch 26/100\n",
            "50000/50000 [==============================] - 2s 32us/step - loss: 1.0499 - acc: 0.6227 - val_loss: 1.4114 - val_acc: 0.5130\n",
            "Epoch 27/100\n",
            "50000/50000 [==============================] - 2s 32us/step - loss: 1.0225 - acc: 0.6313 - val_loss: 1.4313 - val_acc: 0.5104\n",
            "Epoch 28/100\n",
            "50000/50000 [==============================] - 2s 32us/step - loss: 1.0279 - acc: 0.6298 - val_loss: 1.4254 - val_acc: 0.5181\n",
            "Epoch 29/100\n",
            "50000/50000 [==============================] - 2s 32us/step - loss: 1.0035 - acc: 0.6392 - val_loss: 1.4153 - val_acc: 0.5192\n",
            "Epoch 30/100\n",
            "50000/50000 [==============================] - 2s 32us/step - loss: 0.9762 - acc: 0.6494 - val_loss: 1.4699 - val_acc: 0.5177\n",
            "Epoch 31/100\n",
            "50000/50000 [==============================] - 2s 32us/step - loss: 0.9583 - acc: 0.6568 - val_loss: 1.5124 - val_acc: 0.5139\n",
            "Epoch 32/100\n",
            "50000/50000 [==============================] - 2s 31us/step - loss: 0.9498 - acc: 0.6602 - val_loss: 1.4642 - val_acc: 0.5130\n",
            "Epoch 33/100\n",
            "50000/50000 [==============================] - 2s 31us/step - loss: 0.9217 - acc: 0.6698 - val_loss: 1.4780 - val_acc: 0.5204\n",
            "Epoch 34/100\n",
            "50000/50000 [==============================] - 2s 31us/step - loss: 0.9156 - acc: 0.6697 - val_loss: 1.5168 - val_acc: 0.5068\n",
            "Epoch 35/100\n",
            "50000/50000 [==============================] - 2s 33us/step - loss: 0.9108 - acc: 0.6725 - val_loss: 1.4973 - val_acc: 0.5244\n",
            "Epoch 36/100\n",
            "50000/50000 [==============================] - 2s 32us/step - loss: 0.8783 - acc: 0.6835 - val_loss: 1.5232 - val_acc: 0.5111\n",
            "Epoch 37/100\n",
            "50000/50000 [==============================] - 2s 31us/step - loss: 0.8640 - acc: 0.6901 - val_loss: 1.5857 - val_acc: 0.5148\n",
            "Epoch 38/100\n",
            "50000/50000 [==============================] - 2s 31us/step - loss: 0.8500 - acc: 0.6929 - val_loss: 1.5697 - val_acc: 0.5118\n",
            "Epoch 39/100\n",
            "50000/50000 [==============================] - 2s 30us/step - loss: 0.8361 - acc: 0.6991 - val_loss: 1.5671 - val_acc: 0.5160\n",
            "Epoch 40/100\n",
            "50000/50000 [==============================] - 2s 31us/step - loss: 0.8239 - acc: 0.7047 - val_loss: 1.6014 - val_acc: 0.5173\n",
            "Epoch 41/100\n",
            "50000/50000 [==============================] - 1s 30us/step - loss: 0.8066 - acc: 0.7095 - val_loss: 1.5982 - val_acc: 0.5119\n",
            "Epoch 42/100\n",
            "50000/50000 [==============================] - 1s 30us/step - loss: 0.7896 - acc: 0.7181 - val_loss: 1.6112 - val_acc: 0.5170\n",
            "Epoch 43/100\n",
            "50000/50000 [==============================] - 2s 30us/step - loss: 0.7826 - acc: 0.7199 - val_loss: 1.6709 - val_acc: 0.5133\n",
            "Epoch 44/100\n",
            "50000/50000 [==============================] - 1s 30us/step - loss: 0.7697 - acc: 0.7227 - val_loss: 1.6426 - val_acc: 0.5129\n",
            "Epoch 45/100\n",
            "50000/50000 [==============================] - 1s 30us/step - loss: 0.7542 - acc: 0.7271 - val_loss: 1.7139 - val_acc: 0.5126\n",
            "Epoch 46/100\n",
            "50000/50000 [==============================] - 2s 31us/step - loss: 0.7259 - acc: 0.7394 - val_loss: 1.7250 - val_acc: 0.5113\n",
            "Epoch 47/100\n",
            "50000/50000 [==============================] - 2s 31us/step - loss: 0.7364 - acc: 0.7356 - val_loss: 1.6698 - val_acc: 0.5184\n",
            "Epoch 48/100\n",
            "50000/50000 [==============================] - 1s 30us/step - loss: 0.7106 - acc: 0.7454 - val_loss: 1.7447 - val_acc: 0.5138\n",
            "Epoch 49/100\n",
            "50000/50000 [==============================] - 1s 30us/step - loss: 0.7008 - acc: 0.7490 - val_loss: 1.7522 - val_acc: 0.5131\n",
            "Epoch 50/100\n",
            "50000/50000 [==============================] - 2s 30us/step - loss: 0.6756 - acc: 0.7590 - val_loss: 1.7835 - val_acc: 0.5139\n",
            "Epoch 51/100\n",
            "50000/50000 [==============================] - 2s 30us/step - loss: 0.6664 - acc: 0.7606 - val_loss: 1.7924 - val_acc: 0.5090\n",
            "Epoch 52/100\n",
            "50000/50000 [==============================] - 2s 30us/step - loss: 0.6555 - acc: 0.7640 - val_loss: 1.7853 - val_acc: 0.5175\n",
            "Epoch 53/100\n",
            "50000/50000 [==============================] - 1s 29us/step - loss: 0.6553 - acc: 0.7661 - val_loss: 1.8763 - val_acc: 0.5046\n",
            "Epoch 54/100\n",
            "50000/50000 [==============================] - 1s 30us/step - loss: 0.6461 - acc: 0.7672 - val_loss: 1.8339 - val_acc: 0.5100\n",
            "Epoch 55/100\n",
            "50000/50000 [==============================] - 2s 31us/step - loss: 0.6298 - acc: 0.7745 - val_loss: 1.8691 - val_acc: 0.5084\n",
            "Epoch 56/100\n",
            "50000/50000 [==============================] - 2s 33us/step - loss: 0.6135 - acc: 0.7804 - val_loss: 1.9606 - val_acc: 0.5053\n",
            "Epoch 57/100\n",
            "50000/50000 [==============================] - 2s 32us/step - loss: 0.6321 - acc: 0.7710 - val_loss: 1.9132 - val_acc: 0.5031\n",
            "Epoch 58/100\n",
            "50000/50000 [==============================] - 2s 31us/step - loss: 0.5923 - acc: 0.7855 - val_loss: 1.9873 - val_acc: 0.5037\n",
            "Epoch 59/100\n",
            "50000/50000 [==============================] - 2s 31us/step - loss: 0.5837 - acc: 0.7909 - val_loss: 2.0446 - val_acc: 0.5032\n",
            "Epoch 60/100\n",
            "50000/50000 [==============================] - 2s 31us/step - loss: 0.5718 - acc: 0.7955 - val_loss: 2.0086 - val_acc: 0.5103\n",
            "Epoch 61/100\n",
            "50000/50000 [==============================] - 2s 30us/step - loss: 0.5641 - acc: 0.7975 - val_loss: 1.9927 - val_acc: 0.5109\n",
            "Epoch 62/100\n",
            "50000/50000 [==============================] - 2s 31us/step - loss: 0.5503 - acc: 0.8026 - val_loss: 2.0806 - val_acc: 0.5103\n",
            "Epoch 63/100\n",
            "50000/50000 [==============================] - 2s 31us/step - loss: 0.5578 - acc: 0.8002 - val_loss: 2.0510 - val_acc: 0.5010\n",
            "Epoch 64/100\n",
            "50000/50000 [==============================] - 2s 31us/step - loss: 0.5516 - acc: 0.8023 - val_loss: 2.1061 - val_acc: 0.4976\n",
            "Epoch 65/100\n",
            "50000/50000 [==============================] - 2s 31us/step - loss: 0.5301 - acc: 0.8082 - val_loss: 2.1345 - val_acc: 0.5069\n",
            "Epoch 66/100\n",
            "50000/50000 [==============================] - 2s 31us/step - loss: 0.5194 - acc: 0.8125 - val_loss: 2.1178 - val_acc: 0.5055\n",
            "Epoch 67/100\n",
            "50000/50000 [==============================] - 2s 31us/step - loss: 0.5121 - acc: 0.8159 - val_loss: 2.1758 - val_acc: 0.5083\n",
            "Epoch 68/100\n",
            "50000/50000 [==============================] - 2s 31us/step - loss: 0.5107 - acc: 0.8175 - val_loss: 2.1805 - val_acc: 0.5082\n",
            "Epoch 69/100\n",
            "50000/50000 [==============================] - 2s 30us/step - loss: 0.4877 - acc: 0.8247 - val_loss: 2.2129 - val_acc: 0.5059\n",
            "Epoch 70/100\n",
            "50000/50000 [==============================] - 2s 31us/step - loss: 0.5098 - acc: 0.8171 - val_loss: 2.2237 - val_acc: 0.5058\n",
            "Epoch 71/100\n",
            "50000/50000 [==============================] - 2s 31us/step - loss: 0.4805 - acc: 0.8301 - val_loss: 2.2907 - val_acc: 0.5096\n",
            "Epoch 72/100\n",
            "50000/50000 [==============================] - 2s 31us/step - loss: 0.4758 - acc: 0.8304 - val_loss: 2.3055 - val_acc: 0.4907\n",
            "Epoch 73/100\n",
            "50000/50000 [==============================] - 2s 31us/step - loss: 0.4831 - acc: 0.8258 - val_loss: 2.3300 - val_acc: 0.5037\n",
            "Epoch 74/100\n",
            "50000/50000 [==============================] - 2s 31us/step - loss: 0.4755 - acc: 0.8268 - val_loss: 2.3342 - val_acc: 0.5038\n",
            "Epoch 75/100\n",
            "50000/50000 [==============================] - 2s 30us/step - loss: 0.4646 - acc: 0.8325 - val_loss: 2.3442 - val_acc: 0.5101\n",
            "Epoch 76/100\n",
            "50000/50000 [==============================] - 2s 31us/step - loss: 0.4515 - acc: 0.8370 - val_loss: 2.3597 - val_acc: 0.5026\n",
            "Epoch 77/100\n",
            "50000/50000 [==============================] - 2s 31us/step - loss: 0.4386 - acc: 0.8421 - val_loss: 2.4291 - val_acc: 0.5017\n",
            "Epoch 78/100\n",
            "50000/50000 [==============================] - 2s 31us/step - loss: 0.4357 - acc: 0.8417 - val_loss: 2.4621 - val_acc: 0.4883\n",
            "Epoch 79/100\n",
            "50000/50000 [==============================] - 2s 30us/step - loss: 0.4329 - acc: 0.8446 - val_loss: 2.5248 - val_acc: 0.4980\n",
            "Epoch 80/100\n",
            "50000/50000 [==============================] - 2s 31us/step - loss: 0.4283 - acc: 0.8459 - val_loss: 2.5120 - val_acc: 0.5053\n",
            "Epoch 81/100\n",
            "50000/50000 [==============================] - 2s 31us/step - loss: 0.4035 - acc: 0.8572 - val_loss: 2.5705 - val_acc: 0.5015\n",
            "Epoch 82/100\n",
            "50000/50000 [==============================] - 2s 31us/step - loss: 0.4168 - acc: 0.8488 - val_loss: 2.5562 - val_acc: 0.4907\n",
            "Epoch 83/100\n",
            "50000/50000 [==============================] - 2s 30us/step - loss: 0.4163 - acc: 0.8495 - val_loss: 2.6251 - val_acc: 0.4923\n",
            "Epoch 84/100\n",
            "50000/50000 [==============================] - 2s 31us/step - loss: 0.3871 - acc: 0.8599 - val_loss: 2.5191 - val_acc: 0.5005\n",
            "Epoch 85/100\n",
            "50000/50000 [==============================] - 2s 30us/step - loss: 0.4169 - acc: 0.8491 - val_loss: 2.6029 - val_acc: 0.4918\n",
            "Epoch 86/100\n",
            "50000/50000 [==============================] - 2s 31us/step - loss: 0.4112 - acc: 0.8530 - val_loss: 2.6574 - val_acc: 0.5017\n",
            "Epoch 87/100\n",
            "50000/50000 [==============================] - 2s 30us/step - loss: 0.3907 - acc: 0.8581 - val_loss: 2.6717 - val_acc: 0.5005\n",
            "Epoch 88/100\n",
            "50000/50000 [==============================] - 2s 30us/step - loss: 0.3718 - acc: 0.8663 - val_loss: 2.6727 - val_acc: 0.5012\n",
            "Epoch 89/100\n",
            "50000/50000 [==============================] - 2s 30us/step - loss: 0.3957 - acc: 0.8576 - val_loss: 2.7363 - val_acc: 0.4984\n",
            "Epoch 90/100\n",
            "50000/50000 [==============================] - 2s 31us/step - loss: 0.3639 - acc: 0.8695 - val_loss: 2.6780 - val_acc: 0.4966\n",
            "Epoch 91/100\n",
            "50000/50000 [==============================] - 2s 31us/step - loss: 0.3689 - acc: 0.8672 - val_loss: 2.7112 - val_acc: 0.5010\n",
            "Epoch 92/100\n",
            "50000/50000 [==============================] - 2s 31us/step - loss: 0.3842 - acc: 0.8616 - val_loss: 2.7963 - val_acc: 0.4980\n",
            "Epoch 93/100\n",
            "50000/50000 [==============================] - 2s 31us/step - loss: 0.3822 - acc: 0.8616 - val_loss: 2.8102 - val_acc: 0.4983\n",
            "Epoch 94/100\n",
            "50000/50000 [==============================] - 2s 31us/step - loss: 0.3571 - acc: 0.8714 - val_loss: 2.8022 - val_acc: 0.4960\n",
            "Epoch 95/100\n",
            "50000/50000 [==============================] - 2s 30us/step - loss: 0.3518 - acc: 0.8726 - val_loss: 2.8913 - val_acc: 0.4949\n",
            "Epoch 96/100\n",
            "50000/50000 [==============================] - 2s 31us/step - loss: 0.3790 - acc: 0.8631 - val_loss: 2.7979 - val_acc: 0.4931\n",
            "Epoch 97/100\n",
            "50000/50000 [==============================] - 2s 30us/step - loss: 0.3526 - acc: 0.8729 - val_loss: 2.9057 - val_acc: 0.4954\n",
            "Epoch 98/100\n",
            "50000/50000 [==============================] - 2s 31us/step - loss: 0.3324 - acc: 0.8796 - val_loss: 2.9329 - val_acc: 0.4962\n",
            "Epoch 99/100\n",
            "50000/50000 [==============================] - 2s 30us/step - loss: 0.3390 - acc: 0.8780 - val_loss: 2.8908 - val_acc: 0.4978\n",
            "Epoch 100/100\n",
            "50000/50000 [==============================] - 2s 31us/step - loss: 0.3389 - acc: 0.8791 - val_loss: 2.9384 - val_acc: 0.4924\n"
          ],
          "name": "stdout"
        },
        {
          "output_type": "execute_result",
          "data": {
            "text/plain": [
              "<keras.callbacks.History at 0x7ff0b5c05eb8>"
            ]
          },
          "metadata": {
            "tags": []
          },
          "execution_count": 12
        }
      ]
    },
    {
      "cell_type": "code",
      "metadata": {
        "id": "rUeNdm_Lys-g",
        "colab_type": "code",
        "colab": {
          "base_uri": "https://localhost:8080/",
          "height": 545
        },
        "outputId": "138960da-132a-4f16-915f-f0a08c7d73e8"
      },
      "source": [
        "import matplotlib.pyplot as plt\n",
        "\n",
        "\n",
        "train_loss = model.history.history[\"loss\"]\n",
        "valid_loss = model.history.history[\"val_loss\"]\n",
        "\n",
        "train_acc = model.history.history[\"acc\"]\n",
        "valid_acc = model.history.history[\"val_acc\"]\n",
        "\n",
        "plt.plot(range(len(train_loss)), train_loss, label=\"train loss\")\n",
        "plt.plot(range(len(valid_loss)), valid_loss, label=\"valid loss\")\n",
        "plt.legend()\n",
        "plt.title(\"Loss\")\n",
        "plt.show()\n",
        "\n",
        "plt.plot(range(len(train_acc)), train_acc, label=\"train accuracy\")\n",
        "plt.plot(range(len(valid_acc)), valid_acc, label=\"valid accuracy\")\n",
        "plt.legend()\n",
        "plt.title(\"Accuracy\")\n",
        "plt.show()"
      ],
      "execution_count": 13,
      "outputs": [
        {
          "output_type": "display_data",
          "data": {
            "image/png": "[encoded data removed]",
            "text/plain": [
              "<Figure size 432x288 with 1 Axes>"
            ]
          },
          "metadata": {
            "tags": []
          }
        },
        {
          "output_type": "display_data",
          "data": {
            "image/png": "[encoded data removed]",
            "text/plain": [
              "<Figure size 432x288 with 1 Axes>"
            ]
          },
          "metadata": {
            "tags": []
          }
        }
      ]
    },
    {
      "cell_type": "code",
      "metadata": {
        "id": "quufHJDl1dmC",
        "colab_type": "code",
        "colab": {}
      },
      "source": [
        ""
      ],
      "execution_count": 0,
      "outputs": []
    },
    {
      "cell_type": "markdown",
      "metadata": {
        "id": "BxGO175j3XZx",
        "colab_type": "text"
      },
      "source": [
        "無論使用-1~1的minmax，或是多層神經元。都有overfitting的現象。但是即便是原有的train程式也是長一樣。"
      ]
    },
    {
      "cell_type": "code",
      "metadata": {
        "id": "jNiHSE4C3mo-",
        "colab_type": "code",
        "colab": {}
      },
      "source": [
        ""
      ],
      "execution_count": 0,
      "outputs": []
    }
  ]
}