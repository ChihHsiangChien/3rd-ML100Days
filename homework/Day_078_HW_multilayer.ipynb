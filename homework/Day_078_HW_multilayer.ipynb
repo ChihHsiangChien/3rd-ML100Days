{
  "nbformat": 4,
  "nbformat_minor": 0,
  "metadata": {
    "kernelspec": {
      "name": "python3",
      "display_name": "Python 3"
    },
    "language_info": {
      "codemirror_mode": {
        "name": "ipython",
        "version": 3
      },
      "file_extension": ".py",
      "mimetype": "text/x-python",
      "name": "python",
      "nbconvert_exporter": "python",
      "pygments_lexer": "ipython3",
      "version": "3.6.5"
    },
    "colab": {
      "name": "Day_078_HW_multilayer.ipynb",
      "provenance": [],
      "collapsed_sections": []
    },
    "accelerator": "GPU"
  },
  "cells": [
    {
      "cell_type": "markdown",
      "metadata": {
        "id": "Jo733gmVys9_",
        "colab_type": "text"
      },
      "source": [
        "## Work\n",
        "1. 請嘗試將 preproc_x 替換成以每筆資料的 min/max 進行標準化至 -1 ~ 1 間，再進行訓練\n",
        "2. 請嘗試將 mlp 疊更深 (e.g 5~10 層)，進行訓練後觀察 learning curve 的走勢\n",
        "3. (optional) 請改用 GPU 進行訓練 (如果你有 GPU 的話)，比較使用 CPU 與 GPU 的訓練速度"
      ]
    },
    {
      "cell_type": "code",
      "metadata": {
        "id": "FHhsYDB2ys-A",
        "colab_type": "code",
        "colab": {}
      },
      "source": [
        ""
      ],
      "execution_count": 0,
      "outputs": []
    },
    {
      "cell_type": "code",
      "metadata": {
        "id": "cFb_Ihhlys-F",
        "colab_type": "code",
        "outputId": "86d1b3f1-af51-4e2a-99a4-410387407bc6",
        "colab": {
          "base_uri": "https://localhost:8080/",
          "height": 80
        }
      },
      "source": [
        "import os\n",
        "import keras\n",
        "import numpy as np\n",
        "\n",
        "os.environ[\"CUDA_VISIBLE_DEVICES\"] = \"0\"\n"
      ],
      "execution_count": 1,
      "outputs": [
        {
          "output_type": "stream",
          "text": [
            "Using TensorFlow backend.\n"
          ],
          "name": "stderr"
        },
        {
          "output_type": "display_data",
          "data": {
            "text/html": [
              "<p style=\"color: red;\">\n",
              "The default version of TensorFlow in Colab will soon switch to TensorFlow 2.x.<br>\n",
              "We recommend you <a href=\"https://www.tensorflow.org/guide/migrate\" target=\"_blank\">upgrade</a> now \n",
              "or ensure your notebook will continue to use TensorFlow 1.x via the <code>%tensorflow_version 1.x</code> magic:\n",
              "<a href=\"https://colab.research.google.com/notebooks/tensorflow_version.ipynb\" target=\"_blank\">more info</a>.</p>\n"
            ],
            "text/plain": [
              "<IPython.core.display.HTML object>"
            ]
          },
          "metadata": {
            "tags": []
          }
        }
      ]
    },
    {
      "cell_type": "code",
      "metadata": {
        "id": "FjL5-j1Pys-K",
        "colab_type": "code",
        "outputId": "5733bfa0-782b-476d-c5ac-0ad2dd595ede",
        "colab": {
          "base_uri": "https://localhost:8080/",
          "height": 51
        }
      },
      "source": [
        "train, test = keras.datasets.cifar10.load_data()"
      ],
      "execution_count": 2,
      "outputs": [
        {
          "output_type": "stream",
          "text": [
            "Downloading data from https://www.cs.toronto.edu/~kriz/cifar-10-python.tar.gz\n",
            "170500096/170498071 [==============================] - 4s 0us/step\n"
          ],
          "name": "stdout"
        }
      ]
    },
    {
      "cell_type": "code",
      "metadata": {
        "id": "D5W3HNsiys-N",
        "colab_type": "code",
        "colab": {}
      },
      "source": [
        "## 資料前處理\n",
        "\n",
        "def preproc_x(x, flatten=True):\n",
        "    x = x / 255.\n",
        "    if flatten:\n",
        "        x = x.reshape((len(x), -1))\n",
        "    return x\n",
        "\n",
        "def preproc_y(y, num_classes=10):\n",
        "    if y.shape[-1] == 1:\n",
        "        y = keras.utils.to_categorical(y, num_classes)\n",
        "    return y  \n"
      ],
      "execution_count": 0,
      "outputs": []
    },
    {
      "cell_type": "code",
      "metadata": {
        "id": "Q06jv1sFys-Q",
        "colab_type": "code",
        "colab": {}
      },
      "source": [
        "x_train, y_train = train\n",
        "x_test, y_test = test\n",
        "\n",
        "# Preproc the inputs\n",
        "x_train = preproc_x(x_train)\n",
        "x_test = preproc_x(x_test)\n",
        "\n",
        "# Preprc the outputs\n",
        "y_train = preproc_y(y_train)\n",
        "y_test = preproc_y(y_test)"
      ],
      "execution_count": 0,
      "outputs": []
    },
    {
      "cell_type": "code",
      "metadata": {
        "id": "_J6w4EY8ys-T",
        "colab_type": "code",
        "outputId": "6252b1f3-b04f-4515-852e-5a756e940f9e",
        "colab": {
          "base_uri": "https://localhost:8080/",
          "height": 629
        }
      },
      "source": [
        "#建立神經網路\n",
        "\n",
        "def build_mlp(input_shape, output_units=10, num_neurons=[512, 256, 128, 128, 128, 128, 128, 128, 128]):\n",
        "    input_layer = keras.layers.Input(input_shape)\n",
        "    \n",
        "    for i, n_units in enumerate(num_neurons):\n",
        "        if i == 0:\n",
        "            x = keras.layers.Dense(units=n_units, activation=\"relu\", name=\"hidden_layer\"+str(i+1))(input_layer)\n",
        "        else:\n",
        "            x = keras.layers.Dense(units=n_units, activation=\"relu\", name=\"hidden_layer\"+str(i+1))(x)\n",
        "    \n",
        "    out = keras.layers.Dense(units=output_units, activation=\"softmax\", name=\"output\")(x)\n",
        "    \n",
        "    model = keras.models.Model(inputs=[input_layer], outputs=[out])\n",
        "    return model\n",
        "\n",
        "model = build_mlp(input_shape=x_train.shape[1:])\n",
        "model.summary()"
      ],
      "execution_count": 5,
      "outputs": [
        {
          "output_type": "stream",
          "text": [
            "WARNING:tensorflow:From /usr/local/lib/python3.6/dist-packages/keras/backend/tensorflow_backend.py:66: The name tf.get_default_graph is deprecated. Please use tf.compat.v1.get_default_graph instead.\n",
            "\n",
            "WARNING:tensorflow:From /usr/local/lib/python3.6/dist-packages/keras/backend/tensorflow_backend.py:541: The name tf.placeholder is deprecated. Please use tf.compat.v1.placeholder instead.\n",
            "\n",
            "WARNING:tensorflow:From /usr/local/lib/python3.6/dist-packages/keras/backend/tensorflow_backend.py:4432: The name tf.random_uniform is deprecated. Please use tf.random.uniform instead.\n",
            "\n",
            "Model: \"model_1\"\n",
            "_________________________________________________________________\n",
            "Layer (type)                 Output Shape              Param #   \n",
            "=================================================================\n",
            "input_1 (InputLayer)         (None, 3072)              0         \n",
            "_________________________________________________________________\n",
            "hidden_layer1 (Dense)        (None, 512)               1573376   \n",
            "_________________________________________________________________\n",
            "hidden_layer2 (Dense)        (None, 256)               131328    \n",
            "_________________________________________________________________\n",
            "hidden_layer3 (Dense)        (None, 128)               32896     \n",
            "_________________________________________________________________\n",
            "hidden_layer4 (Dense)        (None, 128)               16512     \n",
            "_________________________________________________________________\n",
            "hidden_layer5 (Dense)        (None, 128)               16512     \n",
            "_________________________________________________________________\n",
            "hidden_layer6 (Dense)        (None, 128)               16512     \n",
            "_________________________________________________________________\n",
            "hidden_layer7 (Dense)        (None, 128)               16512     \n",
            "_________________________________________________________________\n",
            "hidden_layer8 (Dense)        (None, 128)               16512     \n",
            "_________________________________________________________________\n",
            "hidden_layer9 (Dense)        (None, 128)               16512     \n",
            "_________________________________________________________________\n",
            "output (Dense)               (None, 10)                1290      \n",
            "=================================================================\n",
            "Total params: 1,837,962\n",
            "Trainable params: 1,837,962\n",
            "Non-trainable params: 0\n",
            "_________________________________________________________________\n"
          ],
          "name": "stdout"
        }
      ]
    },
    {
      "cell_type": "code",
      "metadata": {
        "id": "J4Mivur-ys-X",
        "colab_type": "code",
        "colab": {}
      },
      "source": [
        "## 超參數設定\n",
        "LEARNING_RATE = 0.001\n",
        "EPOCHS = 100\n",
        "BATCH_SIZE = 256"
      ],
      "execution_count": 0,
      "outputs": []
    },
    {
      "cell_type": "code",
      "metadata": {
        "id": "R3fCjoDxys-a",
        "colab_type": "code",
        "outputId": "d86a3226-9440-4061-ceaa-80696fbf2486",
        "colab": {
          "base_uri": "https://localhost:8080/",
          "height": 85
        }
      },
      "source": [
        "optimizer = keras.optimizers.Adam(lr=LEARNING_RATE)\n",
        "model.compile(loss=\"categorical_crossentropy\", metrics=[\"accuracy\"], optimizer=optimizer)"
      ],
      "execution_count": 7,
      "outputs": [
        {
          "output_type": "stream",
          "text": [
            "WARNING:tensorflow:From /usr/local/lib/python3.6/dist-packages/keras/optimizers.py:793: The name tf.train.Optimizer is deprecated. Please use tf.compat.v1.train.Optimizer instead.\n",
            "\n",
            "WARNING:tensorflow:From /usr/local/lib/python3.6/dist-packages/keras/backend/tensorflow_backend.py:3576: The name tf.log is deprecated. Please use tf.math.log instead.\n",
            "\n"
          ],
          "name": "stdout"
        }
      ]
    },
    {
      "cell_type": "code",
      "metadata": {
        "id": "8uITxlFcys-d",
        "colab_type": "code",
        "outputId": "33c04b01-9fd2-4645-cf0f-d1f0fe088b45",
        "colab": {
          "base_uri": "https://localhost:8080/",
          "height": 1000
        }
      },
      "source": [
        "model.fit(x_train, y_train, \n",
        "          epochs=EPOCHS, \n",
        "          batch_size=BATCH_SIZE, \n",
        "          validation_data=(x_test, y_test), \n",
        "          shuffle=True)"
      ],
      "execution_count": 8,
      "outputs": [
        {
          "output_type": "stream",
          "text": [
            "WARNING:tensorflow:From /usr/local/lib/python3.6/dist-packages/tensorflow_core/python/ops/math_grad.py:1424: where (from tensorflow.python.ops.array_ops) is deprecated and will be removed in a future version.\n",
            "Instructions for updating:\n",
            "Use tf.where in 2.0, which has the same broadcast rule as np.where\n",
            "WARNING:tensorflow:From /usr/local/lib/python3.6/dist-packages/keras/backend/tensorflow_backend.py:1033: The name tf.assign_add is deprecated. Please use tf.compat.v1.assign_add instead.\n",
            "\n",
            "WARNING:tensorflow:From /usr/local/lib/python3.6/dist-packages/keras/backend/tensorflow_backend.py:1020: The name tf.assign is deprecated. Please use tf.compat.v1.assign instead.\n",
            "\n",
            "WARNING:tensorflow:From /usr/local/lib/python3.6/dist-packages/keras/backend/tensorflow_backend.py:3005: The name tf.Session is deprecated. Please use tf.compat.v1.Session instead.\n",
            "\n",
            "Train on 50000 samples, validate on 10000 samples\n",
            "Epoch 1/100\n",
            "WARNING:tensorflow:From /usr/local/lib/python3.6/dist-packages/keras/backend/tensorflow_backend.py:190: The name tf.get_default_session is deprecated. Please use tf.compat.v1.get_default_session instead.\n",
            "\n",
            "WARNING:tensorflow:From /usr/local/lib/python3.6/dist-packages/keras/backend/tensorflow_backend.py:197: The name tf.ConfigProto is deprecated. Please use tf.compat.v1.ConfigProto instead.\n",
            "\n",
            "WARNING:tensorflow:From /usr/local/lib/python3.6/dist-packages/keras/backend/tensorflow_backend.py:207: The name tf.global_variables is deprecated. Please use tf.compat.v1.global_variables instead.\n",
            "\n",
            "WARNING:tensorflow:From /usr/local/lib/python3.6/dist-packages/keras/backend/tensorflow_backend.py:216: The name tf.is_variable_initialized is deprecated. Please use tf.compat.v1.is_variable_initialized instead.\n",
            "\n",
            "WARNING:tensorflow:From /usr/local/lib/python3.6/dist-packages/keras/backend/tensorflow_backend.py:223: The name tf.variables_initializer is deprecated. Please use tf.compat.v1.variables_initializer instead.\n",
            "\n",
            "50000/50000 [==============================] - 6s 127us/step - loss: 1.9905 - acc: 0.2554 - val_loss: 1.9256 - val_acc: 0.3042\n",
            "Epoch 2/100\n",
            "50000/50000 [==============================] - 2s 38us/step - loss: 1.7776 - acc: 0.3551 - val_loss: 1.7748 - val_acc: 0.3533\n",
            "Epoch 3/100\n",
            "50000/50000 [==============================] - 2s 37us/step - loss: 1.7006 - acc: 0.3849 - val_loss: 1.7037 - val_acc: 0.3803\n",
            "Epoch 4/100\n",
            "50000/50000 [==============================] - 2s 38us/step - loss: 1.6310 - acc: 0.4115 - val_loss: 1.5899 - val_acc: 0.4305\n",
            "Epoch 5/100\n",
            "50000/50000 [==============================] - 2s 38us/step - loss: 1.5746 - acc: 0.4329 - val_loss: 1.5967 - val_acc: 0.4301\n",
            "Epoch 6/100\n",
            "50000/50000 [==============================] - 2s 39us/step - loss: 1.5296 - acc: 0.4517 - val_loss: 1.5146 - val_acc: 0.4556\n",
            "Epoch 7/100\n",
            "50000/50000 [==============================] - 2s 39us/step - loss: 1.4900 - acc: 0.4660 - val_loss: 1.5118 - val_acc: 0.4573\n",
            "Epoch 8/100\n",
            "50000/50000 [==============================] - 2s 39us/step - loss: 1.4606 - acc: 0.4764 - val_loss: 1.4948 - val_acc: 0.4700\n",
            "Epoch 9/100\n",
            "50000/50000 [==============================] - 2s 38us/step - loss: 1.4342 - acc: 0.4843 - val_loss: 1.4819 - val_acc: 0.4768\n",
            "Epoch 10/100\n",
            "50000/50000 [==============================] - 2s 37us/step - loss: 1.4132 - acc: 0.4923 - val_loss: 1.4597 - val_acc: 0.4809\n",
            "Epoch 11/100\n",
            "50000/50000 [==============================] - 2s 37us/step - loss: 1.3775 - acc: 0.5072 - val_loss: 1.4478 - val_acc: 0.4774\n",
            "Epoch 12/100\n",
            "50000/50000 [==============================] - 2s 37us/step - loss: 1.3667 - acc: 0.5102 - val_loss: 1.4450 - val_acc: 0.4860\n",
            "Epoch 13/100\n",
            "50000/50000 [==============================] - 2s 37us/step - loss: 1.3341 - acc: 0.5201 - val_loss: 1.4138 - val_acc: 0.5055\n",
            "Epoch 14/100\n",
            "50000/50000 [==============================] - 2s 37us/step - loss: 1.3103 - acc: 0.5307 - val_loss: 1.4974 - val_acc: 0.4707\n",
            "Epoch 15/100\n",
            "50000/50000 [==============================] - 2s 38us/step - loss: 1.2947 - acc: 0.5358 - val_loss: 1.4514 - val_acc: 0.4873\n",
            "Epoch 16/100\n",
            "50000/50000 [==============================] - 2s 37us/step - loss: 1.2694 - acc: 0.5452 - val_loss: 1.4043 - val_acc: 0.5078\n",
            "Epoch 17/100\n",
            "50000/50000 [==============================] - 2s 38us/step - loss: 1.2536 - acc: 0.5497 - val_loss: 1.4026 - val_acc: 0.5067\n",
            "Epoch 18/100\n",
            "50000/50000 [==============================] - 2s 38us/step - loss: 1.2308 - acc: 0.5600 - val_loss: 1.4016 - val_acc: 0.5113\n",
            "Epoch 19/100\n",
            "50000/50000 [==============================] - 2s 38us/step - loss: 1.2116 - acc: 0.5646 - val_loss: 1.4242 - val_acc: 0.5088\n",
            "Epoch 20/100\n",
            "50000/50000 [==============================] - 2s 38us/step - loss: 1.1881 - acc: 0.5727 - val_loss: 1.4093 - val_acc: 0.5134\n",
            "Epoch 21/100\n",
            "50000/50000 [==============================] - 2s 38us/step - loss: 1.1614 - acc: 0.5824 - val_loss: 1.4794 - val_acc: 0.4915\n",
            "Epoch 22/100\n",
            "50000/50000 [==============================] - 2s 38us/step - loss: 1.1524 - acc: 0.5859 - val_loss: 1.4076 - val_acc: 0.5187\n",
            "Epoch 23/100\n",
            "50000/50000 [==============================] - 2s 38us/step - loss: 1.1220 - acc: 0.5983 - val_loss: 1.3747 - val_acc: 0.5250\n",
            "Epoch 24/100\n",
            "50000/50000 [==============================] - 2s 39us/step - loss: 1.1095 - acc: 0.6006 - val_loss: 1.4234 - val_acc: 0.5159\n",
            "Epoch 25/100\n",
            "50000/50000 [==============================] - 2s 37us/step - loss: 1.0897 - acc: 0.6060 - val_loss: 1.4432 - val_acc: 0.5136\n",
            "Epoch 26/100\n",
            "50000/50000 [==============================] - 2s 37us/step - loss: 1.0712 - acc: 0.6147 - val_loss: 1.4208 - val_acc: 0.5184\n",
            "Epoch 27/100\n",
            "50000/50000 [==============================] - 2s 38us/step - loss: 1.0681 - acc: 0.6151 - val_loss: 1.4439 - val_acc: 0.5147\n",
            "Epoch 28/100\n",
            "50000/50000 [==============================] - 2s 38us/step - loss: 1.0405 - acc: 0.6241 - val_loss: 1.4398 - val_acc: 0.5120\n",
            "Epoch 29/100\n",
            "50000/50000 [==============================] - 2s 37us/step - loss: 1.0121 - acc: 0.6344 - val_loss: 1.4435 - val_acc: 0.5160\n",
            "Epoch 30/100\n",
            "50000/50000 [==============================] - 2s 36us/step - loss: 1.0043 - acc: 0.6376 - val_loss: 1.4409 - val_acc: 0.5207\n",
            "Epoch 31/100\n",
            "50000/50000 [==============================] - 2s 37us/step - loss: 0.9876 - acc: 0.6413 - val_loss: 1.4992 - val_acc: 0.5060\n",
            "Epoch 32/100\n",
            "50000/50000 [==============================] - 2s 38us/step - loss: 0.9595 - acc: 0.6519 - val_loss: 1.4929 - val_acc: 0.5156\n",
            "Epoch 33/100\n",
            "50000/50000 [==============================] - 2s 37us/step - loss: 0.9621 - acc: 0.6524 - val_loss: 1.4844 - val_acc: 0.5213\n",
            "Epoch 34/100\n",
            "50000/50000 [==============================] - 2s 37us/step - loss: 0.9440 - acc: 0.6581 - val_loss: 1.4761 - val_acc: 0.5185\n",
            "Epoch 35/100\n",
            "50000/50000 [==============================] - 2s 38us/step - loss: 0.9236 - acc: 0.6645 - val_loss: 1.4854 - val_acc: 0.5178\n",
            "Epoch 36/100\n",
            "50000/50000 [==============================] - 2s 38us/step - loss: 0.9111 - acc: 0.6715 - val_loss: 1.5035 - val_acc: 0.5258\n",
            "Epoch 37/100\n",
            "50000/50000 [==============================] - 2s 38us/step - loss: 0.8866 - acc: 0.6772 - val_loss: 1.5180 - val_acc: 0.5229\n",
            "Epoch 38/100\n",
            "50000/50000 [==============================] - 2s 38us/step - loss: 0.8805 - acc: 0.6810 - val_loss: 1.5062 - val_acc: 0.5207\n",
            "Epoch 39/100\n",
            "50000/50000 [==============================] - 2s 38us/step - loss: 0.8452 - acc: 0.6925 - val_loss: 1.5450 - val_acc: 0.5174\n",
            "Epoch 40/100\n",
            "50000/50000 [==============================] - 2s 39us/step - loss: 0.8453 - acc: 0.6927 - val_loss: 1.5667 - val_acc: 0.5207\n",
            "Epoch 41/100\n",
            "50000/50000 [==============================] - 2s 37us/step - loss: 0.8363 - acc: 0.6957 - val_loss: 1.5897 - val_acc: 0.5028\n",
            "Epoch 42/100\n",
            "50000/50000 [==============================] - 2s 38us/step - loss: 0.8363 - acc: 0.6946 - val_loss: 1.6011 - val_acc: 0.5205\n",
            "Epoch 43/100\n",
            "50000/50000 [==============================] - 2s 37us/step - loss: 0.8120 - acc: 0.7062 - val_loss: 1.6317 - val_acc: 0.5177\n",
            "Epoch 44/100\n",
            "50000/50000 [==============================] - 2s 37us/step - loss: 0.7833 - acc: 0.7183 - val_loss: 1.6295 - val_acc: 0.5121\n",
            "Epoch 45/100\n",
            "50000/50000 [==============================] - 2s 37us/step - loss: 0.7792 - acc: 0.7154 - val_loss: 1.6429 - val_acc: 0.5062\n",
            "Epoch 46/100\n",
            "50000/50000 [==============================] - 2s 37us/step - loss: 0.7628 - acc: 0.7228 - val_loss: 1.6765 - val_acc: 0.5090\n",
            "Epoch 47/100\n",
            "50000/50000 [==============================] - 2s 39us/step - loss: 0.7645 - acc: 0.7221 - val_loss: 1.7140 - val_acc: 0.5083\n",
            "Epoch 48/100\n",
            "50000/50000 [==============================] - 2s 38us/step - loss: 0.7392 - acc: 0.7326 - val_loss: 1.7987 - val_acc: 0.5134\n",
            "Epoch 49/100\n",
            "50000/50000 [==============================] - 2s 39us/step - loss: 0.7363 - acc: 0.7355 - val_loss: 1.7543 - val_acc: 0.5135\n",
            "Epoch 50/100\n",
            "50000/50000 [==============================] - 2s 39us/step - loss: 0.7160 - acc: 0.7398 - val_loss: 1.7746 - val_acc: 0.5182\n",
            "Epoch 51/100\n",
            "50000/50000 [==============================] - 2s 39us/step - loss: 0.7032 - acc: 0.7443 - val_loss: 1.8349 - val_acc: 0.5076\n",
            "Epoch 52/100\n",
            "50000/50000 [==============================] - 2s 39us/step - loss: 0.6891 - acc: 0.7490 - val_loss: 1.8900 - val_acc: 0.5078\n",
            "Epoch 53/100\n",
            "50000/50000 [==============================] - 2s 36us/step - loss: 0.6961 - acc: 0.7469 - val_loss: 1.8329 - val_acc: 0.5097\n",
            "Epoch 54/100\n",
            "50000/50000 [==============================] - 2s 38us/step - loss: 0.6812 - acc: 0.7532 - val_loss: 1.8409 - val_acc: 0.5133\n",
            "Epoch 55/100\n",
            "50000/50000 [==============================] - 2s 37us/step - loss: 0.6614 - acc: 0.7608 - val_loss: 1.8977 - val_acc: 0.5135\n",
            "Epoch 56/100\n",
            "50000/50000 [==============================] - 2s 39us/step - loss: 0.6519 - acc: 0.7631 - val_loss: 1.8270 - val_acc: 0.5072\n",
            "Epoch 57/100\n",
            "50000/50000 [==============================] - 2s 37us/step - loss: 0.6472 - acc: 0.7657 - val_loss: 1.9125 - val_acc: 0.5000\n",
            "Epoch 58/100\n",
            "50000/50000 [==============================] - 2s 37us/step - loss: 0.6343 - acc: 0.7698 - val_loss: 1.9241 - val_acc: 0.5063\n",
            "Epoch 59/100\n",
            "50000/50000 [==============================] - 2s 37us/step - loss: 0.6251 - acc: 0.7727 - val_loss: 1.8484 - val_acc: 0.5058\n",
            "Epoch 60/100\n",
            "50000/50000 [==============================] - 2s 38us/step - loss: 0.6137 - acc: 0.7762 - val_loss: 2.0264 - val_acc: 0.5018\n",
            "Epoch 61/100\n",
            "50000/50000 [==============================] - 2s 37us/step - loss: 0.6090 - acc: 0.7794 - val_loss: 2.0401 - val_acc: 0.5027\n",
            "Epoch 62/100\n",
            "50000/50000 [==============================] - 2s 37us/step - loss: 0.6004 - acc: 0.7824 - val_loss: 1.9655 - val_acc: 0.5085\n",
            "Epoch 63/100\n",
            "50000/50000 [==============================] - 2s 38us/step - loss: 0.5768 - acc: 0.7903 - val_loss: 2.0377 - val_acc: 0.5047\n",
            "Epoch 64/100\n",
            "50000/50000 [==============================] - 2s 38us/step - loss: 0.5845 - acc: 0.7871 - val_loss: 2.0319 - val_acc: 0.5091\n",
            "Epoch 65/100\n",
            "50000/50000 [==============================] - 2s 37us/step - loss: 0.5618 - acc: 0.7966 - val_loss: 2.1074 - val_acc: 0.5142\n",
            "Epoch 66/100\n",
            "50000/50000 [==============================] - 2s 37us/step - loss: 0.5606 - acc: 0.7972 - val_loss: 2.0581 - val_acc: 0.5024\n",
            "Epoch 67/100\n",
            "50000/50000 [==============================] - 2s 37us/step - loss: 0.5748 - acc: 0.7915 - val_loss: 2.1494 - val_acc: 0.4993\n",
            "Epoch 68/100\n",
            "50000/50000 [==============================] - 2s 37us/step - loss: 0.5490 - acc: 0.8009 - val_loss: 2.0195 - val_acc: 0.5040\n",
            "Epoch 69/100\n",
            "50000/50000 [==============================] - 2s 37us/step - loss: 0.5422 - acc: 0.8034 - val_loss: 2.0981 - val_acc: 0.5104\n",
            "Epoch 70/100\n",
            "50000/50000 [==============================] - 2s 38us/step - loss: 0.5334 - acc: 0.8062 - val_loss: 2.2365 - val_acc: 0.4965\n",
            "Epoch 71/100\n",
            "50000/50000 [==============================] - 2s 37us/step - loss: 0.5300 - acc: 0.8097 - val_loss: 2.1330 - val_acc: 0.5020\n",
            "Epoch 72/100\n",
            "50000/50000 [==============================] - 2s 38us/step - loss: 0.5321 - acc: 0.8088 - val_loss: 2.2991 - val_acc: 0.4983\n",
            "Epoch 73/100\n",
            "50000/50000 [==============================] - 2s 37us/step - loss: 0.5120 - acc: 0.8156 - val_loss: 2.2069 - val_acc: 0.4987\n",
            "Epoch 74/100\n",
            "50000/50000 [==============================] - 2s 37us/step - loss: 0.4992 - acc: 0.8203 - val_loss: 2.1879 - val_acc: 0.5047\n",
            "Epoch 75/100\n",
            "50000/50000 [==============================] - 2s 37us/step - loss: 0.4972 - acc: 0.8206 - val_loss: 2.2569 - val_acc: 0.5005\n",
            "Epoch 76/100\n",
            "50000/50000 [==============================] - 2s 38us/step - loss: 0.4998 - acc: 0.8184 - val_loss: 2.1362 - val_acc: 0.5073\n",
            "Epoch 77/100\n",
            "50000/50000 [==============================] - 2s 37us/step - loss: 0.4687 - acc: 0.8311 - val_loss: 2.4419 - val_acc: 0.4923\n",
            "Epoch 78/100\n",
            "50000/50000 [==============================] - 2s 38us/step - loss: 0.5020 - acc: 0.8193 - val_loss: 2.3024 - val_acc: 0.5048\n",
            "Epoch 79/100\n",
            "50000/50000 [==============================] - 2s 38us/step - loss: 0.4733 - acc: 0.8294 - val_loss: 2.3572 - val_acc: 0.5063\n",
            "Epoch 80/100\n",
            "50000/50000 [==============================] - 2s 38us/step - loss: 0.4738 - acc: 0.8294 - val_loss: 2.3403 - val_acc: 0.4975\n",
            "Epoch 81/100\n",
            "50000/50000 [==============================] - 2s 37us/step - loss: 0.4663 - acc: 0.8338 - val_loss: 2.2631 - val_acc: 0.4993\n",
            "Epoch 82/100\n",
            "50000/50000 [==============================] - 2s 38us/step - loss: 0.4556 - acc: 0.8364 - val_loss: 2.3871 - val_acc: 0.4958\n",
            "Epoch 83/100\n",
            "50000/50000 [==============================] - 2s 37us/step - loss: 0.4607 - acc: 0.8351 - val_loss: 2.3211 - val_acc: 0.5051\n",
            "Epoch 84/100\n",
            "50000/50000 [==============================] - 2s 38us/step - loss: 0.4420 - acc: 0.8397 - val_loss: 2.4599 - val_acc: 0.4926\n",
            "Epoch 85/100\n",
            "50000/50000 [==============================] - 2s 37us/step - loss: 0.4501 - acc: 0.8399 - val_loss: 2.3937 - val_acc: 0.5021\n",
            "Epoch 86/100\n",
            "50000/50000 [==============================] - 2s 38us/step - loss: 0.4444 - acc: 0.8392 - val_loss: 2.4214 - val_acc: 0.4969\n",
            "Epoch 87/100\n",
            "50000/50000 [==============================] - 2s 37us/step - loss: 0.4495 - acc: 0.8378 - val_loss: 2.4672 - val_acc: 0.5033\n",
            "Epoch 88/100\n",
            "50000/50000 [==============================] - 2s 38us/step - loss: 0.4474 - acc: 0.8406 - val_loss: 2.4244 - val_acc: 0.4897\n",
            "Epoch 89/100\n",
            "50000/50000 [==============================] - 2s 37us/step - loss: 0.4180 - acc: 0.8504 - val_loss: 2.5125 - val_acc: 0.4942\n",
            "Epoch 90/100\n",
            "50000/50000 [==============================] - 2s 38us/step - loss: 0.4275 - acc: 0.8451 - val_loss: 2.5097 - val_acc: 0.5006\n",
            "Epoch 91/100\n",
            "50000/50000 [==============================] - 2s 37us/step - loss: 0.4109 - acc: 0.8548 - val_loss: 2.4064 - val_acc: 0.4967\n",
            "Epoch 92/100\n",
            "50000/50000 [==============================] - 2s 37us/step - loss: 0.4036 - acc: 0.8539 - val_loss: 2.5764 - val_acc: 0.4964\n",
            "Epoch 93/100\n",
            "50000/50000 [==============================] - 2s 38us/step - loss: 0.4145 - acc: 0.8526 - val_loss: 2.5555 - val_acc: 0.4970\n",
            "Epoch 94/100\n",
            "50000/50000 [==============================] - 2s 37us/step - loss: 0.4126 - acc: 0.8517 - val_loss: 2.4182 - val_acc: 0.5077\n",
            "Epoch 95/100\n",
            "50000/50000 [==============================] - 2s 38us/step - loss: 0.4160 - acc: 0.8526 - val_loss: 2.3678 - val_acc: 0.4894\n",
            "Epoch 96/100\n",
            "50000/50000 [==============================] - 2s 37us/step - loss: 0.4148 - acc: 0.8511 - val_loss: 2.5206 - val_acc: 0.5021\n",
            "Epoch 97/100\n",
            "50000/50000 [==============================] - 2s 37us/step - loss: 0.3956 - acc: 0.8590 - val_loss: 2.5298 - val_acc: 0.5057\n",
            "Epoch 98/100\n",
            "50000/50000 [==============================] - 2s 37us/step - loss: 0.3954 - acc: 0.8590 - val_loss: 2.6132 - val_acc: 0.4956\n",
            "Epoch 99/100\n",
            "50000/50000 [==============================] - 2s 37us/step - loss: 0.3897 - acc: 0.8598 - val_loss: 2.5036 - val_acc: 0.4925\n",
            "Epoch 100/100\n",
            "50000/50000 [==============================] - 2s 38us/step - loss: 0.3833 - acc: 0.8631 - val_loss: 2.5783 - val_acc: 0.4930\n"
          ],
          "name": "stdout"
        },
        {
          "output_type": "execute_result",
          "data": {
            "text/plain": [
              "<keras.callbacks.History at 0x7fd5cbad0c18>"
            ]
          },
          "metadata": {
            "tags": []
          },
          "execution_count": 8
        }
      ]
    },
    {
      "cell_type": "code",
      "metadata": {
        "id": "rUeNdm_Lys-g",
        "colab_type": "code",
        "colab": {
          "base_uri": "https://localhost:8080/",
          "height": 545
        },
        "outputId": "34426160-3de0-4e21-a763-863ec1b1bd56"
      },
      "source": [
        "import matplotlib.pyplot as plt\n",
        "\n",
        "\n",
        "train_loss = model.history.history[\"loss\"]\n",
        "valid_loss = model.history.history[\"val_loss\"]\n",
        "\n",
        "train_acc = model.history.history[\"acc\"]\n",
        "valid_acc = model.history.history[\"val_acc\"]\n",
        "\n",
        "plt.plot(range(len(train_loss)), train_loss, label=\"train loss\")\n",
        "plt.plot(range(len(valid_loss)), valid_loss, label=\"valid loss\")\n",
        "plt.legend()\n",
        "plt.title(\"Loss\")\n",
        "plt.show()\n",
        "\n",
        "plt.plot(range(len(train_acc)), train_acc, label=\"train accuracy\")\n",
        "plt.plot(range(len(valid_acc)), valid_acc, label=\"valid accuracy\")\n",
        "plt.legend()\n",
        "plt.title(\"Accuracy\")\n",
        "plt.show()"
      ],
      "execution_count": 9,
      "outputs": [
        {
          "output_type": "display_data",
          "data": {
            "image/png": "[encoded data removed]",
            "text/plain": [
              "<Figure size 432x288 with 1 Axes>"
            ]
          },
          "metadata": {
            "tags": []
          }
        },
        {
          "output_type": "display_data",
          "data": {
            "image/png": "[encoded data removed]",
            "text/plain": [
              "<Figure size 432x288 with 1 Axes>"
            ]
          },
          "metadata": {
            "tags": []
          }
        }
      ]
    },
    {
      "cell_type": "code",
      "metadata": {
        "id": "quufHJDl1dmC",
        "colab_type": "code",
        "colab": {}
      },
      "source": [
        ""
      ],
      "execution_count": 0,
      "outputs": []
    }
  ]
}