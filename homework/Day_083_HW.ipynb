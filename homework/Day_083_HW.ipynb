{
  "nbformat": 4,
  "nbformat_minor": 0,
  "metadata": {
    "kernelspec": {
      "name": "python3",
      "display_name": "Python 3"
    },
    "language_info": {
      "codemirror_mode": {
        "name": "ipython",
        "version": 3
      },
      "file_extension": ".py",
      "mimetype": "text/x-python",
      "name": "python",
      "nbconvert_exporter": "python",
      "pygments_lexer": "ipython3",
      "version": "3.6.5"
    },
    "colab": {
      "name": "Day_083_HW.ipynb",
      "provenance": []
    },
    "accelerator": "GPU"
  },
  "cells": [
    {
      "cell_type": "markdown",
      "metadata": {
        "id": "p268qMZKFINJ",
        "colab_type": "text"
      },
      "source": [
        "## Work\n",
        "1. 試比較有 BN 在 Batch_size = 2, 16, 32, 128, 256 下的差異\n",
        "2. 請嘗試將 BN 放在 Activation 之前，並比較訓練結果\n",
        "3. 請於 BN 放在 Input Layer 後，並比較結果"
      ]
    },
    {
      "cell_type": "code",
      "metadata": {
        "id": "8A5MmFcgFINN",
        "colab_type": "code",
        "colab": {}
      },
      "source": [
        "import os\n",
        "import keras\n",
        "import itertools\n",
        "# Disable GPU\n",
        "os.environ[\"CUDA_VISIBLE_DEVICES\"] = \"0\""
      ],
      "execution_count": 0,
      "outputs": []
    },
    {
      "cell_type": "code",
      "metadata": {
        "id": "AUYyClyuFINU",
        "colab_type": "code",
        "colab": {}
      },
      "source": [
        "train, test = keras.datasets.cifar10.load_data()"
      ],
      "execution_count": 0,
      "outputs": []
    },
    {
      "cell_type": "code",
      "metadata": {
        "id": "luy5M2CzFINY",
        "colab_type": "code",
        "colab": {}
      },
      "source": [
        "## 資料前處理\n",
        "def preproc_x(x, flatten=True):\n",
        "    x = x / 255.\n",
        "    if flatten:\n",
        "        x = x.reshape((len(x), -1))\n",
        "    return x\n",
        "\n",
        "def preproc_y(y, num_classes=10):\n",
        "    if y.shape[-1] == 1:\n",
        "        y = keras.utils.to_categorical(y, num_classes)\n",
        "    return y    "
      ],
      "execution_count": 0,
      "outputs": []
    },
    {
      "cell_type": "code",
      "metadata": {
        "id": "GUDccFuNFINb",
        "colab_type": "code",
        "colab": {}
      },
      "source": [
        "x_train, y_train = train\n",
        "x_test, y_test = test\n",
        "\n",
        "# Preproc the inputs\n",
        "x_train = preproc_x(x_train)\n",
        "x_test = preproc_x(x_test)\n",
        "\n",
        "# Preprc the outputs\n",
        "y_train = preproc_y(y_train)\n",
        "y_test = preproc_y(y_test)"
      ],
      "execution_count": 0,
      "outputs": []
    },
    {
      "cell_type": "code",
      "metadata": {
        "id": "yhrsi9SwFINg",
        "colab_type": "code",
        "colab": {}
      },
      "source": [
        "from keras.layers import BatchNormalization\n",
        "\n",
        "\"\"\"\n",
        "建立神經網路，並加入 BN layer\n",
        "\"\"\"\n",
        "def build_mlp(input_shape, output_units=10, num_neurons=[512, 256, 128]):\n",
        "    input_layer = keras.layers.Input(input_shape)\n",
        "    \n",
        "    for i, n_units in enumerate(num_neurons):\n",
        "        if i == 0:\n",
        "            x = keras.layers.Dense(units=n_units, \n",
        "                                   activation=\"relu\", \n",
        "                                   name=\"hidden_layer\"+str(i+1))(input_layer)\n",
        "            x = BatchNormalization()(x)\n",
        "        else:\n",
        "            x = keras.layers.Dense(units=n_units, \n",
        "                                   activation=\"relu\", \n",
        "                                   name=\"hidden_layer\"+str(i+1))(x)\n",
        "            x = BatchNormalization()(x)\n",
        "    \n",
        "    out = keras.layers.Dense(units=output_units, activation=\"softmax\", name=\"output\")(x)\n",
        "    \n",
        "    model = keras.models.Model(inputs=[input_layer], outputs=[out])\n",
        "    return model"
      ],
      "execution_count": 0,
      "outputs": []
    },
    {
      "cell_type": "code",
      "metadata": {
        "id": "14HFYj_kFINn",
        "colab_type": "code",
        "colab": {}
      },
      "source": [
        "#BN 在 Batch_size = 2, 16, 32, 128, 256 \n",
        "\n",
        "LEARNING_RATE = 1e-3\n",
        "EPOCHS = 15\n",
        "BATCH_SIZE = [2, 16, 32, 128, 256]\n",
        "MOMENTUM = 0.95"
      ],
      "execution_count": 0,
      "outputs": []
    },
    {
      "cell_type": "code",
      "metadata": {
        "scrolled": true,
        "id": "8fKugAZqFINq",
        "colab_type": "code",
        "colab": {
          "base_uri": "https://localhost:8080/",
          "height": 901
        },
        "outputId": "baeacda5-1da3-420b-e3e3-abfe8152d284"
      },
      "source": [
        "results = {}\n",
        "for bn in BATCH_SIZE:\n",
        "    keras.backend.clear_session() # 把舊的 Graph 清掉\n",
        "    print(\"Experiment with Batch_size = %s,\" % (bn))\n",
        "    model = build_mlp(input_shape=x_train.shape[1:])\n",
        "    model.summary()\n",
        "    optimizer = keras.optimizers.SGD(lr=LEARNING_RATE, nesterov=True, momentum=MOMENTUM)\n",
        "    model.compile(loss=\"categorical_crossentropy\", metrics=[\"accuracy\"], optimizer=optimizer)\n",
        "\n",
        "    model.fit(x_train, y_train, \n",
        "              epochs=EPOCHS, \n",
        "              batch_size=bn, \n",
        "              validation_data=(x_test, y_test), \n",
        "              shuffle=True)\n",
        "    \n",
        "    # Collect results\n",
        "    train_loss = model.history.history[\"loss\"]\n",
        "    valid_loss = model.history.history[\"val_loss\"]\n",
        "    train_acc = model.history.history[\"acc\"]\n",
        "    valid_acc = model.history.history[\"val_acc\"]\n",
        "    \n",
        "    exp_name_tag = \"bn:\" % (str(bn))\n",
        "    results[exp_name_tag] = {'train-loss': train_loss,\n",
        "                             'valid-loss': valid_loss,\n",
        "                             'train-acc': train_acc,\n",
        "                             'valid-acc': valid_acc}\n"
      ],
      "execution_count": 0,
      "outputs": [
        {
          "output_type": "stream",
          "text": [
            "Experiment with Batch_size = 2,\n",
            "Model: \"model_1\"\n",
            "_________________________________________________________________\n",
            "Layer (type)                 Output Shape              Param #   \n",
            "=================================================================\n",
            "input_1 (InputLayer)         (None, 3072)              0         \n",
            "_________________________________________________________________\n",
            "hidden_layer1 (Dense)        (None, 512)               1573376   \n",
            "_________________________________________________________________\n",
            "batch_normalization_1 (Batch (None, 512)               2048      \n",
            "_________________________________________________________________\n",
            "hidden_layer2 (Dense)        (None, 256)               131328    \n",
            "_________________________________________________________________\n",
            "batch_normalization_2 (Batch (None, 256)               1024      \n",
            "_________________________________________________________________\n",
            "hidden_layer3 (Dense)        (None, 128)               32896     \n",
            "_________________________________________________________________\n",
            "batch_normalization_3 (Batch (None, 128)               512       \n",
            "_________________________________________________________________\n",
            "output (Dense)               (None, 10)                1290      \n",
            "=================================================================\n",
            "Total params: 1,742,474\n",
            "Trainable params: 1,740,682\n",
            "Non-trainable params: 1,792\n",
            "_________________________________________________________________\n",
            "Train on 50000 samples, validate on 10000 samples\n",
            "Epoch 1/15\n",
            "50000/50000 [==============================] - 280s 6ms/step - loss: 2.3070 - acc: 0.1477 - val_loss: 2.1750 - val_acc: 0.2131\n",
            "Epoch 2/15\n",
            "50000/50000 [==============================] - 281s 6ms/step - loss: 2.2354 - acc: 0.1657 - val_loss: 2.1627 - val_acc: 0.2280\n",
            "Epoch 3/15\n",
            "50000/50000 [==============================] - 290s 6ms/step - loss: 2.2312 - acc: 0.1670 - val_loss: 2.1979 - val_acc: 0.2253\n",
            "Epoch 4/15\n",
            "50000/50000 [==============================] - 293s 6ms/step - loss: 2.2369 - acc: 0.1654 - val_loss: 2.2315 - val_acc: 0.1739\n",
            "Epoch 5/15\n",
            "50000/50000 [==============================] - 292s 6ms/step - loss: 2.2432 - acc: 0.1612 - val_loss: 2.3476 - val_acc: 0.1625\n",
            "Epoch 6/15\n",
            "50000/50000 [==============================] - 292s 6ms/step - loss: 2.2375 - acc: 0.1625 - val_loss: 2.5475 - val_acc: 0.1539\n",
            "Epoch 7/15\n",
            "50000/50000 [==============================] - 298s 6ms/step - loss: 2.2462 - acc: 0.1549 - val_loss: 2.6094 - val_acc: 0.1645\n",
            "Epoch 8/15\n",
            "50000/50000 [==============================] - 292s 6ms/step - loss: 2.2437 - acc: 0.1600 - val_loss: 2.8050 - val_acc: 0.2007\n",
            "Epoch 9/15\n",
            "50000/50000 [==============================] - 292s 6ms/step - loss: 2.2413 - acc: 0.1578 - val_loss: 2.7072 - val_acc: 0.1737\n",
            "Epoch 10/15\n",
            "50000/50000 [==============================] - 286s 6ms/step - loss: 2.2362 - acc: 0.1637 - val_loss: 2.7669 - val_acc: 0.2073\n",
            "Epoch 11/15\n",
            "50000/50000 [==============================] - 281s 6ms/step - loss: 2.2345 - acc: 0.1676 - val_loss: 2.7394 - val_acc: 0.2037\n",
            "Epoch 12/15\n",
            "50000/50000 [==============================] - 280s 6ms/step - loss: 2.2317 - acc: 0.1665 - val_loss: 2.9032 - val_acc: 0.1892\n",
            "Epoch 13/15\n",
            "26106/50000 [==============>...............] - ETA: 2:08 - loss: 2.2367 - acc: 0.1675"
          ],
          "name": "stdout"
        }
      ]
    },
    {
      "cell_type": "code",
      "metadata": {
        "id": "Tdxz25TxFINt",
        "colab_type": "code",
        "colab": {}
      },
      "source": [
        "import matplotlib.pyplot as plt\n",
        "%matplotlib inline \n",
        "    \n",
        "NUM_COLORS = len(results.keys())\n",
        "cm = plt.get_cmap('gist_rainbow')\n",
        "color_bar = [cm(1.*i/NUM_COLORS) for i in range(NUM_COLORS)]\n",
        "\n",
        "plt.figure(figsize=(8,6))\n",
        "for i, cond in enumerate(results.keys()):\n",
        "    plt.plot(range(len(results[cond]['train-loss'])),results[cond]['train-loss'], '-', label=cond, color=color_bar[i])\n",
        "    plt.plot(range(len(results[cond]['valid-loss'])),results[cond]['valid-loss'], '--', label=cond, color=color_bar[i])\n",
        "plt.title(\"Loss\")\n",
        "plt.legend(loc='center left', bbox_to_anchor=(1, 0.5))\n",
        "plt.show()\n",
        "\n",
        "plt.figure(figsize=(8,6))\n",
        "for i, cond in enumerate(results.keys()):\n",
        "    plt.plot(range(len(results[cond]['train-acc'])),results[cond]['train-acc'], '-', label=cond, color=color_bar[i])\n",
        "    plt.plot(range(len(results[cond]['valid-acc'])),results[cond]['valid-acc'], '--', label=cond, color=color_bar[i])\n",
        "plt.title(\"Accuracy\")\n",
        "plt.legend(loc='center left', bbox_to_anchor=(1, 0.5))\n",
        "plt.show()\n"
      ],
      "execution_count": 0,
      "outputs": []
    },
    {
      "cell_type": "code",
      "metadata": {
        "id": "_-fX8umOtqfr",
        "colab_type": "code",
        "colab": {}
      },
      "source": [
        ""
      ],
      "execution_count": 0,
      "outputs": []
    }
  ]
}