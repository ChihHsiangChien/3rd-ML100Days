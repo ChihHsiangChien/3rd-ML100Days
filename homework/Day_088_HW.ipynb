{
  "nbformat": 4,
  "nbformat_minor": 0,
  "metadata": {
    "kernelspec": {
      "name": "python3",
      "display_name": "Python 3"
    },
    "language_info": {
      "codemirror_mode": {
        "name": "ipython",
        "version": 3
      },
      "file_extension": ".py",
      "mimetype": "text/x-python",
      "name": "python",
      "nbconvert_exporter": "python",
      "pygments_lexer": "ipython3",
      "version": "3.6.5"
    },
    "colab": {
      "name": "Day_088_HW.ipynb",
      "provenance": [],
      "collapsed_sections": []
    },
    "accelerator": "GPU"
  },
  "cells": [
    {
      "cell_type": "markdown",
      "metadata": {
        "id": "hDav-MESk3XP",
        "colab_type": "text"
      },
      "source": [
        "## Work\n",
        "1. 請嘗試寫一個 callback 用來記錄各類別在訓練過程中，對驗證集的 True Positive 與 True Negative"
      ]
    },
    {
      "cell_type": "code",
      "metadata": {
        "id": "pHPcG2ZSk3XV",
        "colab_type": "code",
        "colab": {
          "base_uri": "https://localhost:8080/",
          "height": 80
        },
        "outputId": "1f94d037-c271-4f43-82e3-4060d751b638"
      },
      "source": [
        "import os\n",
        "import keras\n",
        "\n",
        "# Disable GPU\n",
        "os.environ[\"CUDA_VISIBLE_DEVICES\"] = \"0\""
      ],
      "execution_count": 1,
      "outputs": [
        {
          "output_type": "stream",
          "text": [
            "Using TensorFlow backend.\n"
          ],
          "name": "stderr"
        },
        {
          "output_type": "display_data",
          "data": {
            "text/html": [
              "<p style=\"color: red;\">\n",
              "The default version of TensorFlow in Colab will soon switch to TensorFlow 2.x.<br>\n",
              "We recommend you <a href=\"https://www.tensorflow.org/guide/migrate\" target=\"_blank\">upgrade</a> now \n",
              "or ensure your notebook will continue to use TensorFlow 1.x via the <code>%tensorflow_version 1.x</code> magic:\n",
              "<a href=\"https://colab.research.google.com/notebooks/tensorflow_version.ipynb\" target=\"_blank\">more info</a>.</p>\n"
            ],
            "text/plain": [
              "<IPython.core.display.HTML object>"
            ]
          },
          "metadata": {
            "tags": []
          }
        }
      ]
    },
    {
      "cell_type": "code",
      "metadata": {
        "id": "Ak22MhWWk3XZ",
        "colab_type": "code",
        "colab": {
          "base_uri": "https://localhost:8080/",
          "height": 51
        },
        "outputId": "933791a1-134f-4a2e-981d-951237c589c5"
      },
      "source": [
        "train, test = keras.datasets.cifar10.load_data()"
      ],
      "execution_count": 2,
      "outputs": [
        {
          "output_type": "stream",
          "text": [
            "Downloading data from https://www.cs.toronto.edu/~kriz/cifar-10-python.tar.gz\n",
            "170500096/170498071 [==============================] - 6s 0us/step\n"
          ],
          "name": "stdout"
        }
      ]
    },
    {
      "cell_type": "code",
      "metadata": {
        "id": "fwJ4sNwJk3Xc",
        "colab_type": "code",
        "colab": {}
      },
      "source": [
        "## 資料前處理\n",
        "def preproc_x(x, flatten=True):\n",
        "    x = x / 255.\n",
        "    if flatten:\n",
        "        x = x.reshape((len(x), -1))\n",
        "    return x\n",
        "\n",
        "def preproc_y(y, num_classes=10):\n",
        "    if y.shape[-1] == 1:\n",
        "        y = keras.utils.to_categorical(y, num_classes)\n",
        "    return y    "
      ],
      "execution_count": 0,
      "outputs": []
    },
    {
      "cell_type": "code",
      "metadata": {
        "id": "OulsvYykk3Xf",
        "colab_type": "code",
        "colab": {}
      },
      "source": [
        "x_train, y_train = train\n",
        "x_test, y_test = test\n",
        "\n",
        "# Preproc the inputs\n",
        "x_train = preproc_x(x_train)\n",
        "x_test = preproc_x(x_test)\n",
        "\n",
        "# Preprc the outputs\n",
        "y_train = preproc_y(y_train)\n",
        "y_test = preproc_y(y_test)"
      ],
      "execution_count": 0,
      "outputs": []
    },
    {
      "cell_type": "code",
      "metadata": {
        "id": "AoKBll48k3Xi",
        "colab_type": "code",
        "colab": {}
      },
      "source": [
        "from keras.layers import BatchNormalization\n",
        "\n",
        "\"\"\"\n",
        "建立神經網路，並加入 BN layer\n",
        "\"\"\"\n",
        "def build_mlp(input_shape, output_units=10, num_neurons=[512, 256, 128]):\n",
        "    input_layer = keras.layers.Input(input_shape)\n",
        "    \n",
        "    for i, n_units in enumerate(num_neurons):\n",
        "        if i == 0:\n",
        "            x = keras.layers.Dense(units=n_units, \n",
        "                                   activation=\"relu\", \n",
        "                                   name=\"hidden_layer\"+str(i+1))(input_layer)\n",
        "            x = BatchNormalization()(x)\n",
        "        else:\n",
        "            x = keras.layers.Dense(units=n_units, \n",
        "                                   activation=\"relu\", \n",
        "                                   name=\"hidden_layer\"+str(i+1))(x)\n",
        "            x = BatchNormalization()(x)\n",
        "    \n",
        "    out = keras.layers.Dense(units=output_units, activation=\"softmax\", name=\"output\")(x)\n",
        "    \n",
        "    model = keras.models.Model(inputs=[input_layer], outputs=[out])\n",
        "    return model"
      ],
      "execution_count": 0,
      "outputs": []
    },
    {
      "cell_type": "code",
      "metadata": {
        "id": "1ZoFmrexk3Xp",
        "colab_type": "code",
        "colab": {}
      },
      "source": [
        "## 超參數設定\n",
        "LEARNING_RATE = 1e-3\n",
        "EPOCHS = 25\n",
        "BATCH_SIZE = 1024\n",
        "MOMENTUM = 0.95"
      ],
      "execution_count": 0,
      "outputs": []
    },
    {
      "cell_type": "code",
      "metadata": {
        "id": "Mvj1EDg6FBKD",
        "colab_type": "code",
        "colab": {}
      },
      "source": [
        ""
      ],
      "execution_count": 0,
      "outputs": []
    },
    {
      "cell_type": "code",
      "metadata": {
        "id": "Zrid9iAUk3Xs",
        "colab_type": "code",
        "colab": {}
      },
      "source": [
        "# 載入 Callbacks\n",
        "from keras.callbacks import Callback\n",
        "from sklearn.metrics import confusion_matrix\n",
        "import numpy as np\n",
        "# Record_fp_tp\n",
        "class Record_tp_tn(Callback):\n",
        "    \"\"\"Code Here\n",
        "    撰寫一個紀錄 ture positive 與 true negative 數量的 callbacks    \n",
        "    \"\"\"\n",
        "    def on_train_begin(self, epoch, logs = {}):\n",
        "        logs = logs or {}\n",
        "        record_items = [\"val_auc\", \"val_f1sc\", \"val_fp\", \"val_fn\", \"val_tp\", \"val_tn\"]\n",
        "        for i in record_items:\n",
        "            if i not in self.params['metrics']:\n",
        "                self.params['metrics'].append(i)\n",
        "    \n",
        "    def on_epoch_end(self, epoch, logs = {}, thres=0.5):\n",
        "        logs = logs or {}\n",
        "        y_true = self.validation_data[1].argmax(axis = 1)\n",
        "        y_pred = self.model.predict(self.validation_data[0])\n",
        "        y_pred = (y_pred[:, 1] >= thres) * 1\n",
        "        \n",
        "        #logs[\"val_f1sc\"] = f1_score(y_true = y_true, y_pred = y_pred, average=\"weighted\")\n",
        "        #solution from here\n",
        "        #https://stackoverflow.com/questions/31324218/scikit-learn-how-to-obtain-true-positive-true-negative-false-positive-and-fal\n",
        "        cm = confusion_matrix(y_true, y_pred)\n",
        "        fp = cm.sum(axis=0) - np.diag(cm)  \n",
        "        fn = cm.sum(axis=1) - np.diag(cm)\n",
        "        tp = np.diag(cm)\n",
        "        tn = cm.sum() - (fp + fn + tp)\n",
        "\n",
        "        logs[\"val_tp\"] = tp\n",
        "        logs[\"val_tn\"] = tn\n",
        "        \n",
        "rec_tptn = Record_tp_tn()"
      ],
      "execution_count": 0,
      "outputs": []
    },
    {
      "cell_type": "code",
      "metadata": {
        "scrolled": true,
        "id": "AATCLjk6k3Xu",
        "colab_type": "code",
        "colab": {
          "base_uri": "https://localhost:8080/",
          "height": 1000
        },
        "outputId": "33441a87-6ec6-4b7b-bb85-7dd5ec491865"
      },
      "source": [
        "model = build_mlp(input_shape=x_train.shape[1:])\n",
        "model.summary()\n",
        "optimizer = keras.optimizers.SGD(lr=LEARNING_RATE, nesterov=True, momentum=MOMENTUM)\n",
        "model.compile(loss=\"categorical_crossentropy\", metrics=[\"accuracy\"], optimizer=optimizer)\n",
        "\n",
        "\"\"\"Code Here\n",
        "將 callbacks 放入模型訓練流程中\n",
        "\"\"\"\n",
        "model.fit(x_train, y_train, \n",
        "          epochs=EPOCHS, \n",
        "          batch_size=BATCH_SIZE, \n",
        "          validation_data=(x_test, y_test), \n",
        "          shuffle=True,\n",
        "          callbacks=[rec_tptn]\n",
        "         )\n",
        "\n",
        "# Collect results\n",
        "train_loss = model.history.history[\"loss\"]\n",
        "valid_loss = model.history.history[\"val_loss\"]\n",
        "train_acc = model.history.history[\"acc\"]\n",
        "valid_acc = model.history.history[\"val_acc\"]\n",
        "\n",
        "\"\"\"Code Here\n",
        "將 tp/tn 從訓練完的模型中取出\n",
        "\"\"\"\n",
        "valid_tp = model.history.history['val_tp']\n",
        "valid_tn = model.history.history['val_tn']"
      ],
      "execution_count": 17,
      "outputs": [
        {
          "output_type": "stream",
          "text": [
            "Model: \"model_6\"\n",
            "_________________________________________________________________\n",
            "Layer (type)                 Output Shape              Param #   \n",
            "=================================================================\n",
            "input_6 (InputLayer)         (None, 3072)              0         \n",
            "_________________________________________________________________\n",
            "hidden_layer1 (Dense)        (None, 512)               1573376   \n",
            "_________________________________________________________________\n",
            "batch_normalization_16 (Batc (None, 512)               2048      \n",
            "_________________________________________________________________\n",
            "hidden_layer2 (Dense)        (None, 256)               131328    \n",
            "_________________________________________________________________\n",
            "batch_normalization_17 (Batc (None, 256)               1024      \n",
            "_________________________________________________________________\n",
            "hidden_layer3 (Dense)        (None, 128)               32896     \n",
            "_________________________________________________________________\n",
            "batch_normalization_18 (Batc (None, 128)               512       \n",
            "_________________________________________________________________\n",
            "output (Dense)               (None, 10)                1290      \n",
            "=================================================================\n",
            "Total params: 1,742,474\n",
            "Trainable params: 1,740,682\n",
            "Non-trainable params: 1,792\n",
            "_________________________________________________________________\n",
            "Train on 50000 samples, validate on 10000 samples\n",
            "Epoch 1/25\n",
            "50000/50000 [==============================] - 2s 47us/step - loss: 2.2269 - acc: 0.2657 - val_loss: 2.0881 - val_acc: 0.3135\n",
            "Epoch 2/25\n",
            "50000/50000 [==============================] - 1s 26us/step - loss: 1.7432 - acc: 0.3931 - val_loss: 1.7865 - val_acc: 0.3777\n",
            "Epoch 3/25\n",
            "50000/50000 [==============================] - 1s 24us/step - loss: 1.6228 - acc: 0.4324 - val_loss: 1.6930 - val_acc: 0.4070\n",
            "Epoch 4/25\n",
            "50000/50000 [==============================] - 1s 26us/step - loss: 1.5493 - acc: 0.4584 - val_loss: 1.6348 - val_acc: 0.4292\n",
            "Epoch 5/25\n",
            "50000/50000 [==============================] - 1s 25us/step - loss: 1.4946 - acc: 0.4780 - val_loss: 1.6009 - val_acc: 0.4353\n",
            "Epoch 6/25\n",
            "50000/50000 [==============================] - 1s 25us/step - loss: 1.4502 - acc: 0.4934 - val_loss: 1.5885 - val_acc: 0.4407\n",
            "Epoch 7/25\n",
            "50000/50000 [==============================] - 1s 25us/step - loss: 1.4105 - acc: 0.5064 - val_loss: 1.5478 - val_acc: 0.4494\n",
            "Epoch 8/25\n",
            "50000/50000 [==============================] - 1s 26us/step - loss: 1.3767 - acc: 0.5198 - val_loss: 1.5453 - val_acc: 0.4590\n",
            "Epoch 9/25\n",
            "50000/50000 [==============================] - 1s 25us/step - loss: 1.3437 - acc: 0.5309 - val_loss: 1.5305 - val_acc: 0.4581\n",
            "Epoch 10/25\n",
            "50000/50000 [==============================] - 1s 25us/step - loss: 1.3117 - acc: 0.5430 - val_loss: 1.5186 - val_acc: 0.4667\n",
            "Epoch 11/25\n",
            "50000/50000 [==============================] - 1s 25us/step - loss: 1.2838 - acc: 0.5536 - val_loss: 1.5068 - val_acc: 0.4662\n",
            "Epoch 12/25\n",
            "50000/50000 [==============================] - 1s 25us/step - loss: 1.2548 - acc: 0.5671 - val_loss: 1.4987 - val_acc: 0.4694\n",
            "Epoch 13/25\n",
            "50000/50000 [==============================] - 1s 25us/step - loss: 1.2301 - acc: 0.5739 - val_loss: 1.4984 - val_acc: 0.4780\n",
            "Epoch 14/25\n",
            "50000/50000 [==============================] - 1s 25us/step - loss: 1.2042 - acc: 0.5848 - val_loss: 1.4789 - val_acc: 0.4810\n",
            "Epoch 15/25\n",
            "50000/50000 [==============================] - 1s 26us/step - loss: 1.1780 - acc: 0.5940 - val_loss: 1.4801 - val_acc: 0.4777\n",
            "Epoch 16/25\n",
            "50000/50000 [==============================] - 1s 25us/step - loss: 1.1555 - acc: 0.6014 - val_loss: 1.4713 - val_acc: 0.4817\n",
            "Epoch 17/25\n",
            "50000/50000 [==============================] - 1s 25us/step - loss: 1.1304 - acc: 0.6110 - val_loss: 1.4659 - val_acc: 0.4906\n",
            "Epoch 18/25\n",
            "50000/50000 [==============================] - 1s 24us/step - loss: 1.1080 - acc: 0.6216 - val_loss: 1.4714 - val_acc: 0.4834\n",
            "Epoch 19/25\n",
            "50000/50000 [==============================] - 1s 25us/step - loss: 1.0858 - acc: 0.6308 - val_loss: 1.4669 - val_acc: 0.4862\n",
            "Epoch 20/25\n",
            "50000/50000 [==============================] - 1s 26us/step - loss: 1.0639 - acc: 0.6369 - val_loss: 1.4592 - val_acc: 0.4879\n",
            "Epoch 21/25\n",
            "50000/50000 [==============================] - 1s 25us/step - loss: 1.0414 - acc: 0.6484 - val_loss: 1.4607 - val_acc: 0.4927\n",
            "Epoch 22/25\n",
            "50000/50000 [==============================] - 1s 25us/step - loss: 1.0205 - acc: 0.6554 - val_loss: 1.4623 - val_acc: 0.4932\n",
            "Epoch 23/25\n",
            "50000/50000 [==============================] - 1s 24us/step - loss: 0.9979 - acc: 0.6641 - val_loss: 1.4602 - val_acc: 0.4963\n",
            "Epoch 24/25\n",
            "50000/50000 [==============================] - 1s 25us/step - loss: 0.9791 - acc: 0.6734 - val_loss: 1.4521 - val_acc: 0.5020\n",
            "Epoch 25/25\n",
            "50000/50000 [==============================] - 1s 26us/step - loss: 0.9567 - acc: 0.6808 - val_loss: 1.4755 - val_acc: 0.4929\n"
          ],
          "name": "stdout"
        }
      ]
    },
    {
      "cell_type": "code",
      "metadata": {
        "id": "Srg7VUaDk3Xx",
        "colab_type": "code",
        "colab": {
          "base_uri": "https://localhost:8080/",
          "height": 883
        },
        "outputId": "b308dfde-4a0f-4b2f-bf55-63c36f9f1da9"
      },
      "source": [
        "import matplotlib.pyplot as plt\n",
        "%matplotlib inline\n",
        "\n",
        "plt.plot(range(len(train_loss)), train_loss, label=\"train loss\")\n",
        "plt.plot(range(len(valid_loss)), valid_loss, label=\"valid loss\")\n",
        "plt.legend()\n",
        "plt.title(\"Loss\")\n",
        "plt.show()\n",
        "\n",
        "plt.plot(range(len(train_acc)), train_acc, label=\"train accuracy\")\n",
        "plt.plot(range(len(valid_acc)), valid_acc, label=\"valid accuracy\")\n",
        "plt.legend()\n",
        "plt.title(\"Accuracy\")\n",
        "plt.show()\n",
        "\n",
        "plt.plot(range(len(valid_tp)), valid_tp, label=\"valid tp\", color=\"navy\")\n",
        "plt.plot(range(len(valid_tn)), valid_tn, label=\"valid tn\", color=\"red\")\n",
        "plt.legend()\n",
        "plt.title(\"True positives and True Negatives\")\n",
        "plt.show()\n"
      ],
      "execution_count": 18,
      "outputs": [
        {
          "output_type": "display_data",
          "data": {
            "image/png": "[encoded data removed]",
            "text/plain": [
              "<Figure size 432x288 with 1 Axes>"
            ]
          },
          "metadata": {
            "tags": []
          }
        },
        {
          "output_type": "display_data",
          "data": {
            "image/png": "[encoded data removed]",
            "text/plain": [
              "<Figure size 432x288 with 1 Axes>"
            ]
          },
          "metadata": {
            "tags": []
          }
        },
        {
          "output_type": "display_data",
          "data": {
            "image/png": "[encoded data removed]",
            "text/plain": [
              "<Figure size 432x288 with 1 Axes>"
            ]
          },
          "metadata": {
            "tags": []
          }
        }
      ]
    },
    {
      "cell_type": "code",
      "metadata": {
        "id": "uSrUaQhcIkfn",
        "colab_type": "code",
        "colab": {}
      },
      "source": [
        ""
      ],
      "execution_count": 0,
      "outputs": []
    }
  ]
}