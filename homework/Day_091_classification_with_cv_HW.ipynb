{
  "nbformat": 4,
  "nbformat_minor": 0,
  "metadata": {
    "kernelspec": {
      "display_name": "Python 3",
      "language": "python",
      "name": "python3"
    },
    "language_info": {
      "codemirror_mode": {
        "name": "ipython",
        "version": 3
      },
      "file_extension": ".py",
      "mimetype": "text/x-python",
      "name": "python",
      "nbconvert_exporter": "python",
      "pygments_lexer": "ipython3",
      "version": "3.6.1"
    },
    "colab": {
      "name": "Day_091_classification_with_cv_HW.ipynb",
      "provenance": [],
      "collapsed_sections": []
    }
  },
  "cells": [
    {
      "cell_type": "markdown",
      "metadata": {
        "id": "1XqAYJlwdyTn",
        "colab_type": "text"
      },
      "source": [
        "## 範例目標\n",
        "\n",
        "* 了解如何計算傳統電腦視覺特徵 hog\n",
        "* 了解如何利用 opencv 調用 SVM\n",
        "\n",
        "## 範例重點\n",
        "* [產生 HOG 特徵的訓練資料](#產生-HOG-特徵的訓練資料)\n",
        "* [用 histogram 特徵訓練 SVM 模型](#用-histogram-特徵訓練-SVM-模型)\n",
        "* [用 HOG 特徵訓練 SVM 模型](#用-HOG-特徵訓練-SVM-模型)"
      ]
    },
    {
      "cell_type": "code",
      "metadata": {
        "id": "WxUY3K6FdyTr",
        "colab_type": "code",
        "colab": {}
      },
      "source": [
        "import os\n",
        "import keras\n",
        "os.environ[\"CUDA_VISIBLE_DEVICES\"] = \"\" # 使用 CPU\n",
        "\n",
        "import numpy as np\n",
        "import cv2 # 載入 cv2 套件\n",
        "import matplotlib.pyplot as plt\n",
        "\n",
        "train, test = keras.datasets.cifar10.load_data()"
      ],
      "execution_count": 0,
      "outputs": []
    },
    {
      "cell_type": "code",
      "metadata": {
        "id": "6vzvW9gxdyUM",
        "colab_type": "code",
        "colab": {}
      },
      "source": [
        "x_train, y_train = train\n",
        "x_test, y_test = test\n",
        "y_train = y_train.astype(int)\n",
        "y_test = y_test.astype(int)"
      ],
      "execution_count": 0,
      "outputs": []
    },
    {
      "cell_type": "markdown",
      "metadata": {
        "id": "aAa2Nvk3dyUt",
        "colab_type": "text"
      },
      "source": [
        "#### 產生直方圖特徵的訓練資料"
      ]
    },
    {
      "cell_type": "code",
      "metadata": {
        "id": "138lKbCedyUw",
        "colab_type": "code",
        "colab": {}
      },
      "source": [
        "x_train_histogram = []\n",
        "x_test_histogram = []\n",
        "\n",
        "# 對於所有訓練資料\n",
        "for i in range(len(x_train)):\n",
        "    chans = cv2.split(x_train[i]) # 把圖像的 3 個 channel 切分出來\n",
        "    # 對於所有 channel\n",
        "    hist_feature = []\n",
        "    for chan in chans:\n",
        "        # 計算該 channel 的直方圖\n",
        "        hist = cv2.calcHist([chan], [0], None, [16], [0, 256]) # 切成 16 個 bin\n",
        "        hist_feature.extend(hist.flatten())\n",
        "    # 把計算的直方圖特徵收集起來\n",
        "    x_train_histogram.append(hist_feature)\n",
        "\n",
        "# 對於所有測試資料也做一樣的處理\n",
        "for i in range(len(x_test)):\n",
        "    chans = cv2.split(x_test[i]) # 把圖像的 3 個 channel 切分出來\n",
        "    # 對於所有 channel\n",
        "    hist_feature = []\n",
        "    for chan in chans:\n",
        "        # 計算該 channel 的直方圖\n",
        "        hist = cv2.calcHist([chan], [0], None, [16], [0, 256]) # 切成 16 個 bin\n",
        "        hist_feature.extend(hist.flatten())\n",
        "    x_test_histogram.append(hist_feature)\n",
        "\n",
        "x_train_histogram = np.array(x_train_histogram)\n",
        "x_test_histogram = np.array(x_test_histogram)\n"
      ],
      "execution_count": 0,
      "outputs": []
    },
    {
      "cell_type": "markdown",
      "metadata": {
        "id": "IIjLtvHidyU0",
        "colab_type": "text"
      },
      "source": [
        "#### 產生 HOG 特徵的訓練資料\n",
        "* HOG 特徵通過計算和統計圖像局部區域的梯度方向直方圖來構建特徵，具體細節不在我們涵蓋的範圍裡面，有興趣的同學請參考[補充資料](https://www.cnblogs.com/zyly/p/9651261.html)哦"
      ]
    },
    {
      "cell_type": "code",
      "metadata": {
        "id": "fdYn6kfjdyU2",
        "colab_type": "code",
        "colab": {}
      },
      "source": [
        "# SZ=20\n",
        "bin_n = 16 # Number of bins\n",
        "\n",
        "def hog(img):\n",
        "    img = cv2.cvtColor(img, cv2.COLOR_RGB2GRAY)\n",
        "    gx = cv2.Sobel(img, cv2.CV_32F, 1, 0)\n",
        "    gy = cv2.Sobel(img, cv2.CV_32F, 0, 1)\n",
        "    mag, ang = cv2.cartToPolar(gx, gy)\n",
        "    bins = np.int32(bin_n*ang/(2*np.pi))    # quantizing binvalues in (0...16)\n",
        "    bin_cells = bins[:10,:10], bins[10:,:10], bins[:10,10:], bins[10:,10:]\n",
        "    mag_cells = mag[:10,:10], mag[10:,:10], mag[:10,10:], mag[10:,10:]\n",
        "    hists = [np.bincount(b.ravel(), m.ravel(), bin_n) for b, m in zip(bin_cells, mag_cells)]\n",
        "    hist = np.hstack(hists)     # hist is a 64 bit vector\n",
        "    return hist.astype(np.float32)\n",
        "\n",
        "x_train_hog = np.array([hog(x) for x in x_train])\n",
        "x_test_hog = np.array([hog(x) for x in x_test])"
      ],
      "execution_count": 0,
      "outputs": []
    },
    {
      "cell_type": "markdown",
      "metadata": {
        "id": "BZzdz8GWdyU8",
        "colab_type": "text"
      },
      "source": [
        "#### SVM model\n",
        "* SVM 是機器學習中一個經典的分類算法，具體細節有興趣可以參考 [該知乎上的解釋](https://www.zhihu.com/question/21094489)，我們這裡直接調用 opencv 中實現好的函數"
      ]
    },
    {
      "cell_type": "markdown",
      "metadata": {
        "id": "82woc13ndyU9",
        "colab_type": "text"
      },
      "source": [
        "#### 用 histogram 特徵訓練 SVM 模型\n",
        "* 訓練過程可能會花點時間，請等他一下"
      ]
    },
    {
      "cell_type": "code",
      "metadata": {
        "id": "ujEq3DEldyU-",
        "colab_type": "code",
        "colab": {}
      },
      "source": [
        "SVM_hist = cv2.ml.SVM_create()\n",
        "SVM_hist.setKernel(cv2.ml.SVM_LINEAR)\n",
        "SVM_hist.setGamma(5.383)\n",
        "SVM_hist.setType(cv2.ml.SVM_C_SVC)\n",
        "SVM_hist.setC(2.67)\n",
        "\n",
        "#training\n",
        "SVM_hist.train(x_train_histogram, cv2.ml.ROW_SAMPLE, y_train)\n",
        "\n",
        "# prediction\n",
        "_, y_hist_train = SVM_hist.predict(x_train_histogram)\n",
        "_, y_hist_test = SVM_hist.predict(x_test_histogram)"
      ],
      "execution_count": 0,
      "outputs": []
    },
    {
      "cell_type": "markdown",
      "metadata": {
        "id": "FXuysvQXdyVN",
        "colab_type": "text"
      },
      "source": [
        "#### 用 HOG 特徵訓練 SVM 模型\n",
        "* 訓練過程可能會花點時間，請等他一下"
      ]
    },
    {
      "cell_type": "code",
      "metadata": {
        "id": "vAIKKRmidyVO",
        "colab_type": "code",
        "colab": {}
      },
      "source": [
        "SVM_hog = cv2.ml.SVM_create()\n",
        "SVM_hog.setKernel(cv2.ml.SVM_LINEAR)\n",
        "SVM_hog.setGamma(5.383)\n",
        "SVM_hog.setType(cv2.ml.SVM_C_SVC)\n",
        "SVM_hog.setC(2.67)\n",
        "\n",
        "#training\n",
        "SVM_hog.train(x_train_hog, cv2.ml.ROW_SAMPLE, y_train)\n",
        "\n",
        "# prediction\n",
        "_, y_hog_train = SVM_hog.predict(x_train_hog)\n",
        "_, y_hog_test = SVM_hog.predict(x_test_hog)"
      ],
      "execution_count": 0,
      "outputs": []
    },
    {
      "cell_type": "markdown",
      "metadata": {
        "id": "_5Vw4lipdyVT",
        "colab_type": "text"
      },
      "source": [
        "## 作業目標\n",
        "* 嘗試比較用 color histogram 和 HOG 特徵來訓練的 SVM 分類器在 cifar10 training 和 testing data 上準確度的差別"
      ]
    },
    {
      "cell_type": "code",
      "metadata": {
        "id": "oq5gu8FsdyVV",
        "colab_type": "code",
        "colab": {}
      },
      "source": [
        "from sklearn.metrics import classification_report"
      ],
      "execution_count": 0,
      "outputs": []
    },
    {
      "cell_type": "code",
      "metadata": {
        "id": "LOwxiezwn4n_",
        "colab_type": "code",
        "colab": {
          "base_uri": "https://localhost:8080/",
          "height": 306
        },
        "outputId": "8ae5c22d-db39-4452-b23b-ecefbd210d78"
      },
      "source": [
        "print(classification_report(y_train, y_hist_train,))"
      ],
      "execution_count": 24,
      "outputs": [
        {
          "output_type": "stream",
          "text": [
            "              precision    recall  f1-score   support\n",
            "\n",
            "           0       0.13      0.40      0.20      5000\n",
            "           1       0.06      0.00      0.00      5000\n",
            "           2       0.11      0.38      0.17      5000\n",
            "           3       0.14      0.06      0.09      5000\n",
            "           4       0.15      0.06      0.08      5000\n",
            "           5       0.11      0.11      0.11      5000\n",
            "           6       0.09      0.01      0.02      5000\n",
            "           7       0.07      0.00      0.01      5000\n",
            "           8       0.14      0.17      0.15      5000\n",
            "           9       0.08      0.02      0.03      5000\n",
            "\n",
            "    accuracy                           0.12     50000\n",
            "   macro avg       0.11      0.12      0.09     50000\n",
            "weighted avg       0.11      0.12      0.09     50000\n",
            "\n"
          ],
          "name": "stdout"
        }
      ]
    },
    {
      "cell_type": "code",
      "metadata": {
        "id": "fKQXsdSAmqeO",
        "colab_type": "code",
        "colab": {
          "base_uri": "https://localhost:8080/",
          "height": 306
        },
        "outputId": "39c0b64c-6b85-45fe-87e2-c0ca98680df4"
      },
      "source": [
        "print(classification_report(y_test, y_hist_test,))"
      ],
      "execution_count": 25,
      "outputs": [
        {
          "output_type": "stream",
          "text": [
            "              precision    recall  f1-score   support\n",
            "\n",
            "           0       0.13      0.40      0.20      1000\n",
            "           1       0.04      0.00      0.00      1000\n",
            "           2       0.11      0.38      0.17      1000\n",
            "           3       0.13      0.06      0.08      1000\n",
            "           4       0.16      0.05      0.08      1000\n",
            "           5       0.12      0.12      0.12      1000\n",
            "           6       0.09      0.01      0.03      1000\n",
            "           7       0.02      0.00      0.00      1000\n",
            "           8       0.15      0.18      0.16      1000\n",
            "           9       0.06      0.01      0.02      1000\n",
            "\n",
            "    accuracy                           0.12     10000\n",
            "   macro avg       0.10      0.12      0.09     10000\n",
            "weighted avg       0.10      0.12      0.09     10000\n",
            "\n"
          ],
          "name": "stdout"
        }
      ]
    },
    {
      "cell_type": "code",
      "metadata": {
        "id": "mOmFTeOYmq3N",
        "colab_type": "code",
        "colab": {
          "base_uri": "https://localhost:8080/",
          "height": 306
        },
        "outputId": "908e2d25-e83f-4fde-b8c9-c28377c1f0ea"
      },
      "source": [
        "print(classification_report(y_train, y_hog_train,))"
      ],
      "execution_count": 26,
      "outputs": [
        {
          "output_type": "stream",
          "text": [
            "              precision    recall  f1-score   support\n",
            "\n",
            "           0       0.29      0.27      0.28      5000\n",
            "           1       0.28      0.36      0.32      5000\n",
            "           2       0.20      0.29      0.24      5000\n",
            "           3       0.08      0.05      0.06      5000\n",
            "           4       0.14      0.02      0.03      5000\n",
            "           5       0.26      0.29      0.28      5000\n",
            "           6       0.25      0.10      0.14      5000\n",
            "           7       0.16      0.42      0.23      5000\n",
            "           8       0.32      0.12      0.18      5000\n",
            "           9       0.20      0.23      0.21      5000\n",
            "\n",
            "    accuracy                           0.21     50000\n",
            "   macro avg       0.22      0.21      0.20     50000\n",
            "weighted avg       0.22      0.21      0.20     50000\n",
            "\n"
          ],
          "name": "stdout"
        }
      ]
    },
    {
      "cell_type": "code",
      "metadata": {
        "id": "gjYc1ZOdnFOY",
        "colab_type": "code",
        "colab": {
          "base_uri": "https://localhost:8080/",
          "height": 306
        },
        "outputId": "2ced9386-e281-4043-8488-a7f0a57ed93f"
      },
      "source": [
        "print(classification_report(y_test, y_hog_test,))"
      ],
      "execution_count": 27,
      "outputs": [
        {
          "output_type": "stream",
          "text": [
            "              precision    recall  f1-score   support\n",
            "\n",
            "           0       0.28      0.25      0.26      1000\n",
            "           1       0.28      0.36      0.31      1000\n",
            "           2       0.21      0.30      0.25      1000\n",
            "           3       0.11      0.06      0.08      1000\n",
            "           4       0.14      0.02      0.03      1000\n",
            "           5       0.27      0.29      0.28      1000\n",
            "           6       0.25      0.10      0.15      1000\n",
            "           7       0.17      0.44      0.24      1000\n",
            "           8       0.32      0.12      0.18      1000\n",
            "           9       0.20      0.24      0.22      1000\n",
            "\n",
            "    accuracy                           0.22     10000\n",
            "   macro avg       0.22      0.22      0.20     10000\n",
            "weighted avg       0.22      0.22      0.20     10000\n",
            "\n"
          ],
          "name": "stdout"
        }
      ]
    },
    {
      "cell_type": "code",
      "metadata": {
        "id": "QwPwVIinnGgp",
        "colab_type": "code",
        "colab": {}
      },
      "source": [
        ""
      ],
      "execution_count": 0,
      "outputs": []
    }
  ]
}