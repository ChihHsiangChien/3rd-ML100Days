{
  "nbformat": 4,
  "nbformat_minor": 0,
  "metadata": {
    "kernelspec": {
      "display_name": "Python 3",
      "language": "python",
      "name": "python3"
    },
    "language_info": {
      "codemirror_mode": {
        "name": "ipython",
        "version": 3
      },
      "file_extension": ".py",
      "mimetype": "text/x-python",
      "name": "python",
      "nbconvert_exporter": "python",
      "pygments_lexer": "ipython3",
      "version": "3.7.3"
    },
    "colab": {
      "name": "Day_092_CNN_theory.ipynb",
      "provenance": [],
      "include_colab_link": true
    }
  },
  "cells": [
    {
      "cell_type": "markdown",
      "metadata": {
        "id": "view-in-github",
        "colab_type": "text"
      },
      "source": [
        "<a href=\"https://colab.research.google.com/github/ChihHsiangChien/3rd-ML100Days/blob/master/homework/Day_092_CNN_theory.ipynb\" target=\"_parent\"><img src=\"https://colab.research.google.com/assets/colab-badge.svg\" alt=\"Open In Colab\"/></a>"
      ]
    },
    {
      "cell_type": "markdown",
      "metadata": {
        "id": "jkHZT0OJYU6V",
        "colab_type": "text"
      },
      "source": [
        "請閱讀以下文獻，理解 CNN 原理後回答問題\n",
        "- [卷積神經網路原理 - 中文](https://brohrer.mcknote.com/zh-Hant/how_machine_learning_works/how_convolutional_neural_networks_work.html)\n",
        "- [CNN for beginner’s guide](https://adeshpande3.github.io/A-Beginner%27s-Guide-To-Understanding-Convolutional-Neural-Networks/)\n",
        "\n",
        "1. 若使用總共 128 個濾波器 (filters)，對一張 256x256 的影像做完卷積後，共會得到幾張特徵圖 (feature maps)？\n",
        "2. 卷積神經網路中，濾波器的大小 (3x3 or 5x5) 與內部數字的值 (value) 是怎麼決定的呢？\n"
      ]
    },
    {
      "cell_type": "markdown",
      "metadata": {
        "id": "uEt8bmy4YU6e",
        "colab_type": "text"
      },
      "source": [
        "1. 1個濾波器得到一張特徵圖，128個濾波器就會得到128個特徵圖\n",
        "2. 數值由forward and backward 決定。大小則由人工設定"
      ]
    },
    {
      "cell_type": "code",
      "metadata": {
        "id": "Nlh4_JrNYU6i",
        "colab_type": "code",
        "colab": {}
      },
      "source": [
        ""
      ],
      "execution_count": 0,
      "outputs": []
    },
    {
      "cell_type": "markdown",
      "metadata": {
        "id": "qihqCzBTYyxl",
        "colab_type": "text"
      },
      "source": [
        "參考解答\n",
        "\n",
        "共會有 128 張特徵圖。使用一個 filter 可以得到一張特徵圖，若使用 128 個 filter 則是 128 張0\n",
        "濾波器的大小設定是超參數 (hyper-parameter)，必須要先由我們給定，目前主流模型皆是用 3x3 或 5x5；濾波器中的值則是屬於參數 (weights)，是透過訓練資料學習而來"
      ]
    },
    {
      "cell_type": "code",
      "metadata": {
        "id": "OsrLqOGMYz3b",
        "colab_type": "code",
        "colab": {}
      },
      "source": [
        ""
      ],
      "execution_count": 0,
      "outputs": []
    }
  ]
}